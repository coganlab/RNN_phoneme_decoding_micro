{
 "cells": [
  {
   "cell_type": "code",
   "execution_count": 1,
   "metadata": {},
   "outputs": [],
   "source": [
    "from tensorflow import keras\n",
    "from rnn_models import lstm_1Dcnn_model, lstm_3Dcnn_model, gru_1Dcnn_model, gru_3Dcnn_model"
   ]
  },
  {
   "cell_type": "code",
   "execution_count": 2,
   "metadata": {},
   "outputs": [],
   "source": [
    "# model parameters\n",
    "n_output = 10 # 9 phonemes + 1 blank\n",
    "n_input_time = 200 # 1 second length neural data at 200 Hz\n",
    "n_input_channel = 111 # number of significant HG channels (of 128)\n",
    "n_channel_x = 8 # number of electrode columns (8x16 grid = 128 channels)\n",
    "n_channel_y = 16 # number of electrode rows (8x16 grid = 128 channels)\n",
    "n_filters = 100\n",
    "filter_size = 2\n",
    "n_units = 500 # number of units in LSTM/GRU layers\n",
    "reg_lambda = 1e-5"
   ]
  },
  {
   "cell_type": "code",
   "execution_count": 3,
   "metadata": {},
   "outputs": [],
   "source": [
    "# training_model, inf_enc, inf_dec = lstm_1Dcnn_model(n_input_time, n_input_channel, n_output, n_filters, filter_size, n_units, reg_lambda)\n",
    "# training_model, inf_enc, inf_dec = lstm_3Dcnn_model(n_input_time, n_channel_x, n_channel_y, n_output, n_filters, filter_size, n_units, reg_lambda)\n",
    "# training_model, inf_enc, inf_dec = gru_1Dcnn_model(n_input_time, n_input_channel, n_output, n_filters, filter_size, n_units, reg_lambda)\n",
    "training_model, inf_enc, inf_dec = gru_3Dcnn_model(n_input_time, n_channel_x, n_channel_y, n_output, n_filters, filter_size, n_units, reg_lambda)"
   ]
  },
  {
   "cell_type": "code",
   "execution_count": 4,
   "metadata": {},
   "outputs": [
    {
     "name": "stdout",
     "output_type": "stream",
     "text": [
      "Model: \"training_model_final\"\n",
      "__________________________________________________________________________________________________\n",
      " Layer (type)                   Output Shape         Param #     Connected to                     \n",
      "==================================================================================================\n",
      " input_1 (InputLayer)           [(None, 8, 16, 200,  0           []                               \n",
      "                                 1)]                                                              \n",
      "                                                                                                  \n",
      " conv3d (Conv3D)                (None, 4, 8, 100, 1  900         ['input_1[0][0]']                \n",
      "                                00)                                                               \n",
      "                                                                                                  \n",
      " permute (Permute)              (None, 100, 4, 8, 1  0           ['conv3d[0][0]']                 \n",
      "                                00)                                                               \n",
      "                                                                                                  \n",
      " reshape (Reshape)              (None, 100, 3200)    0           ['permute[0][0]']                \n",
      "                                                                                                  \n",
      " input_2 (InputLayer)           [(None, None, 10)]   0           []                               \n",
      "                                                                                                  \n",
      " training_initial (Functional)  (None, None, 10)     6326010     ['reshape[0][0]',                \n",
      "                                                                  'input_2[0][0]']                \n",
      "                                                                                                  \n",
      "==================================================================================================\n",
      "Total params: 6,326,910\n",
      "Trainable params: 6,326,910\n",
      "Non-trainable params: 0\n",
      "__________________________________________________________________________________________________\n",
      "None\n",
      "Model: \"training_initial\"\n",
      "__________________________________________________________________________________________________\n",
      " Layer (type)                   Output Shape         Param #     Connected to                     \n",
      "==================================================================================================\n",
      " input_3 (InputLayer)           [(None, 100, 3200)]  0           []                               \n",
      "                                                                                                  \n",
      " input_2 (InputLayer)           [(None, None, 10)]   0           []                               \n",
      "                                                                                                  \n",
      " gru (GRU)                      [(None, 500),        5553000     ['input_3[0][0]']                \n",
      "                                 (None, 500)]                                                     \n",
      "                                                                                                  \n",
      " gru_1 (GRU)                    [(None, None, 500),  768000      ['input_2[0][0]',                \n",
      "                                 (None, 500)]                     'gru[1][1]']                    \n",
      "                                                                                                  \n",
      " dense (Dense)                  (None, None, 10)     5010        ['gru_1[1][0]']                  \n",
      "                                                                                                  \n",
      "==================================================================================================\n",
      "Total params: 6,326,010\n",
      "Trainable params: 6,326,010\n",
      "Non-trainable params: 0\n",
      "__________________________________________________________________________________________________\n",
      "None\n",
      "Model: \"inf_enc_model_final\"\n",
      "_________________________________________________________________\n",
      " Layer (type)                Output Shape              Param #   \n",
      "=================================================================\n",
      " input_1 (InputLayer)        [(None, 8, 16, 200, 1)]   0         \n",
      "                                                                 \n",
      " conv3d (Conv3D)             (None, 4, 8, 100, 100)    900       \n",
      "                                                                 \n",
      " permute (Permute)           (None, 100, 4, 8, 100)    0         \n",
      "                                                                 \n",
      " reshape (Reshape)           (None, 100, 3200)         0         \n",
      "                                                                 \n",
      " inf_enc_initial (Functional  (None, 500)              5553000   \n",
      " )                                                               \n",
      "                                                                 \n",
      "=================================================================\n",
      "Total params: 5,553,900\n",
      "Trainable params: 5,553,900\n",
      "Non-trainable params: 0\n",
      "_________________________________________________________________\n",
      "None\n",
      "Model: \"inf_enc_initial\"\n",
      "_________________________________________________________________\n",
      " Layer (type)                Output Shape              Param #   \n",
      "=================================================================\n",
      " input_4 (InputLayer)        [(None, 100, 3200)]       0         \n",
      "                                                                 \n",
      " gru (GRU)                   [(None, 500),             5553000   \n",
      "                              (None, 500)]                       \n",
      "                                                                 \n",
      "=================================================================\n",
      "Total params: 5,553,000\n",
      "Trainable params: 5,553,000\n",
      "Non-trainable params: 0\n",
      "_________________________________________________________________\n",
      "None\n",
      "Model: \"inf_dec\"\n",
      "__________________________________________________________________________________________________\n",
      " Layer (type)                   Output Shape         Param #     Connected to                     \n",
      "==================================================================================================\n",
      " input_2 (InputLayer)           [(None, None, 10)]   0           []                               \n",
      "                                                                                                  \n",
      " input_5 (InputLayer)           [(None, 500)]        0           []                               \n",
      "                                                                                                  \n",
      " gru_1 (GRU)                    [(None, None, 500),  768000      ['input_2[0][0]',                \n",
      "                                 (None, 500)]                     'input_5[0][0]']                \n",
      "                                                                                                  \n",
      " dense (Dense)                  (None, None, 10)     5010        ['gru_1[2][0]']                  \n",
      "                                                                                                  \n",
      "==================================================================================================\n",
      "Total params: 773,010\n",
      "Trainable params: 773,010\n",
      "Non-trainable params: 0\n",
      "__________________________________________________________________________________________________\n",
      "None\n"
     ]
    }
   ],
   "source": [
    "print(training_model.summary())\n",
    "print(training_model.layers[-1].summary())\n",
    "print(inf_enc.summary())\n",
    "print(inf_enc.layers[-1].summary())\n",
    "print(inf_dec.summary())"
   ]
  },
  {
   "cell_type": "code",
   "execution_count": 5,
   "metadata": {},
   "outputs": [],
   "source": [
    "training_model.compile(optimizer='rmsprop', loss=keras.losses.SparseCategoricalCrossentropy(), metrics=['accuracy'])\n",
    "\n"
   ]
  },
  {
   "cell_type": "code",
   "execution_count": 16,
   "metadata": {},
   "outputs": [
    {
     "name": "stdout",
     "output_type": "stream",
     "text": [
      "##### Initial Training Weights #####\n",
      "True\n",
      "True\n",
      "True\n",
      "##### Control: Shuffled and Initial Weights Not Equal #####\n",
      "False\n",
      "False\n",
      "True\n",
      "##### Shuffled Training Weights #####\n",
      "True\n",
      "True\n",
      "True\n"
     ]
    }
   ],
   "source": [
    "from train.train import shuffle_weights\n",
    "import numpy as np\n",
    "\n",
    "initial_train_weights = training_model.layers[-1].layers[2].get_weights()\n",
    "initial_enc_weights = inf_enc.layers[-1].layers[-1].get_weights()\n",
    "print('##### Initial Training Weights #####')\n",
    "for w in range(len(initial_train_weights)):\n",
    "    print(np.array_equal(initial_train_weights[w], initial_enc_weights[w]))\n",
    "# print(np.array_equal(initial_train_weights[0], initial_enc_weights[0]))\n",
    "\n",
    "shuffle_weights(training_model.layers[-1].layers[2])\n",
    "shuf_train_weights = training_model.layers[-1].layers[2].get_weights()\n",
    "shuf_enc_weights = inf_enc.layers[-1].layers[-1].get_weights()\n",
    "print('##### Control: Shuffled and Initial Weights Not Equal #####')\n",
    "for w in range(len(initial_train_weights)):\n",
    "    # print(np.array_equal(shuf_train_weights[w], initial_train_weights[w]) and\n",
    "    #       np.array_equal(shuf_enc_weights[w], initial_enc_weights[w]))\n",
    "    # print(np.array_equal(shuf_train_weights[w], initial_train_weights[w]))\n",
    "    print(np.array_equal(shuf_enc_weights[w], initial_enc_weights[w]))\n",
    "\n",
    "\n",
    "print('##### Shuffled Training Weights #####')\n",
    "for w in range(len(initial_train_weights)):\n",
    "    print(np.array_equal(shuf_train_weights[w], shuf_enc_weights[w]))"
   ]
  },
  {
   "cell_type": "code",
   "execution_count": 30,
   "metadata": {},
   "outputs": [
    {
     "name": "stdout",
     "output_type": "stream",
     "text": [
      "[[ 0.01910936 -0.00182319  0.00090101 ...  0.01409642 -0.02776063\n",
      "  -0.00903148]\n",
      " [ 0.0165459  -0.00401019  0.00919852 ...  0.0302639  -0.01348658\n",
      "   0.01896115]\n",
      " [-0.0254625   0.01318161  0.03321907 ...  0.01105202 -0.01236829\n",
      "   0.02774541]\n",
      " ...\n",
      " [-0.00880198  0.00288168 -0.00499636 ...  0.0319857   0.03192992\n",
      "   0.02508578]\n",
      " [-0.00305493  0.01437064 -0.0082486  ... -0.01029604  0.01168732\n",
      "   0.01807649]\n",
      " [ 0.02930294 -0.01737107 -0.02468666 ... -0.00814121 -0.03346367\n",
      "   0.01907596]]\n"
     ]
    }
   ],
   "source": []
  }
 ],
 "metadata": {
  "kernelspec": {
   "display_name": ".venv",
   "language": "python",
   "name": "python3"
  },
  "language_info": {
   "codemirror_mode": {
    "name": "ipython",
    "version": 3
   },
   "file_extension": ".py",
   "mimetype": "text/x-python",
   "name": "python",
   "nbconvert_exporter": "python",
   "pygments_lexer": "ipython3",
   "version": "3.10.5"
  },
  "orig_nbformat": 4,
  "vscode": {
   "interpreter": {
    "hash": "87761490c486e7b75ebbaa309bd4fee3d6c52b807a2e208e3ba9e3442704df3f"
   }
  }
 },
 "nbformat": 4,
 "nbformat_minor": 2
}
