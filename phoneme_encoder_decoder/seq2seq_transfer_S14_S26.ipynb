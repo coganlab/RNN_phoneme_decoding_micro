{
 "cells": [
  {
   "attachments": {},
   "cell_type": "markdown",
   "metadata": {},
   "source": [
    "### Data Loading"
   ]
  },
  {
   "cell_type": "code",
   "execution_count": 1,
   "metadata": {},
   "outputs": [],
   "source": [
    "# imports\n",
    "import numpy as np\n",
    "import matplotlib.pyplot as plt\n",
    "\n",
    "from processing_utils.feature_data_from_mat import load_subject_high_gamma"
   ]
  },
  {
   "attachments": {},
   "cell_type": "markdown",
   "metadata": {},
   "source": [
    "Load in S14 Data"
   ]
  },
  {
   "cell_type": "code",
   "execution_count": 2,
   "metadata": {},
   "outputs": [],
   "source": [
    "S14_hg_trace, S14_hg_map, S14_phon_labels = load_subject_high_gamma('S14', sig_channel=True, zscore=False)"
   ]
  },
  {
   "cell_type": "code",
   "execution_count": null,
   "metadata": {},
   "outputs": [],
   "source": [
    "print(S14_hg_trace.shape)\n",
    "print(S14_hg_map.shape)\n",
    "print(S14_phon_labels.shape)\n",
    "\n",
    "plt.figure()\n",
    "plt.plot(np.mean(S14_hg_trace, axis=0), 'grey')\n",
    "plt.plot(np.mean(np.mean(S14_hg_trace, axis=0), axis=1), 'black')\n",
    "plt.title('HG Trace by Channel')\n",
    "plt.show()"
   ]
  },
  {
   "attachments": {},
   "cell_type": "markdown",
   "metadata": {},
   "source": [
    "Load in S26 Data"
   ]
  },
  {
   "cell_type": "code",
   "execution_count": 3,
   "metadata": {},
   "outputs": [],
   "source": [
    "S26_hg_trace, S26_hg_map, S26_phon_labels = load_subject_high_gamma('S26', sig_channel=True, zscore=False)"
   ]
  },
  {
   "cell_type": "code",
   "execution_count": null,
   "metadata": {},
   "outputs": [],
   "source": [
    "print(S26_hg_trace.shape)\n",
    "print(S26_hg_map.shape)\n",
    "print(S26_phon_labels.shape)\n",
    "\n",
    "plt.figure()\n",
    "plt.plot(np.mean(S26_hg_trace, axis=0), 'grey')\n",
    "plt.plot(np.mean(np.mean(S26_hg_trace, axis=0), axis=1), 'black')\n",
    "plt.title('HG Trace by Channel')\n",
    "plt.show()"
   ]
  },
  {
   "attachments": {},
   "cell_type": "markdown",
   "metadata": {},
   "source": [
    "Load in S23 Data"
   ]
  },
  {
   "cell_type": "code",
   "execution_count": null,
   "metadata": {},
   "outputs": [],
   "source": [
    "S23_hg_trace, S23_hg_map, S23_phon_labels = load_subject_high_gamma('S23', sig_channel=False, zscore=False)"
   ]
  },
  {
   "cell_type": "code",
   "execution_count": null,
   "metadata": {},
   "outputs": [],
   "source": [
    "print(S23_hg_trace.shape)\n",
    "print(S23_hg_map.shape)\n",
    "print(S23_phon_labels.shape)\n",
    "\n",
    "plt.figure()\n",
    "plt.plot(np.mean(S23_hg_trace, axis=0), 'grey')\n",
    "plt.plot(np.mean(np.mean(S23_hg_trace, axis=0), axis=1), 'black')\n",
    "plt.title('HG Trace by Channel')\n",
    "plt.show()"
   ]
  },
  {
   "attachments": {},
   "cell_type": "markdown",
   "metadata": {},
   "source": [
    "Load in S33 Data"
   ]
  },
  {
   "cell_type": "code",
   "execution_count": null,
   "metadata": {},
   "outputs": [],
   "source": [
    "S33_hg_trace, S33_hg_map, S33_phon_labels = load_subject_high_gamma('S33', sig_channel=False, zscore=False)"
   ]
  },
  {
   "cell_type": "code",
   "execution_count": null,
   "metadata": {},
   "outputs": [],
   "source": [
    "print(S33_hg_trace.shape)\n",
    "print(S33_hg_map.shape)\n",
    "print(S33_phon_labels.shape)\n",
    "\n",
    "plt.figure()\n",
    "plt.plot(np.mean(S33_hg_trace, axis=0), 'grey')\n",
    "plt.plot(np.mean(np.mean(S33_hg_trace, axis=0), axis=1), 'black')\n",
    "plt.title('HG Trace by Channel')\n",
    "plt.show()"
   ]
  },
  {
   "attachments": {},
   "cell_type": "markdown",
   "metadata": {},
   "source": [
    "Process data for use with 1/3 D CNN Bidirectional LSTM seq2seq"
   ]
  },
  {
   "cell_type": "code",
   "execution_count": 4,
   "metadata": {},
   "outputs": [],
   "source": [
    "# imports\n",
    "from processing_utils.sequence_processing import pad_sequence_teacher_forcing"
   ]
  },
  {
   "cell_type": "code",
   "execution_count": 5,
   "metadata": {},
   "outputs": [],
   "source": [
    "# parameters\n",
    "n_output = 10"
   ]
  },
  {
   "cell_type": "code",
   "execution_count": 6,
   "metadata": {},
   "outputs": [],
   "source": [
    "X1 = S14_hg_trace  # use HG traces (n_trials, n_channels, n_timepoints) for 1D CNN\n",
    "# X1 = S14_hg_map  # use HG channel map stack (n_trials, n_channels_x, n_channels_y, n_timepoints) for 1D CNN\n",
    "X1_prior, y1, prior1_labels, seq1_labels = pad_sequence_teacher_forcing(S14_phon_labels, n_output)  # first 2 outputs one-hot encoded"
   ]
  },
  {
   "cell_type": "code",
   "execution_count": 8,
   "metadata": {},
   "outputs": [
    {
     "name": "stdout",
     "output_type": "stream",
     "text": [
      "(149, 200, 111) (149, 3, 10) (149, 3, 10) (149, 3) (149, 3)\n"
     ]
    }
   ],
   "source": [
    "print(X1.shape, X1_prior.shape, y1.shape, prior1_labels.shape, seq1_labels.shape)"
   ]
  },
  {
   "cell_type": "code",
   "execution_count": 7,
   "metadata": {},
   "outputs": [],
   "source": [
    "X2 = S26_hg_trace  # use HG traces (n_trials, n_channels, n_timepoints) for 1D CNN\n",
    "# X2 = S26_hg_map  # use HG channel map stack (n_trials, n_channels_x, n_channels_y, n_timepoints) for 1D CNN\n",
    "X2_prior, y2, prior2_labels, seq2_labels = pad_sequence_teacher_forcing(S26_phon_labels, n_output)  # first 2 outputs one-hot encoded"
   ]
  },
  {
   "cell_type": "code",
   "execution_count": 9,
   "metadata": {},
   "outputs": [
    {
     "name": "stdout",
     "output_type": "stream",
     "text": [
      "(152, 200, 111) (152, 3, 10) (152, 3, 10) (152, 3) (152, 3)\n"
     ]
    }
   ],
   "source": [
    "print(X2.shape, X2_prior.shape, y2.shape, prior2_labels.shape, seq2_labels.shape)"
   ]
  },
  {
   "cell_type": "code",
   "execution_count": null,
   "metadata": {},
   "outputs": [],
   "source": [
    "X2 = S23_hg_trace  # use HG traces (n_trials, n_channels, n_timepoints) for 1D CNN\n",
    "# X2 = S23_hg_map  # use HG channel map stack (n_trials, n_channels_x, n_channels_y, n_timepoints) for 1D CNN\n",
    "X2_prior, y2, prior2_labels, seq2_labels = pad_sequence_teacher_forcing(S23_phon_labels, n_output)  # first 2 outputs one-hot encoded"
   ]
  },
  {
   "cell_type": "code",
   "execution_count": null,
   "metadata": {},
   "outputs": [],
   "source": [
    "print(X2.shape, X2_prior.shape, y2.shape, prior2_labels.shape, seq2_labels.shape)"
   ]
  },
  {
   "cell_type": "code",
   "execution_count": null,
   "metadata": {},
   "outputs": [],
   "source": [
    "X2 = S33_hg_trace  # use HG traces (n_trials, n_channels, n_timepoints) for 1D CNN\n",
    "# X2 = S33_hg_map  # use HG channel map stack (n_trials, n_channels_x, n_channels_y, n_timepoints) for 1D CNN\n",
    "X2_prior, y2, prior2_labels, seq2_labels = pad_sequence_teacher_forcing(S33_phon_labels, n_output)  # first 2 outputs one-hot encoded"
   ]
  },
  {
   "cell_type": "code",
   "execution_count": null,
   "metadata": {},
   "outputs": [],
   "source": [
    "print(X2.shape, X2_prior.shape, y2.shape, prior2_labels.shape, seq2_labels.shape)"
   ]
  },
  {
   "attachments": {},
   "cell_type": "markdown",
   "metadata": {},
   "source": [
    "Build 1D CNN Bidirectional LSTM seq2seq Model"
   ]
  },
  {
   "cell_type": "code",
   "execution_count": 10,
   "metadata": {},
   "outputs": [],
   "source": [
    "# imports\n",
    "from seq2seq_models.rnn_models import (lstm_1Dcnn_model, gru_1Dcnn_model,\n",
    "                                       lstm_3Dcnn_model, gru_3Dcnn_model,\n",
    "                                       stacked_lstm_1Dcnn_model)"
   ]
  },
  {
   "cell_type": "code",
   "execution_count": 11,
   "metadata": {},
   "outputs": [],
   "source": [
    "# parameters\n",
    "\n",
    "# 1D CNN\n",
    "n_input_time = X1.shape[1]\n",
    "n_input_channel = X1.shape[2]\n",
    "filter_size = 10\n",
    "\n",
    "# 3D CNN\n",
    "# n_input_channel = [X1.shape[1], X1.shape[2]]\n",
    "# n_input_time = X1.shape[3]\n",
    "# filter_size = 2\n",
    "\n",
    "n_filters = 50\n",
    "n_layers = 1\n",
    "n_units = 256\n",
    "reg_lambda = 1e-6\n",
    "dropout = 0.33\n",
    "bidir = True"
   ]
  },
  {
   "cell_type": "code",
   "execution_count": 12,
   "metadata": {},
   "outputs": [],
   "source": [
    "train_model, inf_enc, inf_dec = stacked_lstm_1Dcnn_model(n_input_time, n_input_channel, n_output, n_filters, filter_size, n_layers, n_units, reg_lambda, bidir=bidir)"
   ]
  },
  {
   "cell_type": "code",
   "execution_count": 13,
   "metadata": {},
   "outputs": [
    {
     "name": "stdout",
     "output_type": "stream",
     "text": [
      "Model: \"training_lstm_final\"\n",
      "__________________________________________________________________________________________________\n",
      " Layer (type)                   Output Shape         Param #     Connected to                     \n",
      "==================================================================================================\n",
      " input_1 (InputLayer)           [(None, 200, 111)]   0           []                               \n",
      "                                                                                                  \n",
      " conv1d (Conv1D)                (None, 20, 50)       55550       ['input_1[0][0]']                \n",
      "                                                                                                  \n",
      " input_2 (InputLayer)           [(None, None, 10)]   0           []                               \n",
      "                                                                                                  \n",
      " training_lstm_initial (Functio  (None, None, 10)    904714      ['conv1d[0][0]',                 \n",
      " nal)                                                             'input_2[0][0]']                \n",
      "                                                                                                  \n",
      "==================================================================================================\n",
      "Total params: 960,264\n",
      "Trainable params: 960,264\n",
      "Non-trainable params: 0\n",
      "__________________________________________________________________________________________________\n",
      "None\n"
     ]
    }
   ],
   "source": [
    "print(train_model.summary())\n",
    "# print(train_model.layers[-1].summary())\n",
    "# print(inf_enc.summary())\n",
    "# print(inf_enc.layers[-1].summary())\n",
    "# print(inf_dec.summary())"
   ]
  },
  {
   "attachments": {},
   "cell_type": "markdown",
   "metadata": {},
   "source": [
    "### S26 Evaluation"
   ]
  },
  {
   "cell_type": "code",
   "execution_count": null,
   "metadata": {},
   "outputs": [],
   "source": [
    "import time\n",
    "from keras.optimizers import Adam\n",
    "from train.train import train_seq2seq_kfold"
   ]
  },
  {
   "cell_type": "code",
   "execution_count": null,
   "metadata": {},
   "outputs": [],
   "source": [
    "# parameters\n",
    "num_folds = 10\n",
    "num_reps = 1\n",
    "batch_size = 200\n",
    "epochs = 500\n",
    "learning_rate = 5e-6"
   ]
  },
  {
   "cell_type": "code",
   "execution_count": null,
   "metadata": {},
   "outputs": [],
   "source": [
    "train_model.compile(optimizer=Adam(learning_rate), loss='categorical_crossentropy', metrics=['accuracy'])"
   ]
  },
  {
   "cell_type": "code",
   "execution_count": null,
   "metadata": {},
   "outputs": [],
   "source": [
    "start = time.time()\n",
    "histories, y_pred_all, y_test_all = train_seq2seq_kfold(train_model, inf_enc, inf_dec, X2, X2_prior, y2,\n",
    "                                                        num_folds=num_folds, num_reps=num_reps,\n",
    "                                                        batch_size=batch_size, epochs=epochs,\n",
    "                                                        early_stop=False)\n",
    "end = time.time()"
   ]
  },
  {
   "cell_type": "code",
   "execution_count": null,
   "metadata": {},
   "outputs": [],
   "source": [
    "print(f'Time to train {num_folds} folds: {end-start} seconds')"
   ]
  },
  {
   "cell_type": "code",
   "execution_count": null,
   "metadata": {},
   "outputs": [],
   "source": [
    "from visualization.plot_model_performance import extend_history_lists\n",
    "\n",
    "histories = extend_history_lists(histories, epochs=epochs)\n",
    "\n",
    "_, (ax1, ax2) = plt.subplots(1, 2, figsize=(12, 4))\n",
    "ax1.plot(np.array(histories['loss']).T, color='blue', alpha=0.35)\n",
    "ax1.plot(np.mean(histories['loss'], axis=0), color='blue', label='Train')\n",
    "ax1.plot(np.array(histories['val_loss']).T, color='orange', alpha=0.35)\n",
    "ax1.plot(np.mean(histories['val_loss'], axis=0), color='orange', label='Test')\n",
    "ax1.set_xlabel('Epoch')\n",
    "ax1.set_ylabel('Loss')\n",
    "ax1.set_title('RNN Loss')\n",
    "ax1.legend()\n",
    "\n",
    "ax2.plot(np.array(histories['accuracy']).T, color='blue', alpha=0.35)\n",
    "ax2.plot(np.mean(histories['accuracy'], axis=0), color='blue', label='Train')\n",
    "ax2.plot(np.array(histories['val_accuracy']).T, color='orange', alpha=0.35)\n",
    "ax2.plot(np.mean(histories['val_accuracy'], axis=0), color='orange', label='Test')\n",
    "# ax2.axhline(1/(n_output-1), color='gray', linestyle='--', label='Chance')\n",
    "ax2.set_xlabel('Epoch')\n",
    "ax2.set_ylabel('Accuracy')\n",
    "ax2.set_title('RNN Accuracy')\n",
    "ax2.legend()\n",
    "\n",
    "plt.show()"
   ]
  },
  {
   "cell_type": "code",
   "execution_count": null,
   "metadata": {},
   "outputs": [],
   "source": [
    "from sklearn.metrics import balanced_accuracy_score\n",
    "\n",
    "print(f'Balanced Accuracy: {balanced_accuracy_score(y_test_all, y_pred_all)}')"
   ]
  },
  {
   "cell_type": "code",
   "execution_count": null,
   "metadata": {},
   "outputs": [],
   "source": [
    "from visualization.plot_model_performance import plot_accuracy_loss\n",
    "\n",
    "plot_accuracy_loss(histories, epochs=epochs)"
   ]
  },
  {
   "attachments": {},
   "cell_type": "markdown",
   "metadata": {},
   "source": [
    "### S33 Evaluation"
   ]
  },
  {
   "cell_type": "code",
   "execution_count": null,
   "metadata": {},
   "outputs": [],
   "source": [
    "n_input_channel_transfer = X2.shape[2]\n",
    "new_model, new_enc, new_dec = lstm_1Dcnn_model(n_input_time, n_input_channel_transfer,\n",
    "                                               n_output, n_filters, filter_size, n_units,\n",
    "                                               reg_lambda, bidir=bidir)"
   ]
  },
  {
   "cell_type": "code",
   "execution_count": null,
   "metadata": {},
   "outputs": [],
   "source": [
    "from keras.optimizers import Adam\n",
    "\n",
    "num_folds = 5\n",
    "num_reps = 3\n",
    "batch_size = 200\n",
    "epochs = 500\n",
    "learning_rate = 5e-6\n",
    "\n",
    "new_model.compile(optimizer=Adam(learning_rate), loss='categorical_crossentropy', metrics=['accuracy'])"
   ]
  },
  {
   "cell_type": "code",
   "execution_count": null,
   "metadata": {},
   "outputs": [],
   "source": [
    "from train.train import train_seq2seq_kfold\n",
    "\n",
    "histories, y_pred_all, y_test_all = train_seq2seq_kfold(new_model, new_enc, new_dec, X2, X2_prior, y2,\n",
    "                                                        num_folds=num_folds, num_reps=num_reps,\n",
    "                                                        batch_size=batch_size, epochs=epochs,\n",
    "                                                        early_stop=False)"
   ]
  },
  {
   "cell_type": "code",
   "execution_count": null,
   "metadata": {},
   "outputs": [],
   "source": [
    "_, (ax1, ax2) = plt.subplots(1, 2, figsize=(12, 4))\n",
    "ax1.plot(np.array(histories['loss']).T, color='blue', alpha=0.35)\n",
    "ax1.plot(np.mean(histories['loss'], axis=0), color='blue', label='Train')\n",
    "ax1.plot(np.array(histories['val_loss']).T, color='orange', alpha=0.35)\n",
    "ax1.plot(np.mean(histories['val_loss'], axis=0), color='orange', label='Test')\n",
    "ax1.set_xlabel('Epoch')\n",
    "ax1.set_ylabel('Loss')\n",
    "ax1.set_title('RNN Loss')\n",
    "ax1.legend()\n",
    "\n",
    "ax2.plot(np.array(histories['accuracy']).T, color='blue', alpha=0.35)\n",
    "ax2.plot(np.mean(histories['accuracy'], axis=0), color='blue', label='Train')\n",
    "ax2.plot(np.array(histories['val_accuracy']).T, color='orange', alpha=0.35)\n",
    "ax2.plot(np.mean(histories['val_accuracy'], axis=0), color='orange', label='Test')\n",
    "# ax2.axhline(1/(n_output-1), color='gray', linestyle='--', label='Chance')\n",
    "ax2.set_xlabel('Epoch')\n",
    "ax2.set_ylabel('Accuracy')\n",
    "ax2.set_title('RNN Accuracy')\n",
    "ax2.legend()\n",
    "\n",
    "plt.show()"
   ]
  },
  {
   "cell_type": "code",
   "execution_count": null,
   "metadata": {},
   "outputs": [],
   "source": [
    "from sklearn.metrics import balanced_accuracy_score\n",
    "\n",
    "print(f'Balanced Accuracy: {balanced_accuracy_score(y_test_all, y_pred_all)}')"
   ]
  },
  {
   "attachments": {},
   "cell_type": "markdown",
   "metadata": {},
   "source": [
    "### Transfer Training S14 -> S26"
   ]
  },
  {
   "cell_type": "code",
   "execution_count": null,
   "metadata": {},
   "outputs": [],
   "source": [
    "# imports\n",
    "from keras.optimizers import Adam\n",
    "from train.transfer_training import transfer_seq2seq_kfold"
   ]
  },
  {
   "cell_type": "code",
   "execution_count": null,
   "metadata": {},
   "outputs": [],
   "source": [
    "trans_model, trans_enc, trans_dec = lstm_1Dcnn_model(n_input_time, n_input_channel, n_output, n_filters, filter_size, n_units, reg_lambda, bidir=bidir, dropout=dropout)\n",
    "# trans_model, trans_enc, trans_dec = lstm_3Dcnn_model(n_input_time, n_input_channel, n_output, n_filters, filter_size, n_units, reg_lambda, bidir=bidir, dropout=dropout)\n",
    "# trans_model, trans_enc, trans_dec = gru_1Dcnn_model(n_input_time, n_input_channel, n_output, n_filters, filter_size, n_units, reg_lambda, bidir=bidir, dropout=dropout)"
   ]
  },
  {
   "cell_type": "code",
   "execution_count": null,
   "metadata": {},
   "outputs": [],
   "source": [
    "# parameters\n",
    "num_folds = 5\n",
    "batch_size = 200\n",
    "epochs = 540\n",
    "learning_rate = 1e-5\n",
    "\n",
    "trans_model.compile(optimizer=Adam(learning_rate), loss='categorical_crossentropy', metrics=['accuracy'])"
   ]
  },
  {
   "cell_type": "code",
   "execution_count": null,
   "metadata": {},
   "outputs": [],
   "source": [
    "models, histories, y_pred_all, y_test_all = transfer_seq2seq_kfold(trans_model, trans_enc, trans_dec, X1, X1_prior, y1, X2, X2_prior, y2, num_folds=num_folds, fine_tune_epochs=epochs)"
   ]
  },
  {
   "cell_type": "code",
   "execution_count": null,
   "metadata": {},
   "outputs": [],
   "source": [
    "# from visualization.plot_model_performance import extend_history_lists\n",
    "\n",
    "# histories = extend_history_lists(histories, epochs=epochs)\n",
    "\n",
    "_, (ax1, ax2) = plt.subplots(1, 2, figsize=(12, 4))\n",
    "ax1.plot(np.array(histories['loss']).T, color='blue', alpha=0.35)\n",
    "ax1.plot(np.mean(histories['loss'], axis=0), color='blue', label='Train')\n",
    "ax1.plot(np.array(histories['val_loss']).T, color='orange', alpha=0.35)\n",
    "ax1.plot(np.mean(histories['val_loss'], axis=0), color='orange', label='Test')\n",
    "ax1.set_xlabel('Epoch')\n",
    "ax1.set_ylabel('Loss')\n",
    "ax1.set_title('RNN Loss')\n",
    "ax1.legend()\n",
    "\n",
    "ax2.plot(np.array(histories['accuracy']).T, color='blue', alpha=0.35)\n",
    "ax2.plot(np.mean(histories['accuracy'], axis=0), color='blue', label='Train')\n",
    "ax2.plot(np.array(histories['val_accuracy']).T, color='orange', alpha=0.35)\n",
    "ax2.plot(np.mean(histories['val_accuracy'], axis=0), color='orange', label='Test')\n",
    "# ax2.axhline(1/(n_output-1), color='gray', linestyle='--', label='Chance')\n",
    "ax2.set_xlabel('Epoch')\n",
    "ax2.set_ylabel('Accuracy')\n",
    "ax2.set_title('RNN Accuracy')\n",
    "ax2.legend()\n",
    "\n",
    "plt.show()"
   ]
  },
  {
   "cell_type": "code",
   "execution_count": null,
   "metadata": {},
   "outputs": [],
   "source": [
    "from visualization.plot_model_performance import plot_accuracy_loss\n",
    "\n",
    "plot_accuracy_loss(histories, epochs=epochs)"
   ]
  },
  {
   "cell_type": "code",
   "execution_count": null,
   "metadata": {},
   "outputs": [],
   "source": [
    "from sklearn.metrics import balanced_accuracy_score\n",
    "\n",
    "print('Balanced Accuracy: ', balanced_accuracy_score(y_test_all, y_pred_all))"
   ]
  },
  {
   "attachments": {},
   "cell_type": "markdown",
   "metadata": {},
   "source": [
    "### Transfer Training S26 -> S14"
   ]
  },
  {
   "cell_type": "code",
   "execution_count": null,
   "metadata": {},
   "outputs": [],
   "source": [
    "# imports\n",
    "from keras.optimizers import Adam\n",
    "from train.transfer_training import transfer_seq2seq_kfold"
   ]
  },
  {
   "cell_type": "code",
   "execution_count": null,
   "metadata": {},
   "outputs": [],
   "source": [
    "trans_model, trans_enc, trans_dec = lstm_1Dcnn_model(n_input_time, n_input_channel, n_output, n_filters, filter_size, n_units, reg_lambda, bidir=bidir)"
   ]
  },
  {
   "cell_type": "code",
   "execution_count": null,
   "metadata": {},
   "outputs": [],
   "source": [
    "# parameters\n",
    "num_folds = 5\n",
    "batch_size = 200\n",
    "# epochs = 500\n",
    "learning_rate = 5e-6\n",
    "\n",
    "trans_model.compile(optimizer=Adam(learning_rate), loss='categorical_crossentropy', metrics=['accuracy'])"
   ]
  },
  {
   "cell_type": "code",
   "execution_count": null,
   "metadata": {},
   "outputs": [],
   "source": [
    "models2, histories2, y_pred2_all, y_test2_all = transfer_seq2seq_kfold(trans_model, trans_enc, trans_dec, X2, X2_prior, y2, X1, X1_prior, y1, num_folds=num_folds)"
   ]
  },
  {
   "cell_type": "code",
   "execution_count": null,
   "metadata": {},
   "outputs": [],
   "source": [
    "# from visualization.plot_model_performance import extend_history_lists\n",
    "\n",
    "# histories = extend_history_lists(histories, epochs=epochs)\n",
    "\n",
    "_, (ax1, ax2) = plt.subplots(1, 2, figsize=(12, 4))\n",
    "ax1.plot(np.array(histories2['loss']).T, color='blue', alpha=0.35)\n",
    "ax1.plot(np.mean(histories2['loss'], axis=0), color='blue', label='Train')\n",
    "ax1.plot(np.array(histories2['val_loss']).T, color='orange', alpha=0.35)\n",
    "ax1.plot(np.mean(histories2['val_loss'], axis=0), color='orange', label='Test')\n",
    "ax1.set_xlabel('Epoch')\n",
    "ax1.set_ylabel('Loss')\n",
    "ax1.set_title('RNN Loss')\n",
    "ax1.legend()\n",
    "\n",
    "ax2.plot(np.array(histories2['accuracy']).T, color='blue', alpha=0.35)\n",
    "ax2.plot(np.mean(histories2['accuracy'], axis=0), color='blue', label='Train')\n",
    "ax2.plot(np.array(histories2['val_accuracy']).T, color='orange', alpha=0.35)\n",
    "ax2.plot(np.mean(histories2['val_accuracy'], axis=0), color='orange', label='Test')\n",
    "# ax2.axhline(1/(n_output-1), color='gray', linestyle='--', label='Chance')\n",
    "ax2.set_xlabel('Epoch')\n",
    "ax2.set_ylabel('Accuracy')\n",
    "ax2.set_title('RNN Accuracy')\n",
    "ax2.legend()\n",
    "\n",
    "plt.show()"
   ]
  },
  {
   "cell_type": "code",
   "execution_count": null,
   "metadata": {},
   "outputs": [],
   "source": [
    "from visualization.plot_model_performance import plot_accuracy_loss\n",
    "\n",
    "plot_accuracy_loss(histories2, epochs=540)"
   ]
  },
  {
   "attachments": {},
   "cell_type": "markdown",
   "metadata": {},
   "source": [
    "### Transfer Training Diff Chans"
   ]
  },
  {
   "cell_type": "code",
   "execution_count": 14,
   "metadata": {},
   "outputs": [],
   "source": [
    "from train.transfer_training import transfer_seq2seq_kfold_diff_chans"
   ]
  },
  {
   "cell_type": "code",
   "execution_count": 15,
   "metadata": {},
   "outputs": [
    {
     "name": "stdout",
     "output_type": "stream",
     "text": [
      "Model: \"training_lstm_final\"\n",
      "__________________________________________________________________________________________________\n",
      " Layer (type)                   Output Shape         Param #     Connected to                     \n",
      "==================================================================================================\n",
      " input_7 (InputLayer)           [(None, 200, 111)]   0           []                               \n",
      "                                                                                                  \n",
      " conv1d_1 (Conv1D)              (None, 20, 50)       55550       ['input_7[0][0]']                \n",
      "                                                                                                  \n",
      " input_8 (InputLayer)           [(None, None, 10)]   0           []                               \n",
      "                                                                                                  \n",
      " training_lstm_initial (Functio  (None, None, 10)    904714      ['conv1d_1[0][0]',               \n",
      " nal)                                                             'input_8[0][0]']                \n",
      "                                                                                                  \n",
      "==================================================================================================\n",
      "Total params: 960,264\n",
      "Trainable params: 960,264\n",
      "Non-trainable params: 0\n",
      "__________________________________________________________________________________________________\n"
     ]
    }
   ],
   "source": [
    "n_input_channel_transfer = X2.shape[2]\n",
    "new_model, new_enc, new_dec = stacked_lstm_1Dcnn_model(n_input_time, n_input_channel_transfer,\n",
    "                                                       n_output, n_filters, filter_size, n_layers,\n",
    "                                                       n_units, reg_lambda, bidir=bidir)\n",
    "new_model.summary()"
   ]
  },
  {
   "cell_type": "code",
   "execution_count": 16,
   "metadata": {},
   "outputs": [],
   "source": [
    "from keras.optimizers import Adam\n",
    "\n",
    "num_folds = 5\n",
    "batch_size = 200\n",
    "pre_epochs = 3\n",
    "c_epochs = 2\n",
    "ft_epochs = 5\n",
    "learning_rate = 1e-3\n",
    "\n",
    "train_model.compile(optimizer=Adam(learning_rate), loss='categorical_crossentropy', metrics=['accuracy'])\n",
    "new_model.compile(optimizer=Adam(learning_rate), loss='categorical_crossentropy', metrics=['accuracy'])"
   ]
  },
  {
   "cell_type": "code",
   "execution_count": 17,
   "metadata": {},
   "outputs": [
    {
     "name": "stdout",
     "output_type": "stream",
     "text": [
      "===== Fold 1 =====\n",
      "Epoch 1/3\n",
      "1/1 [==============================] - 8s 8s/step - loss: 2.3510 - accuracy: 0.1289 - val_loss: 2.2583 - val_accuracy: 0.1556 - seq2seq_val_loss: 2.2568 - seq2seq_val_accuracy: 0.1313\n",
      "Epoch 2/3\n",
      "1/1 [==============================] - 0s 280ms/step - loss: 2.2564 - accuracy: 0.1261 - val_loss: 2.2281 - val_accuracy: 0.1000 - seq2seq_val_loss: 2.2276 - seq2seq_val_accuracy: 0.1069\n",
      "Epoch 3/3\n",
      "1/1 [==============================] - 0s 275ms/step - loss: 2.2002 - accuracy: 0.1905 - val_loss: 2.2191 - val_accuracy: 0.1222 - seq2seq_val_loss: 2.2197 - seq2seq_val_accuracy: 0.1052\n",
      "Could not transfer weights for layer input_7\n",
      "Could not transfer weights for layer conv1d_1\n",
      "Could not transfer weights for layer input_8\n",
      "Epoch 1/2\n",
      "1/1 [==============================] - 8s 8s/step - loss: 2.2182 - accuracy: 0.1267 - val_loss: 2.1932 - val_accuracy: 0.1505 - seq2seq_val_loss: 2.1950 - seq2seq_val_accuracy: 0.1106\n",
      "Epoch 2/2\n",
      "1/1 [==============================] - 0s 249ms/step - loss: 2.2078 - accuracy: 0.1488 - val_loss: 2.1907 - val_accuracy: 0.1398 - seq2seq_val_loss: 2.1924 - seq2seq_val_accuracy: 0.1015\n",
      "Epoch 1/5\n",
      "1/1 [==============================] - 7s 7s/step - loss: 2.1991 - accuracy: 0.1736 - val_loss: 2.2378 - val_accuracy: 0.1075 - seq2seq_val_loss: 2.2412 - seq2seq_val_accuracy: 0.1111\n",
      "Epoch 2/5\n",
      "1/1 [==============================] - 0s 278ms/step - loss: 2.1760 - accuracy: 0.1433 - val_loss: 2.1910 - val_accuracy: 0.1183 - seq2seq_val_loss: 2.1961 - seq2seq_val_accuracy: 0.1291\n",
      "Epoch 3/5\n",
      "1/1 [==============================] - 0s 289ms/step - loss: 2.1399 - accuracy: 0.1983 - val_loss: 2.1483 - val_accuracy: 0.1935 - seq2seq_val_loss: 2.1552 - seq2seq_val_accuracy: 0.1293\n",
      "Epoch 4/5\n",
      "1/1 [==============================] - 0s 277ms/step - loss: 2.1227 - accuracy: 0.1846 - val_loss: 2.1410 - val_accuracy: 0.2151 - seq2seq_val_loss: 2.1497 - seq2seq_val_accuracy: 0.1549\n",
      "Epoch 5/5\n",
      "1/1 [==============================] - 0s 292ms/step - loss: 2.0976 - accuracy: 0.2342 - val_loss: 2.1569 - val_accuracy: 0.1398 - seq2seq_val_loss: 2.1676 - seq2seq_val_accuracy: 0.1360\n",
      "Epoch 1/3\n",
      "1/1 [==============================] - 0s 329ms/step - loss: 2.3830 - accuracy: 0.1064 - val_loss: 2.2926 - val_accuracy: 0.1444 - seq2seq_val_loss: 2.2913 - seq2seq_val_accuracy: 0.1111\n",
      "Epoch 2/3\n",
      "1/1 [==============================] - 0s 279ms/step - loss: 2.3176 - accuracy: 0.1064 - val_loss: 2.2508 - val_accuracy: 0.1667 - seq2seq_val_loss: 2.2502 - seq2seq_val_accuracy: 0.1332\n",
      "Epoch 3/3\n",
      "1/1 [==============================] - 0s 274ms/step - loss: 2.2571 - accuracy: 0.1485 - val_loss: 2.2303 - val_accuracy: 0.1333 - seq2seq_val_loss: 2.2304 - seq2seq_val_accuracy: 0.1111\n",
      "Could not transfer weights for layer input_7\n",
      "Could not transfer weights for layer conv1d_1\n",
      "Could not transfer weights for layer input_8\n",
      "Epoch 1/2\n",
      "1/1 [==============================] - 8s 8s/step - loss: 2.2372 - accuracy: 0.1460 - val_loss: 2.2231 - val_accuracy: 0.1290 - seq2seq_val_loss: 2.2225 - seq2seq_val_accuracy: 0.1026\n",
      "Epoch 2/2\n",
      "1/1 [==============================] - 0s 244ms/step - loss: 2.2271 - accuracy: 0.1460 - val_loss: 2.2161 - val_accuracy: 0.1290 - seq2seq_val_loss: 2.2154 - seq2seq_val_accuracy: 0.1026\n",
      "Epoch 1/5\n",
      "1/1 [==============================] - 6s 6s/step - loss: 2.2195 - accuracy: 0.1460 - val_loss: 2.1924 - val_accuracy: 0.1290 - seq2seq_val_loss: 2.1933 - seq2seq_val_accuracy: 0.1120\n",
      "Epoch 2/5\n",
      "1/1 [==============================] - 0s 275ms/step - loss: 2.1736 - accuracy: 0.1736 - val_loss: 2.1776 - val_accuracy: 0.1398 - seq2seq_val_loss: 2.1804 - seq2seq_val_accuracy: 0.1309\n",
      "Epoch 3/5\n",
      "1/1 [==============================] - 0s 325ms/step - loss: 2.1404 - accuracy: 0.2011 - val_loss: 2.1654 - val_accuracy: 0.1505 - seq2seq_val_loss: 2.1704 - seq2seq_val_accuracy: 0.1251\n",
      "Epoch 4/5\n",
      "1/1 [==============================] - 0s 255ms/step - loss: 2.1144 - accuracy: 0.2479 - val_loss: 2.1617 - val_accuracy: 0.1505 - seq2seq_val_loss: 2.1688 - seq2seq_val_accuracy: 0.1321\n",
      "Epoch 5/5\n",
      "1/1 [==============================] - 0s 264ms/step - loss: 2.0869 - accuracy: 0.2479 - val_loss: 2.1451 - val_accuracy: 0.1828 - seq2seq_val_loss: 2.1543 - seq2seq_val_accuracy: 0.1577\n",
      "Epoch 1/3\n",
      "1/1 [==============================] - 0s 322ms/step - loss: 2.3948 - accuracy: 0.0000e+00 - val_loss: 2.3535 - val_accuracy: 0.0667 - seq2seq_val_loss: 2.3517 - seq2seq_val_accuracy: 0.0515\n",
      "Epoch 2/3\n",
      "1/1 [==============================] - ETA: 0s - loss: 2.3481 - accuracy: 0.0784"
     ]
    },
    {
     "name": "stderr",
     "output_type": "stream",
     "text": [
      "f:\\RNN_transfer_learning\\RNN_phoneme_decoding_micro\\.venv\\lib\\site-packages\\sklearn\\metrics\\_classification.py:2184: UserWarning: y_pred contains classes not in y_true\n",
      "  warnings.warn(\"y_pred contains classes not in y_true\")\n"
     ]
    },
    {
     "name": "stdout",
     "output_type": "stream",
     "text": [
      "1/1 [==============================] - 0s 259ms/step - loss: 2.3481 - accuracy: 0.0784 - val_loss: 2.3063 - val_accuracy: 0.1222 - seq2seq_val_loss: 2.3049 - seq2seq_val_accuracy: 0.0929\n",
      "Epoch 3/3\n",
      "1/1 [==============================] - 0s 268ms/step - loss: 2.2950 - accuracy: 0.1232 - val_loss: 2.2669 - val_accuracy: 0.1333 - seq2seq_val_loss: 2.2661 - seq2seq_val_accuracy: 0.1170\n",
      "Could not transfer weights for layer input_7\n",
      "Could not transfer weights for layer conv1d_1\n",
      "Could not transfer weights for layer input_8\n",
      "Epoch 1/2\n",
      "1/1 [==============================] - 7s 7s/step - loss: 2.2945 - accuracy: 0.1074 - val_loss: 2.2406 - val_accuracy: 0.1505 - seq2seq_val_loss: 2.2423 - seq2seq_val_accuracy: 0.1250\n",
      "Epoch 2/2\n",
      "1/1 [==============================] - 0s 237ms/step - loss: 2.2811 - accuracy: 0.1240 - val_loss: 2.2348 - val_accuracy: 0.1505 - seq2seq_val_loss: 2.2365 - seq2seq_val_accuracy: 0.1222\n",
      "Epoch 1/5\n",
      "1/1 [==============================] - 7s 7s/step - loss: 2.2701 - accuracy: 0.1267 - val_loss: 2.2211 - val_accuracy: 0.1075 - seq2seq_val_loss: 2.2246 - seq2seq_val_accuracy: 0.1009\n",
      "Epoch 2/5\n",
      "1/1 [==============================] - 0s 264ms/step - loss: 2.2073 - accuracy: 0.1543 - val_loss: 2.2109 - val_accuracy: 0.1398 - seq2seq_val_loss: 2.2162 - seq2seq_val_accuracy: 0.1188\n",
      "Epoch 3/5\n",
      "1/1 [==============================] - 0s 281ms/step - loss: 2.1722 - accuracy: 0.1680 - val_loss: 2.1885 - val_accuracy: 0.1505 - seq2seq_val_loss: 2.1952 - seq2seq_val_accuracy: 0.1223\n",
      "Epoch 4/5\n",
      "1/1 [==============================] - 0s 256ms/step - loss: 2.1448 - accuracy: 0.2066 - val_loss: 2.1653 - val_accuracy: 0.1183 - seq2seq_val_loss: 2.1735 - seq2seq_val_accuracy: 0.0911\n",
      "Epoch 5/5\n",
      "1/1 [==============================] - 0s 266ms/step - loss: 2.1237 - accuracy: 0.1928 - val_loss: 2.1491 - val_accuracy: 0.1613 - seq2seq_val_loss: 2.1590 - seq2seq_val_accuracy: 0.1253\n",
      "===== Fold 2 =====\n",
      "Epoch 1/3\n",
      "1/1 [==============================] - 0s 301ms/step - loss: 2.3691 - accuracy: 0.0868 - val_loss: 2.3256 - val_accuracy: 0.0889 - seq2seq_val_loss: 2.3270 - seq2seq_val_accuracy: 0.1111\n",
      "Epoch 2/3\n",
      "1/1 [==============================] - 0s 256ms/step - loss: 2.3294 - accuracy: 0.0868 - val_loss: 2.2833 - val_accuracy: 0.1000 - seq2seq_val_loss: 2.2850 - seq2seq_val_accuracy: 0.1163\n",
      "Epoch 3/3\n",
      "1/1 [==============================] - 0s 273ms/step - loss: 2.2831 - accuracy: 0.0896 - val_loss: 2.2469 - val_accuracy: 0.1222 - seq2seq_val_loss: 2.2490 - seq2seq_val_accuracy: 0.0940\n",
      "Could not transfer weights for layer input_7\n",
      "Could not transfer weights for layer conv1d_1\n",
      "Could not transfer weights for layer input_8\n",
      "Epoch 1/2\n",
      "1/1 [==============================] - 6s 6s/step - loss: 2.2705 - accuracy: 0.1322 - val_loss: 2.2606 - val_accuracy: 0.1613 - seq2seq_val_loss: 2.2615 - seq2seq_val_accuracy: 0.1627\n",
      "Epoch 2/2\n",
      "1/1 [==============================] - 0s 230ms/step - loss: 2.2567 - accuracy: 0.1515 - val_loss: 2.2516 - val_accuracy: 0.1613 - seq2seq_val_loss: 2.2526 - seq2seq_val_accuracy: 0.1627\n",
      "Epoch 1/5\n",
      "1/1 [==============================] - 7s 7s/step - loss: 2.2464 - accuracy: 0.1598 - val_loss: 2.2057 - val_accuracy: 0.0753 - seq2seq_val_loss: 2.2085 - seq2seq_val_accuracy: 0.1032\n",
      "Epoch 2/5\n",
      "1/1 [==============================] - 0s 263ms/step - loss: 2.1919 - accuracy: 0.1708 - val_loss: 2.1825 - val_accuracy: 0.1398 - seq2seq_val_loss: 2.1869 - seq2seq_val_accuracy: 0.1111\n",
      "Epoch 3/5\n",
      "1/1 [==============================] - 0s 261ms/step - loss: 2.1585 - accuracy: 0.1625 - val_loss: 2.1720 - val_accuracy: 0.1398 - seq2seq_val_loss: 2.1777 - seq2seq_val_accuracy: 0.1389\n",
      "Epoch 4/5\n",
      "1/1 [==============================] - 0s 268ms/step - loss: 2.1325 - accuracy: 0.2259 - val_loss: 2.1771 - val_accuracy: 0.1828 - seq2seq_val_loss: 2.1842 - seq2seq_val_accuracy: 0.1842\n",
      "Epoch 5/5\n",
      "1/1 [==============================] - 0s 267ms/step - loss: 2.1100 - accuracy: 0.2369 - val_loss: 2.1725 - val_accuracy: 0.1290 - seq2seq_val_loss: 2.1812 - seq2seq_val_accuracy: 0.1310\n",
      "Epoch 1/3\n",
      "1/1 [==============================] - 0s 311ms/step - loss: 2.3892 - accuracy: 0.0980 - val_loss: 2.3629 - val_accuracy: 0.0667 - seq2seq_val_loss: 2.3620 - seq2seq_val_accuracy: 0.1111\n",
      "Epoch 2/3\n",
      "1/1 [==============================] - 0s 259ms/step - loss: 2.3486 - accuracy: 0.0980 - val_loss: 2.3158 - val_accuracy: 0.0667 - seq2seq_val_loss: 2.3158 - seq2seq_val_accuracy: 0.1111\n",
      "Epoch 3/3\n",
      "1/1 [==============================] - 0s 260ms/step - loss: 2.3002 - accuracy: 0.0980 - val_loss: 2.2721 - val_accuracy: 0.0889 - seq2seq_val_loss: 2.2732 - seq2seq_val_accuracy: 0.0983\n",
      "Could not transfer weights for layer input_7\n",
      "Could not transfer weights for layer conv1d_1\n",
      "Could not transfer weights for layer input_8\n",
      "Epoch 1/2\n",
      "1/1 [==============================] - 6s 6s/step - loss: 2.2903 - accuracy: 0.0964 - val_loss: 2.2702 - val_accuracy: 0.0968 - seq2seq_val_loss: 2.2740 - seq2seq_val_accuracy: 0.1111\n",
      "Epoch 2/2\n",
      "1/1 [==============================] - 0s 246ms/step - loss: 2.2744 - accuracy: 0.1129 - val_loss: 2.2611 - val_accuracy: 0.1290 - seq2seq_val_loss: 2.2650 - seq2seq_val_accuracy: 0.1111\n",
      "Epoch 1/5\n",
      "1/1 [==============================] - 6s 6s/step - loss: 2.2616 - accuracy: 0.1129 - val_loss: 2.2177 - val_accuracy: 0.0968 - seq2seq_val_loss: 2.2239 - seq2seq_val_accuracy: 0.1190\n",
      "Epoch 2/5\n",
      "1/1 [==============================] - 0s 264ms/step - loss: 2.1966 - accuracy: 0.1791 - val_loss: 2.1951 - val_accuracy: 0.1290 - seq2seq_val_loss: 2.2028 - seq2seq_val_accuracy: 0.1032\n",
      "Epoch 3/5\n",
      "1/1 [==============================] - 0s 273ms/step - loss: 2.1648 - accuracy: 0.1653 - val_loss: 2.1706 - val_accuracy: 0.1290 - seq2seq_val_loss: 2.1795 - seq2seq_val_accuracy: 0.0952\n",
      "Epoch 4/5\n",
      "1/1 [==============================] - 0s 269ms/step - loss: 2.1353 - accuracy: 0.1928 - val_loss: 2.1636 - val_accuracy: 0.1935 - seq2seq_val_loss: 2.1739 - seq2seq_val_accuracy: 0.1697\n",
      "Epoch 5/5\n",
      "1/1 [==============================] - 0s 264ms/step - loss: 2.1144 - accuracy: 0.2342 - val_loss: 2.1681 - val_accuracy: 0.1720 - seq2seq_val_loss: 2.1800 - seq2seq_val_accuracy: 0.1639\n",
      "Epoch 1/3\n",
      "1/1 [==============================] - 0s 300ms/step - loss: 2.3663 - accuracy: 0.0952 - val_loss: 2.3107 - val_accuracy: 0.1333 - seq2seq_val_loss: 2.3083 - seq2seq_val_accuracy: 0.1188\n",
      "Epoch 2/3\n",
      "1/1 [==============================] - 0s 274ms/step - loss: 2.3309 - accuracy: 0.1261 - val_loss: 2.2756 - val_accuracy: 0.1667 - seq2seq_val_loss: 2.2736 - seq2seq_val_accuracy: 0.1333\n",
      "Epoch 3/3\n",
      "1/1 [==============================] - 0s 261ms/step - loss: 2.2888 - accuracy: 0.1289 - val_loss: 2.2441 - val_accuracy: 0.1444 - seq2seq_val_loss: 2.2426 - seq2seq_val_accuracy: 0.1111\n",
      "Could not transfer weights for layer input_7\n",
      "Could not transfer weights for layer conv1d_1\n",
      "Could not transfer weights for layer input_8\n",
      "Epoch 1/2\n",
      "1/1 [==============================] - 7s 7s/step - loss: 2.2650 - accuracy: 0.1598 - val_loss: 2.2687 - val_accuracy: 0.0753 - seq2seq_val_loss: 2.2678 - seq2seq_val_accuracy: 0.1111\n",
      "Epoch 2/2\n",
      "1/1 [==============================] - 0s 244ms/step - loss: 2.2533 - accuracy: 0.1433 - val_loss: 2.2604 - val_accuracy: 0.0753 - seq2seq_val_loss: 2.2596 - seq2seq_val_accuracy: 0.1111\n",
      "Epoch 1/5\n",
      "1/1 [==============================] - 6s 6s/step - loss: 2.2437 - accuracy: 0.1460 - val_loss: 2.2132 - val_accuracy: 0.1398 - seq2seq_val_loss: 2.2138 - seq2seq_val_accuracy: 0.0873\n",
      "Epoch 2/5\n",
      "1/1 [==============================] - 0s 267ms/step - loss: 2.1926 - accuracy: 0.1377 - val_loss: 2.1953 - val_accuracy: 0.1290 - seq2seq_val_loss: 2.1974 - seq2seq_val_accuracy: 0.0873\n",
      "Epoch 3/5\n",
      "1/1 [==============================] - 0s 265ms/step - loss: 2.1629 - accuracy: 0.1515 - val_loss: 2.1751 - val_accuracy: 0.1183 - seq2seq_val_loss: 2.1788 - seq2seq_val_accuracy: 0.1349\n",
      "Epoch 4/5\n",
      "1/1 [==============================] - 0s 267ms/step - loss: 2.1328 - accuracy: 0.1818 - val_loss: 2.1582 - val_accuracy: 0.1935 - seq2seq_val_loss: 2.1635 - seq2seq_val_accuracy: 0.1833\n",
      "Epoch 5/5\n",
      "1/1 [==============================] - 0s 259ms/step - loss: 2.1136 - accuracy: 0.2534 - val_loss: 2.1425 - val_accuracy: 0.2903 - seq2seq_val_loss: 2.1494 - seq2seq_val_accuracy: 0.2587\n",
      "===== Fold 3 =====\n",
      "Epoch 1/3\n",
      "1/1 [==============================] - 0s 317ms/step - loss: 2.3319 - accuracy: 0.0896 - val_loss: 2.3034 - val_accuracy: 0.1111 - seq2seq_val_loss: 2.3021 - seq2seq_val_accuracy: 0.1111\n",
      "Epoch 2/3\n",
      "1/1 [==============================] - 0s 258ms/step - loss: 2.3072 - accuracy: 0.1036 - val_loss: 2.2750 - val_accuracy: 0.1222 - seq2seq_val_loss: 2.2738 - seq2seq_val_accuracy: 0.1111\n",
      "Epoch 3/3\n",
      "1/1 [==============================] - 0s 260ms/step - loss: 2.2755 - accuracy: 0.1008 - val_loss: 2.2477 - val_accuracy: 0.1444 - seq2seq_val_loss: 2.2467 - seq2seq_val_accuracy: 0.1130\n",
      "Could not transfer weights for layer input_7\n",
      "Could not transfer weights for layer conv1d_1\n",
      "Could not transfer weights for layer input_8\n",
      "Epoch 1/2\n",
      "1/1 [==============================] - 7s 7s/step - loss: 2.2549 - accuracy: 0.1421 - val_loss: 2.2780 - val_accuracy: 0.1556 - seq2seq_val_loss: 2.2781 - seq2seq_val_accuracy: 0.1210\n",
      "Epoch 2/2\n",
      "1/1 [==============================] - 0s 253ms/step - loss: 2.2434 - accuracy: 0.1421 - val_loss: 2.2740 - val_accuracy: 0.1444 - seq2seq_val_loss: 2.2741 - seq2seq_val_accuracy: 0.1290\n",
      "Epoch 1/5\n",
      "1/1 [==============================] - 6s 6s/step - loss: 2.2337 - accuracy: 0.1503 - val_loss: 2.2514 - val_accuracy: 0.1000 - seq2seq_val_loss: 2.2525 - seq2seq_val_accuracy: 0.1032\n",
      "Epoch 2/5\n",
      "1/1 [==============================] - 0s 283ms/step - loss: 2.1806 - accuracy: 0.2213 - val_loss: 2.2273 - val_accuracy: 0.1111 - seq2seq_val_loss: 2.2299 - seq2seq_val_accuracy: 0.1263\n",
      "Epoch 3/5\n",
      "1/1 [==============================] - 0s 275ms/step - loss: 2.1452 - accuracy: 0.2077 - val_loss: 2.2081 - val_accuracy: 0.1222 - seq2seq_val_loss: 2.2122 - seq2seq_val_accuracy: 0.1265\n",
      "Epoch 4/5\n",
      "1/1 [==============================] - 0s 281ms/step - loss: 2.1180 - accuracy: 0.2596 - val_loss: 2.2028 - val_accuracy: 0.1333 - seq2seq_val_loss: 2.2084 - seq2seq_val_accuracy: 0.1093\n",
      "Epoch 5/5\n",
      "1/1 [==============================] - 0s 300ms/step - loss: 2.0932 - accuracy: 0.2131 - val_loss: 2.1938 - val_accuracy: 0.1444 - seq2seq_val_loss: 2.2011 - seq2seq_val_accuracy: 0.1287\n",
      "Epoch 1/3\n",
      "1/1 [==============================] - 0s 305ms/step - loss: 2.2857 - accuracy: 0.1232 - val_loss: 2.2631 - val_accuracy: 0.1667 - seq2seq_val_loss: 2.2671 - seq2seq_val_accuracy: 0.1064\n",
      "Epoch 2/3\n",
      "1/1 [==============================] - 0s 263ms/step - loss: 2.2674 - accuracy: 0.1653 - val_loss: 2.2468 - val_accuracy: 0.1222 - seq2seq_val_loss: 2.2509 - seq2seq_val_accuracy: 0.1111\n",
      "Epoch 3/3\n",
      "1/1 [==============================] - 0s 274ms/step - loss: 2.2441 - accuracy: 0.1429 - val_loss: 2.2320 - val_accuracy: 0.1222 - seq2seq_val_loss: 2.2364 - seq2seq_val_accuracy: 0.1111\n",
      "Could not transfer weights for layer input_7\n",
      "Could not transfer weights for layer conv1d_1\n",
      "Could not transfer weights for layer input_8\n",
      "Epoch 1/2\n",
      "1/1 [==============================] - 7s 7s/step - loss: 2.2313 - accuracy: 0.1475 - val_loss: 2.2630 - val_accuracy: 0.0889 - seq2seq_val_loss: 2.2657 - seq2seq_val_accuracy: 0.1111\n",
      "Epoch 2/2\n",
      "1/1 [==============================] - 0s 251ms/step - loss: 2.2215 - accuracy: 0.1475 - val_loss: 2.2602 - val_accuracy: 0.0889 - seq2seq_val_loss: 2.2630 - seq2seq_val_accuracy: 0.1111\n",
      "Epoch 1/5\n",
      "1/1 [==============================] - 7s 7s/step - loss: 2.2134 - accuracy: 0.1448 - val_loss: 2.2463 - val_accuracy: 0.1000 - seq2seq_val_loss: 2.2504 - seq2seq_val_accuracy: 0.1250\n",
      "Epoch 2/5\n",
      "1/1 [==============================] - 0s 293ms/step - loss: 2.1676 - accuracy: 0.1831 - val_loss: 2.2271 - val_accuracy: 0.0778 - seq2seq_val_loss: 2.2327 - seq2seq_val_accuracy: 0.0853\n",
      "Epoch 3/5\n",
      "1/1 [==============================] - 0s 276ms/step - loss: 2.1344 - accuracy: 0.1803 - val_loss: 2.2058 - val_accuracy: 0.1222 - seq2seq_val_loss: 2.2131 - seq2seq_val_accuracy: 0.1257\n",
      "Epoch 4/5\n",
      "1/1 [==============================] - 0s 284ms/step - loss: 2.1059 - accuracy: 0.2049 - val_loss: 2.1946 - val_accuracy: 0.1222 - seq2seq_val_loss: 2.2035 - seq2seq_val_accuracy: 0.1257\n",
      "Epoch 5/5\n",
      "1/1 [==============================] - 0s 286ms/step - loss: 2.0777 - accuracy: 0.2459 - val_loss: 2.1725 - val_accuracy: 0.2222 - seq2seq_val_loss: 2.1832 - seq2seq_val_accuracy: 0.1806\n",
      "Epoch 1/3\n",
      "1/1 [==============================] - 0s 309ms/step - loss: 2.3234 - accuracy: 0.0868 - val_loss: 2.3025 - val_accuracy: 0.0889 - seq2seq_val_loss: 2.3006 - seq2seq_val_accuracy: 0.1111\n",
      "Epoch 2/3\n",
      "1/1 [==============================] - 0s 351ms/step - loss: 2.2993 - accuracy: 0.0896 - val_loss: 2.2765 - val_accuracy: 0.1000 - seq2seq_val_loss: 2.2747 - seq2seq_val_accuracy: 0.0985\n",
      "Epoch 3/3\n",
      "1/1 [==============================] - 0s 271ms/step - loss: 2.2683 - accuracy: 0.1401 - val_loss: 2.2517 - val_accuracy: 0.1556 - seq2seq_val_loss: 2.2503 - seq2seq_val_accuracy: 0.1557\n",
      "Could not transfer weights for layer input_7\n",
      "Could not transfer weights for layer conv1d_1\n",
      "Could not transfer weights for layer input_8\n",
      "Epoch 1/2\n",
      "1/1 [==============================] - 6s 6s/step - loss: 2.2520 - accuracy: 0.1721 - val_loss: 2.2621 - val_accuracy: 0.0778 - seq2seq_val_loss: 2.2597 - seq2seq_val_accuracy: 0.0933\n",
      "Epoch 2/2\n",
      "1/1 [==============================] - 0s 265ms/step - loss: 2.2398 - accuracy: 0.1776 - val_loss: 2.2629 - val_accuracy: 0.1000 - seq2seq_val_loss: 2.2604 - seq2seq_val_accuracy: 0.1190\n",
      "Epoch 1/5\n",
      "1/1 [==============================] - 7s 7s/step - loss: 2.2311 - accuracy: 0.1776 - val_loss: 2.2508 - val_accuracy: 0.1556 - seq2seq_val_loss: 2.2499 - seq2seq_val_accuracy: 0.1270\n",
      "Epoch 2/5\n",
      "1/1 [==============================] - 0s 273ms/step - loss: 2.1779 - accuracy: 0.1967 - val_loss: 2.2440 - val_accuracy: 0.0889 - seq2seq_val_loss: 2.2446 - seq2seq_val_accuracy: 0.1038\n",
      "Epoch 3/5\n",
      "1/1 [==============================] - 0s 285ms/step - loss: 2.1447 - accuracy: 0.1749 - val_loss: 2.2136 - val_accuracy: 0.1222 - seq2seq_val_loss: 2.2158 - seq2seq_val_accuracy: 0.1172\n",
      "Epoch 4/5\n",
      "1/1 [==============================] - 0s 289ms/step - loss: 2.1159 - accuracy: 0.2486 - val_loss: 2.1960 - val_accuracy: 0.1222 - seq2seq_val_loss: 2.1997 - seq2seq_val_accuracy: 0.1156\n",
      "Epoch 5/5\n",
      "1/1 [==============================] - 0s 274ms/step - loss: 2.0913 - accuracy: 0.2350 - val_loss: 2.1974 - val_accuracy: 0.1222 - seq2seq_val_loss: 2.2028 - seq2seq_val_accuracy: 0.1249\n",
      "===== Fold 4 =====\n",
      "Epoch 1/3\n",
      "1/1 [==============================] - 0s 313ms/step - loss: 2.3445 - accuracy: 0.0924 - val_loss: 2.3355 - val_accuracy: 0.1000 - seq2seq_val_loss: 2.3315 - seq2seq_val_accuracy: 0.1000\n",
      "Epoch 2/3\n",
      "1/1 [==============================] - 0s 266ms/step - loss: 2.3151 - accuracy: 0.1092 - val_loss: 2.3035 - val_accuracy: 0.1556 - seq2seq_val_loss: 2.2998 - seq2seq_val_accuracy: 0.1263\n",
      "Epoch 3/3\n",
      "1/1 [==============================] - 0s 258ms/step - loss: 2.2788 - accuracy: 0.1625 - val_loss: 2.2743 - val_accuracy: 0.2000 - seq2seq_val_loss: 2.2710 - seq2seq_val_accuracy: 0.1737\n",
      "Could not transfer weights for layer input_7\n",
      "Could not transfer weights for layer conv1d_1\n",
      "Could not transfer weights for layer input_8\n",
      "Epoch 1/2\n",
      "1/1 [==============================] - 6s 6s/step - loss: 2.2634 - accuracy: 0.1776 - val_loss: 2.2600 - val_accuracy: 0.1111 - seq2seq_val_loss: 2.2583 - seq2seq_val_accuracy: 0.1212\n",
      "Epoch 2/2\n",
      "1/1 [==============================] - 0s 247ms/step - loss: 2.2525 - accuracy: 0.1721 - val_loss: 2.2527 - val_accuracy: 0.1333 - seq2seq_val_loss: 2.2509 - seq2seq_val_accuracy: 0.1111\n",
      "Epoch 1/5\n",
      "1/1 [==============================] - 7s 7s/step - loss: 2.2432 - accuracy: 0.1639 - val_loss: 2.2221 - val_accuracy: 0.1222 - seq2seq_val_loss: 2.2215 - seq2seq_val_accuracy: 0.1111\n",
      "Epoch 2/5\n",
      "1/1 [==============================] - 0s 282ms/step - loss: 2.1877 - accuracy: 0.1530 - val_loss: 2.2051 - val_accuracy: 0.1333 - seq2seq_val_loss: 2.2058 - seq2seq_val_accuracy: 0.1443\n",
      "Epoch 3/5\n",
      "1/1 [==============================] - 0s 273ms/step - loss: 2.1539 - accuracy: 0.2240 - val_loss: 2.1922 - val_accuracy: 0.1444 - seq2seq_val_loss: 2.1942 - seq2seq_val_accuracy: 0.1587\n",
      "Epoch 4/5\n",
      "1/1 [==============================] - 0s 271ms/step - loss: 2.1246 - accuracy: 0.2240 - val_loss: 2.1759 - val_accuracy: 0.1667 - seq2seq_val_loss: 2.1790 - seq2seq_val_accuracy: 0.1732\n",
      "Epoch 5/5\n",
      "1/1 [==============================] - 0s 274ms/step - loss: 2.1012 - accuracy: 0.2350 - val_loss: 2.1575 - val_accuracy: 0.1444 - seq2seq_val_loss: 2.1621 - seq2seq_val_accuracy: 0.1544\n",
      "Epoch 1/3\n",
      "1/1 [==============================] - 0s 300ms/step - loss: 2.3453 - accuracy: 0.0728 - val_loss: 2.2998 - val_accuracy: 0.1222 - seq2seq_val_loss: 2.2997 - seq2seq_val_accuracy: 0.1163\n",
      "Epoch 2/3\n",
      "1/1 [==============================] - 0s 273ms/step - loss: 2.3161 - accuracy: 0.0840 - val_loss: 2.2730 - val_accuracy: 0.0889 - seq2seq_val_loss: 2.2733 - seq2seq_val_accuracy: 0.1175\n",
      "Epoch 3/3\n",
      "1/1 [==============================] - 0s 274ms/step - loss: 2.2783 - accuracy: 0.1485 - val_loss: 2.2506 - val_accuracy: 0.1333 - seq2seq_val_loss: 2.2513 - seq2seq_val_accuracy: 0.1197\n",
      "Could not transfer weights for layer input_7\n",
      "Could not transfer weights for layer conv1d_1\n",
      "Could not transfer weights for layer input_8\n",
      "Epoch 1/2\n",
      "1/1 [==============================] - 6s 6s/step - loss: 2.2529 - accuracy: 0.1448 - val_loss: 2.2635 - val_accuracy: 0.1222 - seq2seq_val_loss: 2.2659 - seq2seq_val_accuracy: 0.1111\n",
      "Epoch 2/2\n",
      "1/1 [==============================] - 0s 244ms/step - loss: 2.2428 - accuracy: 0.1503 - val_loss: 2.2581 - val_accuracy: 0.1222 - seq2seq_val_loss: 2.2605 - seq2seq_val_accuracy: 0.1111\n",
      "Epoch 1/5\n",
      "1/1 [==============================] - 7s 7s/step - loss: 2.2343 - accuracy: 0.1503 - val_loss: 2.2045 - val_accuracy: 0.1333 - seq2seq_val_loss: 2.2082 - seq2seq_val_accuracy: 0.1111\n",
      "Epoch 2/5\n",
      "1/1 [==============================] - 0s 279ms/step - loss: 2.1801 - accuracy: 0.1585 - val_loss: 2.1822 - val_accuracy: 0.1111 - seq2seq_val_loss: 2.1875 - seq2seq_val_accuracy: 0.1010\n",
      "Epoch 3/5\n",
      "1/1 [==============================] - 0s 277ms/step - loss: 2.1448 - accuracy: 0.1749 - val_loss: 2.1766 - val_accuracy: 0.1667 - seq2seq_val_loss: 2.1835 - seq2seq_val_accuracy: 0.1313\n",
      "Epoch 4/5\n",
      "1/1 [==============================] - 0s 282ms/step - loss: 2.1158 - accuracy: 0.2404 - val_loss: 2.1628 - val_accuracy: 0.2333 - seq2seq_val_loss: 2.1713 - seq2seq_val_accuracy: 0.2325\n",
      "Epoch 5/5\n",
      "1/1 [==============================] - 0s 285ms/step - loss: 2.0914 - accuracy: 0.2650 - val_loss: 2.1514 - val_accuracy: 0.2000 - seq2seq_val_loss: 2.1617 - seq2seq_val_accuracy: 0.1784\n",
      "Epoch 1/3\n",
      "1/1 [==============================] - 0s 311ms/step - loss: 2.3906 - accuracy: 0.0000e+00 - val_loss: 2.3865 - val_accuracy: 0.0111 - seq2seq_val_loss: 2.3875 - seq2seq_val_accuracy: 0.0000e+00\n",
      "Epoch 2/3\n",
      "1/1 [==============================] - ETA: 0s - loss: 2.3507 - accuracy: 0.0084"
     ]
    },
    {
     "name": "stderr",
     "output_type": "stream",
     "text": [
      "f:\\RNN_transfer_learning\\RNN_phoneme_decoding_micro\\.venv\\lib\\site-packages\\sklearn\\metrics\\_classification.py:2184: UserWarning: y_pred contains classes not in y_true\n",
      "  warnings.warn(\"y_pred contains classes not in y_true\")\n"
     ]
    },
    {
     "name": "stdout",
     "output_type": "stream",
     "text": [
      "1/1 [==============================] - 0s 278ms/step - loss: 2.3507 - accuracy: 0.0084 - val_loss: 2.3416 - val_accuracy: 0.1111 - seq2seq_val_loss: 2.3431 - seq2seq_val_accuracy: 0.0747\n",
      "Epoch 3/3\n",
      "1/1 [==============================] - 0s 257ms/step - loss: 2.3018 - accuracy: 0.1541 - val_loss: 2.3001 - val_accuracy: 0.1222 - seq2seq_val_loss: 2.3021 - seq2seq_val_accuracy: 0.0967\n",
      "Could not transfer weights for layer input_7\n",
      "Could not transfer weights for layer conv1d_1\n",
      "Could not transfer weights for layer input_8\n",
      "Epoch 1/2\n",
      "1/1 [==============================] - 6s 6s/step - loss: 2.2840 - accuracy: 0.1257 - val_loss: 2.2868 - val_accuracy: 0.1222 - seq2seq_val_loss: 2.2891 - seq2seq_val_accuracy: 0.0954\n",
      "Epoch 2/2\n",
      "1/1 [==============================] - 0s 252ms/step - loss: 2.2696 - accuracy: 0.1803 - val_loss: 2.2787 - val_accuracy: 0.1222 - seq2seq_val_loss: 2.2811 - seq2seq_val_accuracy: 0.1209\n",
      "Epoch 1/5\n",
      "1/1 [==============================] - 6s 6s/step - loss: 2.2577 - accuracy: 0.1639 - val_loss: 2.2244 - val_accuracy: 0.1333 - seq2seq_val_loss: 2.2283 - seq2seq_val_accuracy: 0.1212\n",
      "Epoch 2/5\n",
      "1/1 [==============================] - 0s 276ms/step - loss: 2.1906 - accuracy: 0.1803 - val_loss: 2.2078 - val_accuracy: 0.1333 - seq2seq_val_loss: 2.2133 - seq2seq_val_accuracy: 0.1212\n",
      "Epoch 3/5\n",
      "1/1 [==============================] - 0s 267ms/step - loss: 2.1542 - accuracy: 0.1858 - val_loss: 2.1972 - val_accuracy: 0.1444 - seq2seq_val_loss: 2.2041 - seq2seq_val_accuracy: 0.1270\n",
      "Epoch 4/5\n",
      "1/1 [==============================] - 0s 272ms/step - loss: 2.1250 - accuracy: 0.2131 - val_loss: 2.1863 - val_accuracy: 0.2000 - seq2seq_val_loss: 2.1946 - seq2seq_val_accuracy: 0.1688\n",
      "Epoch 5/5\n",
      "1/1 [==============================] - 0s 266ms/step - loss: 2.1024 - accuracy: 0.2568 - val_loss: 2.1737 - val_accuracy: 0.2000 - seq2seq_val_loss: 2.1838 - seq2seq_val_accuracy: 0.1914\n",
      "===== Fold 5 =====\n",
      "Epoch 1/3\n",
      "1/1 [==============================] - 2s 2s/step - loss: 2.3493 - accuracy: 0.0917 - val_loss: 2.3387 - val_accuracy: 0.0690 - seq2seq_val_loss: 2.3343 - seq2seq_val_accuracy: 0.1111\n",
      "Epoch 2/3\n",
      "1/1 [==============================] - 0s 263ms/step - loss: 2.3204 - accuracy: 0.1278 - val_loss: 2.3037 - val_accuracy: 0.0805 - seq2seq_val_loss: 2.2997 - seq2seq_val_accuracy: 0.1111\n",
      "Epoch 3/3\n",
      "1/1 [==============================] - 0s 267ms/step - loss: 2.2837 - accuracy: 0.1417 - val_loss: 2.2705 - val_accuracy: 0.0920 - seq2seq_val_loss: 2.2670 - seq2seq_val_accuracy: 0.0806\n",
      "Could not transfer weights for layer input_7\n",
      "Could not transfer weights for layer conv1d_1\n",
      "Could not transfer weights for layer input_8\n",
      "Epoch 1/2\n",
      "1/1 [==============================] - 7s 7s/step - loss: 2.2646 - accuracy: 0.1230 - val_loss: 2.2675 - val_accuracy: 0.1111 - seq2seq_val_loss: 2.2670 - seq2seq_val_accuracy: 0.0833\n",
      "Epoch 2/2\n",
      "1/1 [==============================] - 0s 245ms/step - loss: 2.2546 - accuracy: 0.1257 - val_loss: 2.2651 - val_accuracy: 0.1000 - seq2seq_val_loss: 2.2645 - seq2seq_val_accuracy: 0.0778\n",
      "Epoch 1/5\n",
      "1/1 [==============================] - 7s 7s/step - loss: 2.2462 - accuracy: 0.1557 - val_loss: 2.2418 - val_accuracy: 0.1222 - seq2seq_val_loss: 2.2424 - seq2seq_val_accuracy: 0.1722\n",
      "Epoch 2/5\n",
      "1/1 [==============================] - 0s 277ms/step - loss: 2.1920 - accuracy: 0.1694 - val_loss: 2.2040 - val_accuracy: 0.1778 - seq2seq_val_loss: 2.2057 - seq2seq_val_accuracy: 0.1667\n",
      "Epoch 3/5\n",
      "1/1 [==============================] - 0s 271ms/step - loss: 2.1646 - accuracy: 0.1749 - val_loss: 2.1739 - val_accuracy: 0.1667 - seq2seq_val_loss: 2.1769 - seq2seq_val_accuracy: 0.1706\n",
      "Epoch 4/5\n",
      "1/1 [==============================] - 0s 283ms/step - loss: 2.1388 - accuracy: 0.2131 - val_loss: 2.1657 - val_accuracy: 0.2111 - seq2seq_val_loss: 2.1701 - seq2seq_val_accuracy: 0.2066\n",
      "Epoch 5/5\n",
      "1/1 [==============================] - 0s 274ms/step - loss: 2.1161 - accuracy: 0.2459 - val_loss: 2.1570 - val_accuracy: 0.1889 - seq2seq_val_loss: 2.1630 - seq2seq_val_accuracy: 0.2156\n",
      "Epoch 1/3\n",
      "1/1 [==============================] - 0s 310ms/step - loss: 2.3656 - accuracy: 0.0944 - val_loss: 2.3415 - val_accuracy: 0.0805 - seq2seq_val_loss: 2.3387 - seq2seq_val_accuracy: 0.1111\n",
      "Epoch 2/3\n",
      "1/1 [==============================] - 0s 276ms/step - loss: 2.3350 - accuracy: 0.0972 - val_loss: 2.3080 - val_accuracy: 0.1034 - seq2seq_val_loss: 2.3055 - seq2seq_val_accuracy: 0.1351\n",
      "Epoch 3/3\n",
      "1/1 [==============================] - 0s 265ms/step - loss: 2.2954 - accuracy: 0.1028 - val_loss: 2.2767 - val_accuracy: 0.0920 - seq2seq_val_loss: 2.2747 - seq2seq_val_accuracy: 0.0960\n",
      "Could not transfer weights for layer input_7\n",
      "Could not transfer weights for layer conv1d_1\n",
      "Could not transfer weights for layer input_8\n",
      "Epoch 1/2\n",
      "1/1 [==============================] - 6s 6s/step - loss: 2.2737 - accuracy: 0.1284 - val_loss: 2.2918 - val_accuracy: 0.1556 - seq2seq_val_loss: 2.2918 - seq2seq_val_accuracy: 0.1706\n",
      "Epoch 2/2\n",
      "1/1 [==============================] - 0s 260ms/step - loss: 2.2612 - accuracy: 0.1667 - val_loss: 2.2835 - val_accuracy: 0.1556 - seq2seq_val_loss: 2.2834 - seq2seq_val_accuracy: 0.1738\n",
      "Epoch 1/5\n",
      "1/1 [==============================] - 7s 7s/step - loss: 2.2504 - accuracy: 0.1858 - val_loss: 2.2566 - val_accuracy: 0.1111 - seq2seq_val_loss: 2.2579 - seq2seq_val_accuracy: 0.1389\n",
      "Epoch 2/5\n",
      "1/1 [==============================] - 0s 288ms/step - loss: 2.1993 - accuracy: 0.1557 - val_loss: 2.2122 - val_accuracy: 0.1778 - seq2seq_val_loss: 2.2148 - seq2seq_val_accuracy: 0.2024\n",
      "Epoch 3/5\n",
      "1/1 [==============================] - 0s 364ms/step - loss: 2.1672 - accuracy: 0.2678 - val_loss: 2.1713 - val_accuracy: 0.1556 - seq2seq_val_loss: 2.1754 - seq2seq_val_accuracy: 0.1865\n",
      "Epoch 4/5\n",
      "1/1 [==============================] - 0s 275ms/step - loss: 2.1382 - accuracy: 0.2596 - val_loss: 2.1549 - val_accuracy: 0.1778 - seq2seq_val_loss: 2.1606 - seq2seq_val_accuracy: 0.2082\n",
      "Epoch 5/5\n",
      "1/1 [==============================] - 0s 278ms/step - loss: 2.1165 - accuracy: 0.2623 - val_loss: 2.1407 - val_accuracy: 0.1778 - seq2seq_val_loss: 2.1480 - seq2seq_val_accuracy: 0.1865\n",
      "Epoch 1/3\n",
      "1/1 [==============================] - 0s 309ms/step - loss: 2.2985 - accuracy: 0.1500 - val_loss: 2.3317 - val_accuracy: 0.0920 - seq2seq_val_loss: 2.3344 - seq2seq_val_accuracy: 0.0636\n",
      "Epoch 2/3\n",
      "1/1 [==============================] - 0s 267ms/step - loss: 2.2827 - accuracy: 0.1444 - val_loss: 2.3062 - val_accuracy: 0.0805 - seq2seq_val_loss: 2.3092 - seq2seq_val_accuracy: 0.0636\n",
      "Epoch 3/3\n",
      "1/1 [==============================] - 0s 265ms/step - loss: 2.2608 - accuracy: 0.1556 - val_loss: 2.2788 - val_accuracy: 0.0575 - seq2seq_val_loss: 2.2824 - seq2seq_val_accuracy: 0.0626\n",
      "Could not transfer weights for layer input_7\n",
      "Could not transfer weights for layer conv1d_1\n",
      "Could not transfer weights for layer input_8\n",
      "Epoch 1/2\n",
      "1/1 [==============================] - 6s 6s/step - loss: 2.2629 - accuracy: 0.1503 - val_loss: 2.2410 - val_accuracy: 0.1444 - seq2seq_val_loss: 2.2404 - seq2seq_val_accuracy: 0.1000\n",
      "Epoch 2/2\n",
      "1/1 [==============================] - 0s 253ms/step - loss: 2.2517 - accuracy: 0.1448 - val_loss: 2.2371 - val_accuracy: 0.1556 - seq2seq_val_loss: 2.2365 - seq2seq_val_accuracy: 0.1111\n",
      "Epoch 1/5\n",
      "1/1 [==============================] - 7s 7s/step - loss: 2.2425 - accuracy: 0.1448 - val_loss: 2.2301 - val_accuracy: 0.1111 - seq2seq_val_loss: 2.2312 - seq2seq_val_accuracy: 0.1111\n",
      "Epoch 2/5\n",
      "1/1 [==============================] - 0s 415ms/step - loss: 2.1916 - accuracy: 0.1421 - val_loss: 2.2088 - val_accuracy: 0.1111 - seq2seq_val_loss: 2.2118 - seq2seq_val_accuracy: 0.1405\n",
      "Epoch 3/5\n",
      "1/1 [==============================] - 0s 378ms/step - loss: 2.1587 - accuracy: 0.2022 - val_loss: 2.1732 - val_accuracy: 0.1444 - seq2seq_val_loss: 2.1779 - seq2seq_val_accuracy: 0.1717\n",
      "Epoch 4/5\n",
      "1/1 [==============================] - 0s 386ms/step - loss: 2.1338 - accuracy: 0.2268 - val_loss: 2.1443 - val_accuracy: 0.1889 - seq2seq_val_loss: 2.1506 - seq2seq_val_accuracy: 0.2161\n",
      "Epoch 5/5\n",
      "1/1 [==============================] - 0s 404ms/step - loss: 2.1109 - accuracy: 0.2514 - val_loss: 2.1334 - val_accuracy: 0.2111 - seq2seq_val_loss: 2.1413 - seq2seq_val_accuracy: 0.2098\n"
     ]
    }
   ],
   "source": [
    "histories2, y_pred2_all, y_test2_all = transfer_seq2seq_kfold_diff_chans(train_model, inf_enc, inf_dec, new_model,\n",
    "                                                                         new_enc, new_dec, X1, X1_prior, y1, X2,\n",
    "                                                                         X2_prior, y2, num_folds=num_folds,\n",
    "                                                                         pretrain_epochs=pre_epochs,\n",
    "                                                                         conv_epochs=c_epochs,\n",
    "                                                                         fine_tune_epochs=ft_epochs)"
   ]
  },
  {
   "cell_type": "code",
   "execution_count": 19,
   "metadata": {},
   "outputs": [
    {
     "data": {
      "image/png": "[encoded data removed]",
      "text/plain": [
       "<Figure size 1200x400 with 2 Axes>"
      ]
     },
     "metadata": {},
     "output_type": "display_data"
    }
   ],
   "source": [
    "from visualization.plot_model_performance import plot_accuracy_loss\n",
    "\n",
    "plot_accuracy_loss(histories2, epochs=pre_epochs + c_epochs + ft_epochs)"
   ]
  },
  {
   "cell_type": "code",
   "execution_count": null,
   "metadata": {},
   "outputs": [],
   "source": [
    "from sklearn.metrics import balanced_accuracy_score\n",
    "\n",
    "print('Balanced Accuracy: ', balanced_accuracy_score(y_test2_all, y_pred2_all))"
   ]
  }
 ],
 "metadata": {
  "kernelspec": {
   "display_name": ".venv",
   "language": "python",
   "name": "python3"
  },
  "language_info": {
   "codemirror_mode": {
    "name": "ipython",
    "version": 3
   },
   "file_extension": ".py",
   "mimetype": "text/x-python",
   "name": "python",
   "nbconvert_exporter": "python",
   "pygments_lexer": "ipython3",
   "version": "3.10.5"
  },
  "orig_nbformat": 4,
  "vscode": {
   "interpreter": {
    "hash": "70ea75fe4d4912c04c5b3d05361445264347b81ab4a9aec88659d0b476cbe73b"
   }
  }
 },
 "nbformat": 4,
 "nbformat_minor": 2
}
