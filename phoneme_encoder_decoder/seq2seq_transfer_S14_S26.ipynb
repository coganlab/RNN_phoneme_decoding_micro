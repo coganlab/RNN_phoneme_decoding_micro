{
 "cells": [
  {
   "attachments": {},
   "cell_type": "markdown",
   "metadata": {},
   "source": [
    "### Data Loading"
   ]
  },
  {
   "cell_type": "code",
   "execution_count": null,
   "metadata": {},
   "outputs": [],
   "source": [
    "# imports\n",
    "import numpy as np\n",
    "import matplotlib.pyplot as plt\n",
    "\n",
    "from processing_utils.feature_data_from_mat import load_subject_high_gamma"
   ]
  },
  {
   "attachments": {},
   "cell_type": "markdown",
   "metadata": {},
   "source": [
    "Load in S14 Data"
   ]
  },
  {
   "cell_type": "code",
   "execution_count": null,
   "metadata": {},
   "outputs": [],
   "source": [
    "S14_hg_trace, S14_hg_map, S14_phon_labels = load_subject_high_gamma('S14', sig_channel=False, zscore=False)"
   ]
  },
  {
   "cell_type": "code",
   "execution_count": null,
   "metadata": {},
   "outputs": [],
   "source": [
    "print(S14_hg_trace.shape)\n",
    "print(S14_hg_map.shape)\n",
    "print(S14_phon_labels.shape)\n",
    "\n",
    "plt.figure()\n",
    "plt.plot(np.mean(S14_hg_trace, axis=0), 'grey')\n",
    "plt.plot(np.mean(np.mean(S14_hg_trace, axis=0), axis=1), 'black')\n",
    "plt.title('HG Trace by Channel')\n",
    "plt.show()"
   ]
  },
  {
   "attachments": {},
   "cell_type": "markdown",
   "metadata": {},
   "source": [
    "Load in S26 Data"
   ]
  },
  {
   "cell_type": "code",
   "execution_count": null,
   "metadata": {},
   "outputs": [],
   "source": [
    "S26_hg_trace, S26_hg_map, S26_phon_labels = load_subject_high_gamma('S26', sig_channel=False, zscore=False)"
   ]
  },
  {
   "cell_type": "code",
   "execution_count": null,
   "metadata": {},
   "outputs": [],
   "source": [
    "print(S26_hg_trace.shape)\n",
    "print(S26_hg_map.shape)\n",
    "print(S26_phon_labels.shape)\n",
    "\n",
    "plt.figure()\n",
    "plt.plot(np.mean(S26_hg_trace, axis=0), 'grey')\n",
    "plt.plot(np.mean(np.mean(S26_hg_trace, axis=0), axis=1), 'black')\n",
    "plt.title('HG Trace by Channel')\n",
    "plt.show()"
   ]
  },
  {
   "attachments": {},
   "cell_type": "markdown",
   "metadata": {},
   "source": [
    "Load in S23 Data"
   ]
  },
  {
   "cell_type": "code",
   "execution_count": null,
   "metadata": {},
   "outputs": [],
   "source": [
    "S23_hg_trace, S23_hg_map, S23_phon_labels = load_subject_high_gamma('S23', sig_channel=False, zscore=False)"
   ]
  },
  {
   "cell_type": "code",
   "execution_count": null,
   "metadata": {},
   "outputs": [],
   "source": [
    "print(S23_hg_trace.shape)\n",
    "print(S23_hg_map.shape)\n",
    "print(S23_phon_labels.shape)\n",
    "\n",
    "plt.figure()\n",
    "plt.plot(np.mean(S23_hg_trace, axis=0), 'grey')\n",
    "plt.plot(np.mean(np.mean(S23_hg_trace, axis=0), axis=1), 'black')\n",
    "plt.title('HG Trace by Channel')\n",
    "plt.show()"
   ]
  },
  {
   "attachments": {},
   "cell_type": "markdown",
   "metadata": {},
   "source": [
    "Load in S33 Data"
   ]
  },
  {
   "cell_type": "code",
   "execution_count": null,
   "metadata": {},
   "outputs": [],
   "source": [
    "S33_hg_trace, S33_hg_map, S33_phon_labels = load_subject_high_gamma('S33', sig_channel=False, zscore=False)"
   ]
  },
  {
   "cell_type": "code",
   "execution_count": null,
   "metadata": {},
   "outputs": [],
   "source": [
    "print(S33_hg_trace.shape)\n",
    "print(S33_hg_map.shape)\n",
    "print(S33_phon_labels.shape)\n",
    "\n",
    "plt.figure()\n",
    "plt.plot(np.mean(S33_hg_trace, axis=0), 'grey')\n",
    "plt.plot(np.mean(np.mean(S33_hg_trace, axis=0), axis=1), 'black')\n",
    "plt.title('HG Trace by Channel')\n",
    "plt.show()"
   ]
  },
  {
   "attachments": {},
   "cell_type": "markdown",
   "metadata": {},
   "source": [
    "Process data for use with 1/3 D CNN Bidirectional LSTM seq2seq"
   ]
  },
  {
   "cell_type": "code",
   "execution_count": null,
   "metadata": {},
   "outputs": [],
   "source": [
    "# imports\n",
    "from processing_utils.sequence_processing import pad_sequence_teacher_forcing"
   ]
  },
  {
   "cell_type": "code",
   "execution_count": null,
   "metadata": {},
   "outputs": [],
   "source": [
    "# parameters\n",
    "n_output = 10"
   ]
  },
  {
   "cell_type": "code",
   "execution_count": null,
   "metadata": {},
   "outputs": [],
   "source": [
    "X1 = S14_hg_trace  # use HG traces (n_trials, n_channels, n_timepoints) for 1D CNN\n",
    "# X1 = S14_hg_map  # use HG channel map stack (n_trials, n_channels_x, n_channels_y, n_timepoints) for 1D CNN\n",
    "X1_prior, y1, prior1_labels, seq1_labels = pad_sequence_teacher_forcing(S14_phon_labels, n_output)  # first 2 outputs one-hot encoded"
   ]
  },
  {
   "cell_type": "code",
   "execution_count": null,
   "metadata": {},
   "outputs": [],
   "source": [
    "print(X1.shape, X1_prior.shape, y1.shape, prior1_labels.shape, seq1_labels.shape)"
   ]
  },
  {
   "cell_type": "code",
   "execution_count": null,
   "metadata": {},
   "outputs": [],
   "source": [
    "X2 = S26_hg_trace  # use HG traces (n_trials, n_channels, n_timepoints) for 1D CNN\n",
    "# X2 = S26_hg_map  # use HG channel map stack (n_trials, n_channels_x, n_channels_y, n_timepoints) for 1D CNN\n",
    "X2_prior, y2, prior2_labels, seq2_labels = pad_sequence_teacher_forcing(S26_phon_labels, n_output)  # first 2 outputs one-hot encoded"
   ]
  },
  {
   "cell_type": "code",
   "execution_count": null,
   "metadata": {},
   "outputs": [],
   "source": [
    "print(X2.shape, X2_prior.shape, y2.shape, prior2_labels.shape, seq2_labels.shape)"
   ]
  },
  {
   "cell_type": "code",
   "execution_count": null,
   "metadata": {},
   "outputs": [],
   "source": [
    "X2 = S23_hg_trace  # use HG traces (n_trials, n_channels, n_timepoints) for 1D CNN\n",
    "# X2 = S23_hg_map  # use HG channel map stack (n_trials, n_channels_x, n_channels_y, n_timepoints) for 1D CNN\n",
    "X2_prior, y2, prior2_labels, seq2_labels = pad_sequence_teacher_forcing(S23_phon_labels, n_output)  # first 2 outputs one-hot encoded"
   ]
  },
  {
   "cell_type": "code",
   "execution_count": null,
   "metadata": {},
   "outputs": [],
   "source": [
    "print(X2.shape, X2_prior.shape, y2.shape, prior2_labels.shape, seq2_labels.shape)"
   ]
  },
  {
   "cell_type": "code",
   "execution_count": null,
   "metadata": {},
   "outputs": [],
   "source": [
    "X2 = S33_hg_trace  # use HG traces (n_trials, n_channels, n_timepoints) for 1D CNN\n",
    "# X2 = S33_hg_map  # use HG channel map stack (n_trials, n_channels_x, n_channels_y, n_timepoints) for 1D CNN\n",
    "X2_prior, y2, prior2_labels, seq2_labels = pad_sequence_teacher_forcing(S33_phon_labels, n_output)  # first 2 outputs one-hot encoded"
   ]
  },
  {
   "cell_type": "code",
   "execution_count": null,
   "metadata": {},
   "outputs": [],
   "source": [
    "print(X2.shape, X2_prior.shape, y2.shape, prior2_labels.shape, seq2_labels.shape)"
   ]
  },
  {
   "attachments": {},
   "cell_type": "markdown",
   "metadata": {},
   "source": [
    "Build 1D CNN Bidirectional LSTM seq2seq Model"
   ]
  },
  {
   "cell_type": "code",
   "execution_count": null,
   "metadata": {},
   "outputs": [],
   "source": [
    "# imports\n",
    "from seq2seq_models.rnn_models import (lstm_1Dcnn_model, gru_1Dcnn_model,\n",
    "                                       lstm_3Dcnn_model, gru_3Dcnn_model)"
   ]
  },
  {
   "cell_type": "code",
   "execution_count": 64,
   "metadata": {},
   "outputs": [],
   "source": [
    "# parameters\n",
    "\n",
    "# 1D CNN\n",
    "n_input_time = X1.shape[1]\n",
    "n_input_channel = X1.shape[2]\n",
    "filter_size = 10\n",
    "\n",
    "# 3D CNN\n",
    "# n_input_channel = [X1.shape[1], X1.shape[2]]\n",
    "# n_input_time = X1.shape[3]\n",
    "# filter_size = 2\n",
    "\n",
    "n_filters = 50\n",
    "n_units = 200\n",
    "reg_lambda = 1e-6\n",
    "dropout = 0.0\n",
    "bidir = True"
   ]
  },
  {
   "cell_type": "code",
   "execution_count": 65,
   "metadata": {},
   "outputs": [],
   "source": [
    "train_model, inf_enc, inf_dec = lstm_1Dcnn_model(n_input_time, n_input_channel, n_output, n_filters, filter_size, n_units, reg_lambda, bidir=bidir)"
   ]
  },
  {
   "cell_type": "code",
   "execution_count": null,
   "metadata": {},
   "outputs": [],
   "source": [
    "print(train_model.summary())\n",
    "# print(train_model.layers[-1].summary())\n",
    "# print(inf_enc.summary())\n",
    "# print(inf_enc.layers[-1].summary())\n",
    "# print(inf_dec.summary())"
   ]
  },
  {
   "attachments": {},
   "cell_type": "markdown",
   "metadata": {},
   "source": [
    "### S26 Evaluation"
   ]
  },
  {
   "cell_type": "code",
   "execution_count": null,
   "metadata": {},
   "outputs": [],
   "source": [
    "import time\n",
    "from keras.optimizers import Adam\n",
    "from train.train import train_seq2seq_kfold"
   ]
  },
  {
   "cell_type": "code",
   "execution_count": null,
   "metadata": {},
   "outputs": [],
   "source": [
    "# parameters\n",
    "num_folds = 10\n",
    "num_reps = 1\n",
    "batch_size = 200\n",
    "epochs = 500\n",
    "learning_rate = 5e-6"
   ]
  },
  {
   "cell_type": "code",
   "execution_count": null,
   "metadata": {},
   "outputs": [],
   "source": [
    "train_model.compile(optimizer=Adam(learning_rate), loss='categorical_crossentropy', metrics=['accuracy'])"
   ]
  },
  {
   "cell_type": "code",
   "execution_count": null,
   "metadata": {},
   "outputs": [],
   "source": [
    "start = time.time()\n",
    "histories, y_pred_all, y_test_all = train_seq2seq_kfold(train_model, inf_enc, inf_dec, X2, X2_prior, y2,\n",
    "                                                        num_folds=num_folds, num_reps=num_reps,\n",
    "                                                        batch_size=batch_size, epochs=epochs,\n",
    "                                                        early_stop=False)\n",
    "end = time.time()"
   ]
  },
  {
   "cell_type": "code",
   "execution_count": null,
   "metadata": {},
   "outputs": [],
   "source": [
    "print(f'Time to train {num_folds} folds: {end-start} seconds')"
   ]
  },
  {
   "cell_type": "code",
   "execution_count": null,
   "metadata": {},
   "outputs": [],
   "source": [
    "from visualization.plot_model_performance import extend_history_lists\n",
    "\n",
    "histories = extend_history_lists(histories, epochs=epochs)\n",
    "\n",
    "_, (ax1, ax2) = plt.subplots(1, 2, figsize=(12, 4))\n",
    "ax1.plot(np.array(histories['loss']).T, color='blue', alpha=0.35)\n",
    "ax1.plot(np.mean(histories['loss'], axis=0), color='blue', label='Train')\n",
    "ax1.plot(np.array(histories['val_loss']).T, color='orange', alpha=0.35)\n",
    "ax1.plot(np.mean(histories['val_loss'], axis=0), color='orange', label='Test')\n",
    "ax1.set_xlabel('Epoch')\n",
    "ax1.set_ylabel('Loss')\n",
    "ax1.set_title('RNN Loss')\n",
    "ax1.legend()\n",
    "\n",
    "ax2.plot(np.array(histories['accuracy']).T, color='blue', alpha=0.35)\n",
    "ax2.plot(np.mean(histories['accuracy'], axis=0), color='blue', label='Train')\n",
    "ax2.plot(np.array(histories['val_accuracy']).T, color='orange', alpha=0.35)\n",
    "ax2.plot(np.mean(histories['val_accuracy'], axis=0), color='orange', label='Test')\n",
    "# ax2.axhline(1/(n_output-1), color='gray', linestyle='--', label='Chance')\n",
    "ax2.set_xlabel('Epoch')\n",
    "ax2.set_ylabel('Accuracy')\n",
    "ax2.set_title('RNN Accuracy')\n",
    "ax2.legend()\n",
    "\n",
    "plt.show()"
   ]
  },
  {
   "cell_type": "code",
   "execution_count": null,
   "metadata": {},
   "outputs": [],
   "source": [
    "from sklearn.metrics import balanced_accuracy_score\n",
    "\n",
    "print(f'Balanced Accuracy: {balanced_accuracy_score(y_test_all, y_pred_all)}')"
   ]
  },
  {
   "cell_type": "code",
   "execution_count": null,
   "metadata": {},
   "outputs": [],
   "source": [
    "from visualization.plot_model_performance import plot_accuracy_loss\n",
    "\n",
    "plot_accuracy_loss(histories, epochs=epochs)"
   ]
  },
  {
   "attachments": {},
   "cell_type": "markdown",
   "metadata": {},
   "source": [
    "### S33 Evaluation"
   ]
  },
  {
   "cell_type": "code",
   "execution_count": 67,
   "metadata": {},
   "outputs": [],
   "source": [
    "n_input_channel_transfer = X2.shape[2]\n",
    "new_model, new_enc, new_dec = lstm_1Dcnn_model(n_input_time, n_input_channel_transfer,\n",
    "                                               n_output, n_filters, filter_size, n_units,\n",
    "                                               reg_lambda, bidir=bidir)"
   ]
  },
  {
   "cell_type": "code",
   "execution_count": 68,
   "metadata": {},
   "outputs": [],
   "source": [
    "from keras.optimizers import Adam\n",
    "\n",
    "num_folds = 5\n",
    "num_reps = 3\n",
    "batch_size = 200\n",
    "epochs = 300\n",
    "learning_rate = 5e-6\n",
    "\n",
    "new_model.compile(optimizer=Adam(learning_rate), loss='categorical_crossentropy', metrics=['accuracy'])"
   ]
  },
  {
   "cell_type": "code",
   "execution_count": 69,
   "metadata": {},
   "outputs": [
    {
     "name": "stdout",
     "output_type": "stream",
     "text": [
      "===== Fold 1 =====\n",
      "Epoch 1/300\n",
      "1/1 [==============================] - 3s 3s/step - loss: 2.3505 - accuracy: 0.1057 - val_loss: 2.4443 - val_accuracy: 0.0303\n",
      "Epoch 2/300\n",
      "1/1 [==============================] - 0s 111ms/step - loss: 2.3446 - accuracy: 0.1057 - val_loss: 2.4400 - val_accuracy: 0.0303\n",
      "Epoch 3/300\n",
      "1/1 [==============================] - 0s 84ms/step - loss: 2.3389 - accuracy: 0.1057 - val_loss: 2.4359 - val_accuracy: 0.0303\n",
      "Epoch 4/300\n",
      "1/1 [==============================] - 0s 93ms/step - loss: 2.3332 - accuracy: 0.1057 - val_loss: 2.4318 - val_accuracy: 0.0303\n",
      "Epoch 5/300\n",
      "1/1 [==============================] - 0s 96ms/step - loss: 2.3276 - accuracy: 0.1057 - val_loss: 2.4277 - val_accuracy: 0.0303\n",
      "Epoch 6/300\n",
      "1/1 [==============================] - 0s 142ms/step - loss: 2.3222 - accuracy: 0.1057 - val_loss: 2.4238 - val_accuracy: 0.0303\n",
      "Epoch 7/300\n",
      "1/1 [==============================] - 0s 67ms/step - loss: 2.3168 - accuracy: 0.1057 - val_loss: 2.4200 - val_accuracy: 0.0303\n",
      "Epoch 8/300\n",
      "1/1 [==============================] - 0s 72ms/step - loss: 2.3116 - accuracy: 0.1057 - val_loss: 2.4163 - val_accuracy: 0.0303\n",
      "Epoch 9/300\n",
      "1/1 [==============================] - 0s 71ms/step - loss: 2.3064 - accuracy: 0.1057 - val_loss: 2.4128 - val_accuracy: 0.0303\n",
      "Epoch 10/300\n",
      "1/1 [==============================] - 0s 74ms/step - loss: 2.3013 - accuracy: 0.1057 - val_loss: 2.4092 - val_accuracy: 0.0303\n",
      "Epoch 11/300\n",
      "1/1 [==============================] - 0s 65ms/step - loss: 2.2963 - accuracy: 0.1057 - val_loss: 2.4058 - val_accuracy: 0.0303\n",
      "Epoch 12/300\n",
      "1/1 [==============================] - 0s 78ms/step - loss: 2.2914 - accuracy: 0.1057 - val_loss: 2.4025 - val_accuracy: 0.0000e+00\n",
      "Epoch 13/300\n",
      "1/1 [==============================] - 0s 57ms/step - loss: 2.2866 - accuracy: 0.1057 - val_loss: 2.3992 - val_accuracy: 0.0303\n",
      "Epoch 14/300\n",
      "1/1 [==============================] - 0s 61ms/step - loss: 2.2819 - accuracy: 0.1138 - val_loss: 2.3961 - val_accuracy: 0.0303\n",
      "Epoch 15/300\n",
      "1/1 [==============================] - 0s 67ms/step - loss: 2.2772 - accuracy: 0.1463 - val_loss: 2.3931 - val_accuracy: 0.0303\n",
      "Epoch 16/300\n",
      "1/1 [==============================] - 0s 71ms/step - loss: 2.2726 - accuracy: 0.1463 - val_loss: 2.3901 - val_accuracy: 0.0606\n",
      "Epoch 17/300\n",
      "1/1 [==============================] - 0s 77ms/step - loss: 2.2681 - accuracy: 0.1382 - val_loss: 2.3872 - val_accuracy: 0.0606\n",
      "Epoch 18/300\n",
      "1/1 [==============================] - 0s 89ms/step - loss: 2.2637 - accuracy: 0.1545 - val_loss: 2.3844 - val_accuracy: 0.0606\n",
      "Epoch 19/300\n",
      "1/1 [==============================] - 0s 67ms/step - loss: 2.2593 - accuracy: 0.1382 - val_loss: 2.3818 - val_accuracy: 0.0606\n",
      "Epoch 20/300\n",
      "1/1 [==============================] - 0s 71ms/step - loss: 2.2550 - accuracy: 0.1463 - val_loss: 2.3791 - val_accuracy: 0.0606\n",
      "Epoch 21/300\n",
      "1/1 [==============================] - 0s 92ms/step - loss: 2.2507 - accuracy: 0.1382 - val_loss: 2.3765 - val_accuracy: 0.0606\n",
      "Epoch 22/300\n",
      "1/1 [==============================] - 0s 98ms/step - loss: 2.2465 - accuracy: 0.1382 - val_loss: 2.3742 - val_accuracy: 0.0606\n",
      "Epoch 23/300\n",
      "1/1 [==============================] - 0s 89ms/step - loss: 2.2424 - accuracy: 0.1382 - val_loss: 2.3718 - val_accuracy: 0.0606\n",
      "Epoch 24/300\n",
      "1/1 [==============================] - 0s 72ms/step - loss: 2.2383 - accuracy: 0.1382 - val_loss: 2.3695 - val_accuracy: 0.0606\n",
      "Epoch 25/300\n",
      "1/1 [==============================] - 0s 67ms/step - loss: 2.2343 - accuracy: 0.1301 - val_loss: 2.3673 - val_accuracy: 0.0606\n",
      "Epoch 26/300\n",
      "1/1 [==============================] - 0s 68ms/step - loss: 2.2303 - accuracy: 0.1301 - val_loss: 2.3651 - val_accuracy: 0.0606\n",
      "Epoch 27/300\n",
      "1/1 [==============================] - 0s 85ms/step - loss: 2.2263 - accuracy: 0.1382 - val_loss: 2.3631 - val_accuracy: 0.0606\n",
      "Epoch 28/300\n",
      "1/1 [==============================] - 0s 74ms/step - loss: 2.2225 - accuracy: 0.1707 - val_loss: 2.3611 - val_accuracy: 0.0606\n",
      "Epoch 29/300\n",
      "1/1 [==============================] - 0s 63ms/step - loss: 2.2186 - accuracy: 0.1626 - val_loss: 2.3592 - val_accuracy: 0.0606\n",
      "Epoch 30/300\n",
      "1/1 [==============================] - 0s 69ms/step - loss: 2.2148 - accuracy: 0.1626 - val_loss: 2.3574 - val_accuracy: 0.0606\n",
      "Epoch 31/300\n",
      "1/1 [==============================] - 0s 63ms/step - loss: 2.2111 - accuracy: 0.1707 - val_loss: 2.3556 - val_accuracy: 0.0606\n",
      "Epoch 32/300\n",
      "1/1 [==============================] - 0s 55ms/step - loss: 2.2074 - accuracy: 0.1707 - val_loss: 2.3539 - val_accuracy: 0.0606\n",
      "Epoch 33/300\n",
      "1/1 [==============================] - 0s 68ms/step - loss: 2.2037 - accuracy: 0.1789 - val_loss: 2.3523 - val_accuracy: 0.0606\n",
      "Epoch 34/300\n",
      "1/1 [==============================] - 0s 69ms/step - loss: 2.2001 - accuracy: 0.1951 - val_loss: 2.3507 - val_accuracy: 0.0606\n",
      "Epoch 35/300\n",
      "1/1 [==============================] - 0s 71ms/step - loss: 2.1965 - accuracy: 0.1951 - val_loss: 2.3493 - val_accuracy: 0.0606\n",
      "Epoch 36/300\n",
      "1/1 [==============================] - 0s 86ms/step - loss: 2.1929 - accuracy: 0.1951 - val_loss: 2.3479 - val_accuracy: 0.0606\n",
      "Epoch 37/300\n",
      "1/1 [==============================] - 0s 61ms/step - loss: 2.1894 - accuracy: 0.1951 - val_loss: 2.3465 - val_accuracy: 0.0606\n",
      "Epoch 38/300\n",
      "1/1 [==============================] - 0s 84ms/step - loss: 2.1858 - accuracy: 0.1951 - val_loss: 2.3452 - val_accuracy: 0.0606\n",
      "Epoch 39/300\n",
      "1/1 [==============================] - 0s 61ms/step - loss: 2.1824 - accuracy: 0.1870 - val_loss: 2.3440 - val_accuracy: 0.0606\n",
      "Epoch 40/300\n",
      "1/1 [==============================] - 0s 70ms/step - loss: 2.1789 - accuracy: 0.1870 - val_loss: 2.3429 - val_accuracy: 0.0606\n",
      "Epoch 41/300\n",
      "1/1 [==============================] - 0s 76ms/step - loss: 2.1755 - accuracy: 0.1870 - val_loss: 2.3417 - val_accuracy: 0.0606\n",
      "Epoch 42/300\n",
      "1/1 [==============================] - 0s 68ms/step - loss: 2.1721 - accuracy: 0.1870 - val_loss: 2.3407 - val_accuracy: 0.0606\n",
      "Epoch 43/300\n",
      "1/1 [==============================] - 0s 67ms/step - loss: 2.1687 - accuracy: 0.1789 - val_loss: 2.3397 - val_accuracy: 0.0606\n",
      "Epoch 44/300\n",
      "1/1 [==============================] - 0s 68ms/step - loss: 2.1653 - accuracy: 0.1789 - val_loss: 2.3387 - val_accuracy: 0.0606\n",
      "Epoch 45/300\n",
      "1/1 [==============================] - 0s 81ms/step - loss: 2.1619 - accuracy: 0.1789 - val_loss: 2.3378 - val_accuracy: 0.0606\n",
      "Epoch 46/300\n",
      "1/1 [==============================] - 0s 109ms/step - loss: 2.1586 - accuracy: 0.1789 - val_loss: 2.3370 - val_accuracy: 0.0606\n",
      "Epoch 47/300\n",
      "1/1 [==============================] - 0s 86ms/step - loss: 2.1552 - accuracy: 0.1789 - val_loss: 2.3362 - val_accuracy: 0.0606\n",
      "Epoch 48/300\n",
      "1/1 [==============================] - 0s 94ms/step - loss: 2.1518 - accuracy: 0.1789 - val_loss: 2.3354 - val_accuracy: 0.0606\n",
      "Epoch 49/300\n",
      "1/1 [==============================] - 0s 56ms/step - loss: 2.1485 - accuracy: 0.1789 - val_loss: 2.3347 - val_accuracy: 0.0606\n",
      "Epoch 50/300\n",
      "1/1 [==============================] - 0s 69ms/step - loss: 2.1451 - accuracy: 0.1789 - val_loss: 2.3340 - val_accuracy: 0.0606\n",
      "Epoch 51/300\n",
      "1/1 [==============================] - 0s 69ms/step - loss: 2.1417 - accuracy: 0.1789 - val_loss: 2.3333 - val_accuracy: 0.0606\n",
      "Epoch 52/300\n",
      "1/1 [==============================] - 0s 87ms/step - loss: 2.1383 - accuracy: 0.1789 - val_loss: 2.3327 - val_accuracy: 0.0606\n",
      "Epoch 53/300\n",
      "1/1 [==============================] - 0s 65ms/step - loss: 2.1349 - accuracy: 0.1870 - val_loss: 2.3321 - val_accuracy: 0.0606\n",
      "Epoch 54/300\n",
      "1/1 [==============================] - 0s 77ms/step - loss: 2.1315 - accuracy: 0.1870 - val_loss: 2.3315 - val_accuracy: 0.0606\n",
      "Epoch 55/300\n",
      "1/1 [==============================] - 0s 75ms/step - loss: 2.1281 - accuracy: 0.1870 - val_loss: 2.3309 - val_accuracy: 0.0606\n",
      "Epoch 56/300\n",
      "1/1 [==============================] - 0s 70ms/step - loss: 2.1246 - accuracy: 0.1789 - val_loss: 2.3304 - val_accuracy: 0.0606\n",
      "Epoch 57/300\n",
      "1/1 [==============================] - 0s 101ms/step - loss: 2.1211 - accuracy: 0.1789 - val_loss: 2.3299 - val_accuracy: 0.0606\n",
      "Epoch 58/300\n",
      "1/1 [==============================] - 0s 70ms/step - loss: 2.1175 - accuracy: 0.1870 - val_loss: 2.3293 - val_accuracy: 0.0606\n",
      "Epoch 59/300\n",
      "1/1 [==============================] - 0s 64ms/step - loss: 2.1139 - accuracy: 0.1870 - val_loss: 2.3288 - val_accuracy: 0.0606\n",
      "Epoch 60/300\n",
      "1/1 [==============================] - 0s 67ms/step - loss: 2.1103 - accuracy: 0.1951 - val_loss: 2.3284 - val_accuracy: 0.0606\n",
      "Epoch 61/300\n",
      "1/1 [==============================] - 0s 72ms/step - loss: 2.1067 - accuracy: 0.1951 - val_loss: 2.3279 - val_accuracy: 0.0606\n",
      "Epoch 62/300\n",
      "1/1 [==============================] - 0s 72ms/step - loss: 2.1030 - accuracy: 0.1951 - val_loss: 2.3275 - val_accuracy: 0.0606\n",
      "Epoch 63/300\n",
      "1/1 [==============================] - 0s 54ms/step - loss: 2.0992 - accuracy: 0.1951 - val_loss: 2.3271 - val_accuracy: 0.0606\n",
      "Epoch 64/300\n",
      "1/1 [==============================] - 0s 75ms/step - loss: 2.0954 - accuracy: 0.1951 - val_loss: 2.3266 - val_accuracy: 0.0606\n",
      "Epoch 65/300\n",
      "1/1 [==============================] - 0s 74ms/step - loss: 2.0915 - accuracy: 0.1951 - val_loss: 2.3262 - val_accuracy: 0.0606\n",
      "Epoch 66/300\n",
      "1/1 [==============================] - 0s 72ms/step - loss: 2.0876 - accuracy: 0.1951 - val_loss: 2.3258 - val_accuracy: 0.0606\n",
      "Epoch 67/300\n",
      "1/1 [==============================] - 0s 69ms/step - loss: 2.0836 - accuracy: 0.1951 - val_loss: 2.3254 - val_accuracy: 0.0606\n",
      "Epoch 68/300\n",
      "1/1 [==============================] - 0s 75ms/step - loss: 2.0796 - accuracy: 0.1951 - val_loss: 2.3251 - val_accuracy: 0.0606\n",
      "Epoch 69/300\n",
      "1/1 [==============================] - 0s 71ms/step - loss: 2.0755 - accuracy: 0.2114 - val_loss: 2.3247 - val_accuracy: 0.0606\n",
      "Epoch 70/300\n",
      "1/1 [==============================] - 0s 79ms/step - loss: 2.0713 - accuracy: 0.2195 - val_loss: 2.3243 - val_accuracy: 0.0606\n",
      "Epoch 71/300\n",
      "1/1 [==============================] - 0s 56ms/step - loss: 2.0670 - accuracy: 0.2276 - val_loss: 2.3240 - val_accuracy: 0.0606\n",
      "Epoch 72/300\n",
      "1/1 [==============================] - 0s 88ms/step - loss: 2.0627 - accuracy: 0.2276 - val_loss: 2.3236 - val_accuracy: 0.0606\n",
      "Epoch 73/300\n",
      "1/1 [==============================] - 0s 81ms/step - loss: 2.0583 - accuracy: 0.2358 - val_loss: 2.3232 - val_accuracy: 0.0606\n",
      "Epoch 74/300\n",
      "1/1 [==============================] - 0s 68ms/step - loss: 2.0539 - accuracy: 0.2439 - val_loss: 2.3228 - val_accuracy: 0.0606\n",
      "Epoch 75/300\n",
      "1/1 [==============================] - 0s 67ms/step - loss: 2.0493 - accuracy: 0.2520 - val_loss: 2.3225 - val_accuracy: 0.0303\n",
      "Epoch 76/300\n",
      "1/1 [==============================] - 0s 71ms/step - loss: 2.0447 - accuracy: 0.2602 - val_loss: 2.3221 - val_accuracy: 0.0303\n",
      "Epoch 77/300\n",
      "1/1 [==============================] - 0s 78ms/step - loss: 2.0399 - accuracy: 0.2602 - val_loss: 2.3217 - val_accuracy: 0.0303\n",
      "Epoch 78/300\n",
      "1/1 [==============================] - 0s 67ms/step - loss: 2.0351 - accuracy: 0.2602 - val_loss: 2.3213 - val_accuracy: 0.0303\n",
      "Epoch 79/300\n",
      "1/1 [==============================] - 0s 61ms/step - loss: 2.0302 - accuracy: 0.2683 - val_loss: 2.3209 - val_accuracy: 0.0303\n",
      "Epoch 80/300\n",
      "1/1 [==============================] - 0s 81ms/step - loss: 2.0252 - accuracy: 0.2764 - val_loss: 2.3205 - val_accuracy: 0.0303\n",
      "Epoch 81/300\n",
      "1/1 [==============================] - 0s 79ms/step - loss: 2.0201 - accuracy: 0.2764 - val_loss: 2.3201 - val_accuracy: 0.0303\n",
      "Epoch 82/300\n",
      "1/1 [==============================] - 0s 73ms/step - loss: 2.0149 - accuracy: 0.2764 - val_loss: 2.3196 - val_accuracy: 0.0303\n",
      "Epoch 83/300\n",
      "1/1 [==============================] - 0s 71ms/step - loss: 2.0096 - accuracy: 0.2764 - val_loss: 2.3191 - val_accuracy: 0.0303\n",
      "Epoch 84/300\n",
      "1/1 [==============================] - 0s 57ms/step - loss: 2.0042 - accuracy: 0.2927 - val_loss: 2.3186 - val_accuracy: 0.0303\n",
      "Epoch 85/300\n",
      "1/1 [==============================] - 0s 81ms/step - loss: 1.9987 - accuracy: 0.3008 - val_loss: 2.3181 - val_accuracy: 0.0303\n",
      "Epoch 86/300\n",
      "1/1 [==============================] - 0s 79ms/step - loss: 1.9931 - accuracy: 0.3008 - val_loss: 2.3176 - val_accuracy: 0.0303\n",
      "Epoch 87/300\n",
      "1/1 [==============================] - 0s 78ms/step - loss: 1.9873 - accuracy: 0.3008 - val_loss: 2.3171 - val_accuracy: 0.0303\n",
      "Epoch 88/300\n",
      "1/1 [==============================] - 0s 73ms/step - loss: 1.9814 - accuracy: 0.3171 - val_loss: 2.3165 - val_accuracy: 0.0303\n",
      "Epoch 89/300\n",
      "1/1 [==============================] - 0s 84ms/step - loss: 1.9754 - accuracy: 0.3252 - val_loss: 2.3159 - val_accuracy: 0.0303\n",
      "Epoch 90/300\n",
      "1/1 [==============================] - 0s 76ms/step - loss: 1.9693 - accuracy: 0.3252 - val_loss: 2.3153 - val_accuracy: 0.0303\n",
      "Epoch 91/300\n",
      "1/1 [==============================] - 0s 84ms/step - loss: 1.9630 - accuracy: 0.3333 - val_loss: 2.3147 - val_accuracy: 0.0303\n",
      "Epoch 92/300\n",
      "1/1 [==============================] - 0s 89ms/step - loss: 1.9567 - accuracy: 0.3496 - val_loss: 2.3141 - val_accuracy: 0.0303\n",
      "Epoch 93/300\n",
      "1/1 [==============================] - 0s 115ms/step - loss: 1.9501 - accuracy: 0.3496 - val_loss: 2.3136 - val_accuracy: 0.0303\n",
      "Epoch 94/300\n",
      "1/1 [==============================] - 0s 76ms/step - loss: 1.9435 - accuracy: 0.3496 - val_loss: 2.3130 - val_accuracy: 0.0303\n",
      "Epoch 95/300\n",
      "1/1 [==============================] - 0s 104ms/step - loss: 1.9367 - accuracy: 0.3577 - val_loss: 2.3124 - val_accuracy: 0.0303\n",
      "Epoch 96/300\n",
      "1/1 [==============================] - 0s 87ms/step - loss: 1.9298 - accuracy: 0.3659 - val_loss: 2.3118 - val_accuracy: 0.0303\n",
      "Epoch 97/300\n",
      "1/1 [==============================] - 0s 91ms/step - loss: 1.9227 - accuracy: 0.3740 - val_loss: 2.3113 - val_accuracy: 0.0303\n",
      "Epoch 98/300\n",
      "1/1 [==============================] - 0s 66ms/step - loss: 1.9155 - accuracy: 0.3902 - val_loss: 2.3108 - val_accuracy: 0.0303\n",
      "Epoch 99/300\n",
      "1/1 [==============================] - 0s 84ms/step - loss: 1.9081 - accuracy: 0.3902 - val_loss: 2.3103 - val_accuracy: 0.0606\n",
      "Epoch 100/300\n",
      "1/1 [==============================] - 0s 72ms/step - loss: 1.9006 - accuracy: 0.3902 - val_loss: 2.3098 - val_accuracy: 0.0909\n",
      "Epoch 101/300\n",
      "1/1 [==============================] - 0s 83ms/step - loss: 1.8929 - accuracy: 0.3984 - val_loss: 2.3094 - val_accuracy: 0.0909\n",
      "Epoch 102/300\n",
      "1/1 [==============================] - 0s 90ms/step - loss: 1.8851 - accuracy: 0.3984 - val_loss: 2.3090 - val_accuracy: 0.0909\n",
      "Epoch 103/300\n",
      "1/1 [==============================] - 0s 76ms/step - loss: 1.8772 - accuracy: 0.4065 - val_loss: 2.3086 - val_accuracy: 0.0909\n",
      "Epoch 104/300\n",
      "1/1 [==============================] - 0s 71ms/step - loss: 1.8691 - accuracy: 0.4146 - val_loss: 2.3083 - val_accuracy: 0.0909\n",
      "Epoch 105/300\n",
      "1/1 [==============================] - 0s 68ms/step - loss: 1.8608 - accuracy: 0.4228 - val_loss: 2.3080 - val_accuracy: 0.0909\n",
      "Epoch 106/300\n",
      "1/1 [==============================] - 0s 62ms/step - loss: 1.8524 - accuracy: 0.4228 - val_loss: 2.3077 - val_accuracy: 0.0909\n",
      "Epoch 107/300\n",
      "1/1 [==============================] - 0s 87ms/step - loss: 1.8439 - accuracy: 0.4228 - val_loss: 2.3075 - val_accuracy: 0.0909\n",
      "Epoch 108/300\n",
      "1/1 [==============================] - 0s 72ms/step - loss: 1.8352 - accuracy: 0.4146 - val_loss: 2.3073 - val_accuracy: 0.0909\n",
      "Epoch 109/300\n",
      "1/1 [==============================] - 0s 75ms/step - loss: 1.8263 - accuracy: 0.4146 - val_loss: 2.3073 - val_accuracy: 0.0909\n",
      "Epoch 110/300\n",
      "1/1 [==============================] - 0s 77ms/step - loss: 1.8174 - accuracy: 0.4146 - val_loss: 2.3072 - val_accuracy: 0.0909\n",
      "Epoch 111/300\n",
      "1/1 [==============================] - 0s 75ms/step - loss: 1.8082 - accuracy: 0.4228 - val_loss: 2.3072 - val_accuracy: 0.0909\n",
      "Epoch 112/300\n",
      "1/1 [==============================] - 0s 69ms/step - loss: 1.7990 - accuracy: 0.4309 - val_loss: 2.3073 - val_accuracy: 0.0909\n",
      "Epoch 113/300\n",
      "1/1 [==============================] - 0s 70ms/step - loss: 1.7896 - accuracy: 0.4309 - val_loss: 2.3075 - val_accuracy: 0.0909\n",
      "Epoch 114/300\n",
      "1/1 [==============================] - 0s 79ms/step - loss: 1.7801 - accuracy: 0.4309 - val_loss: 2.3077 - val_accuracy: 0.0909\n",
      "Epoch 115/300\n",
      "1/1 [==============================] - 0s 62ms/step - loss: 1.7705 - accuracy: 0.4309 - val_loss: 2.3081 - val_accuracy: 0.0909\n",
      "Epoch 116/300\n",
      "1/1 [==============================] - 0s 71ms/step - loss: 1.7607 - accuracy: 0.4390 - val_loss: 2.3086 - val_accuracy: 0.0909\n",
      "Epoch 117/300\n",
      "1/1 [==============================] - 0s 60ms/step - loss: 1.7509 - accuracy: 0.4390 - val_loss: 2.3093 - val_accuracy: 0.0909\n",
      "Epoch 118/300\n",
      "1/1 [==============================] - 0s 67ms/step - loss: 1.7409 - accuracy: 0.4390 - val_loss: 2.3101 - val_accuracy: 0.0909\n",
      "Epoch 119/300\n",
      "1/1 [==============================] - 0s 75ms/step - loss: 1.7308 - accuracy: 0.4390 - val_loss: 2.3111 - val_accuracy: 0.0909\n",
      "Epoch 120/300\n",
      "1/1 [==============================] - 0s 61ms/step - loss: 1.7206 - accuracy: 0.4390 - val_loss: 2.3122 - val_accuracy: 0.0909\n",
      "Epoch 121/300\n",
      "1/1 [==============================] - 0s 74ms/step - loss: 1.7103 - accuracy: 0.4390 - val_loss: 2.3134 - val_accuracy: 0.0909\n",
      "Epoch 122/300\n",
      "1/1 [==============================] - 0s 61ms/step - loss: 1.7000 - accuracy: 0.4309 - val_loss: 2.3149 - val_accuracy: 0.0909\n",
      "Epoch 123/300\n",
      "1/1 [==============================] - 0s 66ms/step - loss: 1.6895 - accuracy: 0.4390 - val_loss: 2.3166 - val_accuracy: 0.0909\n",
      "Epoch 124/300\n",
      "1/1 [==============================] - 0s 62ms/step - loss: 1.6790 - accuracy: 0.4472 - val_loss: 2.3183 - val_accuracy: 0.0909\n",
      "Epoch 125/300\n",
      "1/1 [==============================] - 0s 65ms/step - loss: 1.6684 - accuracy: 0.4472 - val_loss: 2.3202 - val_accuracy: 0.0909\n",
      "Epoch 126/300\n",
      "1/1 [==============================] - 0s 83ms/step - loss: 1.6577 - accuracy: 0.4472 - val_loss: 2.3223 - val_accuracy: 0.0909\n",
      "Epoch 127/300\n",
      "1/1 [==============================] - 0s 79ms/step - loss: 1.6470 - accuracy: 0.4472 - val_loss: 2.3246 - val_accuracy: 0.0909\n",
      "Epoch 128/300\n",
      "1/1 [==============================] - 0s 73ms/step - loss: 1.6362 - accuracy: 0.4309 - val_loss: 2.3270 - val_accuracy: 0.0909\n",
      "Epoch 129/300\n",
      "1/1 [==============================] - 0s 72ms/step - loss: 1.6253 - accuracy: 0.4309 - val_loss: 2.3295 - val_accuracy: 0.0909\n",
      "Epoch 130/300\n",
      "1/1 [==============================] - 0s 71ms/step - loss: 1.6144 - accuracy: 0.4309 - val_loss: 2.3321 - val_accuracy: 0.0909\n",
      "Epoch 131/300\n",
      "1/1 [==============================] - 0s 61ms/step - loss: 1.6034 - accuracy: 0.4309 - val_loss: 2.3348 - val_accuracy: 0.0909\n",
      "Epoch 132/300\n",
      "1/1 [==============================] - 0s 67ms/step - loss: 1.5924 - accuracy: 0.4309 - val_loss: 2.3377 - val_accuracy: 0.0909\n",
      "Epoch 133/300\n",
      "1/1 [==============================] - 0s 71ms/step - loss: 1.5813 - accuracy: 0.4309 - val_loss: 2.3406 - val_accuracy: 0.0909\n",
      "Epoch 134/300\n",
      "1/1 [==============================] - 0s 80ms/step - loss: 1.5702 - accuracy: 0.4228 - val_loss: 2.3439 - val_accuracy: 0.0909\n",
      "Epoch 135/300\n",
      "1/1 [==============================] - 0s 90ms/step - loss: 1.5591 - accuracy: 0.4309 - val_loss: 2.3474 - val_accuracy: 0.0909\n",
      "Epoch 136/300\n",
      "1/1 [==============================] - 0s 103ms/step - loss: 1.5480 - accuracy: 0.4309 - val_loss: 2.3512 - val_accuracy: 0.0606\n",
      "Epoch 137/300\n",
      "1/1 [==============================] - 0s 56ms/step - loss: 1.5368 - accuracy: 0.4309 - val_loss: 2.3551 - val_accuracy: 0.0606\n",
      "Epoch 138/300\n",
      "1/1 [==============================] - 0s 65ms/step - loss: 1.5256 - accuracy: 0.4390 - val_loss: 2.3591 - val_accuracy: 0.0606\n",
      "Epoch 139/300\n",
      "1/1 [==============================] - 0s 63ms/step - loss: 1.5144 - accuracy: 0.4390 - val_loss: 2.3632 - val_accuracy: 0.0606\n",
      "Epoch 140/300\n",
      "1/1 [==============================] - 0s 71ms/step - loss: 1.5033 - accuracy: 0.4390 - val_loss: 2.3675 - val_accuracy: 0.0606\n",
      "Epoch 141/300\n",
      "1/1 [==============================] - 0s 61ms/step - loss: 1.4921 - accuracy: 0.4472 - val_loss: 2.3719 - val_accuracy: 0.0606\n",
      "Epoch 142/300\n",
      "1/1 [==============================] - 0s 64ms/step - loss: 1.4810 - accuracy: 0.4553 - val_loss: 2.3764 - val_accuracy: 0.0606\n",
      "Epoch 143/300\n",
      "1/1 [==============================] - 0s 74ms/step - loss: 1.4698 - accuracy: 0.4553 - val_loss: 2.3809 - val_accuracy: 0.0606\n",
      "Epoch 144/300\n",
      "1/1 [==============================] - 0s 69ms/step - loss: 1.4587 - accuracy: 0.4634 - val_loss: 2.3855 - val_accuracy: 0.0606\n",
      "Epoch 145/300\n",
      "1/1 [==============================] - 0s 67ms/step - loss: 1.4476 - accuracy: 0.4634 - val_loss: 2.3904 - val_accuracy: 0.0909\n",
      "Epoch 146/300\n",
      "1/1 [==============================] - 0s 71ms/step - loss: 1.4366 - accuracy: 0.4634 - val_loss: 2.3953 - val_accuracy: 0.0909\n",
      "Epoch 147/300\n",
      "1/1 [==============================] - 0s 85ms/step - loss: 1.4256 - accuracy: 0.4634 - val_loss: 2.4006 - val_accuracy: 0.1212\n",
      "Epoch 148/300\n",
      "1/1 [==============================] - 0s 78ms/step - loss: 1.4146 - accuracy: 0.4797 - val_loss: 2.4062 - val_accuracy: 0.1212\n",
      "Epoch 149/300\n",
      "1/1 [==============================] - 0s 80ms/step - loss: 1.4036 - accuracy: 0.4797 - val_loss: 2.4120 - val_accuracy: 0.1212\n",
      "Epoch 150/300\n",
      "1/1 [==============================] - 0s 89ms/step - loss: 1.3926 - accuracy: 0.4797 - val_loss: 2.4181 - val_accuracy: 0.1212\n",
      "Epoch 151/300\n",
      "1/1 [==============================] - 0s 71ms/step - loss: 1.3817 - accuracy: 0.4797 - val_loss: 2.4242 - val_accuracy: 0.1212\n",
      "Epoch 152/300\n",
      "1/1 [==============================] - 0s 67ms/step - loss: 1.3708 - accuracy: 0.4797 - val_loss: 2.4307 - val_accuracy: 0.1212\n",
      "Epoch 153/300\n",
      "1/1 [==============================] - 0s 101ms/step - loss: 1.3599 - accuracy: 0.4878 - val_loss: 2.4373 - val_accuracy: 0.1212\n",
      "Epoch 154/300\n",
      "1/1 [==============================] - 0s 83ms/step - loss: 1.3490 - accuracy: 0.5041 - val_loss: 2.4443 - val_accuracy: 0.1515\n",
      "Epoch 155/300\n",
      "1/1 [==============================] - 0s 88ms/step - loss: 1.3382 - accuracy: 0.5122 - val_loss: 2.4515 - val_accuracy: 0.1515\n",
      "Epoch 156/300\n",
      "1/1 [==============================] - 0s 89ms/step - loss: 1.3273 - accuracy: 0.5122 - val_loss: 2.4588 - val_accuracy: 0.1515\n",
      "Epoch 157/300\n",
      "1/1 [==============================] - 0s 70ms/step - loss: 1.3165 - accuracy: 0.5122 - val_loss: 2.4665 - val_accuracy: 0.1515\n",
      "Epoch 158/300\n",
      "1/1 [==============================] - 0s 75ms/step - loss: 1.3056 - accuracy: 0.5122 - val_loss: 2.4746 - val_accuracy: 0.1515\n",
      "Epoch 159/300\n",
      "1/1 [==============================] - 0s 97ms/step - loss: 1.2948 - accuracy: 0.5203 - val_loss: 2.4831 - val_accuracy: 0.1515\n",
      "Epoch 160/300\n",
      "1/1 [==============================] - 0s 81ms/step - loss: 1.2840 - accuracy: 0.5203 - val_loss: 2.4919 - val_accuracy: 0.1515\n",
      "Epoch 161/300\n",
      "1/1 [==============================] - 0s 70ms/step - loss: 1.2731 - accuracy: 0.5122 - val_loss: 2.5012 - val_accuracy: 0.1515\n",
      "Epoch 162/300\n",
      "1/1 [==============================] - 0s 69ms/step - loss: 1.2623 - accuracy: 0.5203 - val_loss: 2.5110 - val_accuracy: 0.1515\n",
      "Epoch 163/300\n",
      "1/1 [==============================] - 0s 72ms/step - loss: 1.2515 - accuracy: 0.5203 - val_loss: 2.5210 - val_accuracy: 0.1515\n",
      "Epoch 164/300\n",
      "1/1 [==============================] - 0s 76ms/step - loss: 1.2408 - accuracy: 0.5447 - val_loss: 2.5315 - val_accuracy: 0.1515\n",
      "Epoch 165/300\n",
      "1/1 [==============================] - 0s 53ms/step - loss: 1.2300 - accuracy: 0.5447 - val_loss: 2.5423 - val_accuracy: 0.1515\n",
      "Epoch 166/300\n",
      "1/1 [==============================] - 0s 70ms/step - loss: 1.2193 - accuracy: 0.5528 - val_loss: 2.5533 - val_accuracy: 0.1515\n",
      "Epoch 167/300\n",
      "1/1 [==============================] - 0s 75ms/step - loss: 1.2087 - accuracy: 0.5610 - val_loss: 2.5647 - val_accuracy: 0.1515\n",
      "Epoch 168/300\n",
      "1/1 [==============================] - 0s 70ms/step - loss: 1.1980 - accuracy: 0.5528 - val_loss: 2.5766 - val_accuracy: 0.1515\n",
      "Epoch 169/300\n",
      "1/1 [==============================] - 0s 74ms/step - loss: 1.1874 - accuracy: 0.5691 - val_loss: 2.5885 - val_accuracy: 0.1515\n",
      "Epoch 170/300\n",
      "1/1 [==============================] - 0s 68ms/step - loss: 1.1769 - accuracy: 0.5854 - val_loss: 2.6006 - val_accuracy: 0.1515\n",
      "Epoch 171/300\n",
      "1/1 [==============================] - 0s 74ms/step - loss: 1.1664 - accuracy: 0.5935 - val_loss: 2.6129 - val_accuracy: 0.1515\n",
      "Epoch 172/300\n",
      "1/1 [==============================] - 0s 66ms/step - loss: 1.1560 - accuracy: 0.6098 - val_loss: 2.6251 - val_accuracy: 0.1515\n",
      "Epoch 173/300\n",
      "1/1 [==============================] - 0s 69ms/step - loss: 1.1456 - accuracy: 0.6179 - val_loss: 2.6375 - val_accuracy: 0.1515\n",
      "Epoch 174/300\n",
      "1/1 [==============================] - 0s 58ms/step - loss: 1.1354 - accuracy: 0.6179 - val_loss: 2.6495 - val_accuracy: 0.1515\n",
      "Epoch 175/300\n",
      "1/1 [==============================] - 0s 62ms/step - loss: 1.1252 - accuracy: 0.6179 - val_loss: 2.6614 - val_accuracy: 0.1515\n",
      "Epoch 176/300\n",
      "1/1 [==============================] - 0s 62ms/step - loss: 1.1150 - accuracy: 0.6260 - val_loss: 2.6732 - val_accuracy: 0.1515\n",
      "Epoch 177/300\n",
      "1/1 [==============================] - 0s 66ms/step - loss: 1.1050 - accuracy: 0.6423 - val_loss: 2.6847 - val_accuracy: 0.1515\n",
      "Epoch 178/300\n",
      "1/1 [==============================] - 0s 73ms/step - loss: 1.0951 - accuracy: 0.6341 - val_loss: 2.6961 - val_accuracy: 0.1515\n",
      "Epoch 179/300\n",
      "1/1 [==============================] - 0s 75ms/step - loss: 1.0852 - accuracy: 0.6423 - val_loss: 2.7076 - val_accuracy: 0.1515\n",
      "Epoch 180/300\n",
      "1/1 [==============================] - 0s 66ms/step - loss: 1.0754 - accuracy: 0.6423 - val_loss: 2.7192 - val_accuracy: 0.1515\n",
      "Epoch 181/300\n",
      "1/1 [==============================] - 0s 78ms/step - loss: 1.0656 - accuracy: 0.6423 - val_loss: 2.7305 - val_accuracy: 0.1515\n",
      "Epoch 182/300\n",
      "1/1 [==============================] - 0s 59ms/step - loss: 1.0560 - accuracy: 0.6423 - val_loss: 2.7420 - val_accuracy: 0.1515\n",
      "Epoch 183/300\n",
      "1/1 [==============================] - 0s 61ms/step - loss: 1.0464 - accuracy: 0.6423 - val_loss: 2.7536 - val_accuracy: 0.1515\n",
      "Epoch 184/300\n",
      "1/1 [==============================] - 0s 80ms/step - loss: 1.0368 - accuracy: 0.6667 - val_loss: 2.7648 - val_accuracy: 0.1515\n",
      "Epoch 185/300\n",
      "1/1 [==============================] - 0s 54ms/step - loss: 1.0273 - accuracy: 0.6992 - val_loss: 2.7760 - val_accuracy: 0.1515\n",
      "Epoch 186/300\n",
      "1/1 [==============================] - 0s 63ms/step - loss: 1.0179 - accuracy: 0.7073 - val_loss: 2.7869 - val_accuracy: 0.1515\n",
      "Epoch 187/300\n",
      "1/1 [==============================] - 0s 86ms/step - loss: 1.0085 - accuracy: 0.7073 - val_loss: 2.7975 - val_accuracy: 0.1515\n",
      "Epoch 188/300\n",
      "1/1 [==============================] - 0s 69ms/step - loss: 0.9992 - accuracy: 0.7236 - val_loss: 2.8076 - val_accuracy: 0.1515\n",
      "Epoch 189/300\n",
      "1/1 [==============================] - 0s 81ms/step - loss: 0.9900 - accuracy: 0.7236 - val_loss: 2.8164 - val_accuracy: 0.1515\n",
      "Epoch 190/300\n",
      "1/1 [==============================] - 0s 67ms/step - loss: 0.9808 - accuracy: 0.7317 - val_loss: 2.8253 - val_accuracy: 0.1515\n",
      "Epoch 191/300\n",
      "1/1 [==============================] - 0s 64ms/step - loss: 0.9717 - accuracy: 0.7398 - val_loss: 2.8332 - val_accuracy: 0.1515\n",
      "Epoch 192/300\n",
      "1/1 [==============================] - 0s 75ms/step - loss: 0.9626 - accuracy: 0.7480 - val_loss: 2.8405 - val_accuracy: 0.1515\n",
      "Epoch 193/300\n",
      "1/1 [==============================] - 0s 68ms/step - loss: 0.9536 - accuracy: 0.7480 - val_loss: 2.8471 - val_accuracy: 0.1515\n",
      "Epoch 194/300\n",
      "1/1 [==============================] - 0s 74ms/step - loss: 0.9447 - accuracy: 0.7561 - val_loss: 2.8540 - val_accuracy: 0.1515\n",
      "Epoch 195/300\n",
      "1/1 [==============================] - 0s 81ms/step - loss: 0.9359 - accuracy: 0.7561 - val_loss: 2.8604 - val_accuracy: 0.1515\n",
      "Epoch 196/300\n",
      "1/1 [==============================] - 0s 64ms/step - loss: 0.9272 - accuracy: 0.7642 - val_loss: 2.8663 - val_accuracy: 0.1515\n",
      "Epoch 197/300\n",
      "1/1 [==============================] - 0s 72ms/step - loss: 0.9186 - accuracy: 0.7642 - val_loss: 2.8728 - val_accuracy: 0.1515\n",
      "Epoch 198/300\n",
      "1/1 [==============================] - 0s 71ms/step - loss: 0.9100 - accuracy: 0.7724 - val_loss: 2.8793 - val_accuracy: 0.1515\n",
      "Epoch 199/300\n",
      "1/1 [==============================] - 0s 74ms/step - loss: 0.9016 - accuracy: 0.7724 - val_loss: 2.8852 - val_accuracy: 0.1515\n",
      "Epoch 200/300\n",
      "1/1 [==============================] - 0s 67ms/step - loss: 0.8933 - accuracy: 0.7805 - val_loss: 2.8923 - val_accuracy: 0.1818\n",
      "Epoch 201/300\n",
      "1/1 [==============================] - 0s 85ms/step - loss: 0.8850 - accuracy: 0.7886 - val_loss: 2.8991 - val_accuracy: 0.1818\n",
      "Epoch 202/300\n",
      "1/1 [==============================] - 0s 60ms/step - loss: 0.8769 - accuracy: 0.7967 - val_loss: 2.9053 - val_accuracy: 0.1818\n",
      "Epoch 203/300\n",
      "1/1 [==============================] - 0s 79ms/step - loss: 0.8688 - accuracy: 0.8049 - val_loss: 2.9126 - val_accuracy: 0.1818\n",
      "Epoch 204/300\n",
      "1/1 [==============================] - 0s 61ms/step - loss: 0.8608 - accuracy: 0.8130 - val_loss: 2.9199 - val_accuracy: 0.1818\n",
      "Epoch 205/300\n",
      "1/1 [==============================] - 0s 90ms/step - loss: 0.8529 - accuracy: 0.8211 - val_loss: 2.9271 - val_accuracy: 0.1818\n",
      "Epoch 206/300\n",
      "1/1 [==============================] - 0s 68ms/step - loss: 0.8451 - accuracy: 0.8293 - val_loss: 2.9349 - val_accuracy: 0.1818\n",
      "Epoch 207/300\n",
      "1/1 [==============================] - 0s 73ms/step - loss: 0.8373 - accuracy: 0.8293 - val_loss: 2.9429 - val_accuracy: 0.1818\n",
      "Epoch 208/300\n",
      "1/1 [==============================] - 0s 57ms/step - loss: 0.8297 - accuracy: 0.8374 - val_loss: 2.9503 - val_accuracy: 0.1818\n",
      "Epoch 209/300\n",
      "1/1 [==============================] - 0s 66ms/step - loss: 0.8221 - accuracy: 0.8455 - val_loss: 2.9584 - val_accuracy: 0.1818\n",
      "Epoch 210/300\n",
      "1/1 [==============================] - 0s 67ms/step - loss: 0.8146 - accuracy: 0.8537 - val_loss: 2.9662 - val_accuracy: 0.1818\n",
      "Epoch 211/300\n",
      "1/1 [==============================] - 0s 72ms/step - loss: 0.8072 - accuracy: 0.8537 - val_loss: 2.9736 - val_accuracy: 0.1818\n",
      "Epoch 212/300\n",
      "1/1 [==============================] - 0s 64ms/step - loss: 0.7998 - accuracy: 0.8537 - val_loss: 2.9817 - val_accuracy: 0.1818\n",
      "Epoch 213/300\n",
      "1/1 [==============================] - 0s 64ms/step - loss: 0.7925 - accuracy: 0.8537 - val_loss: 2.9893 - val_accuracy: 0.1818\n",
      "Epoch 214/300\n",
      "1/1 [==============================] - 0s 87ms/step - loss: 0.7853 - accuracy: 0.8618 - val_loss: 2.9968 - val_accuracy: 0.1818\n",
      "Epoch 215/300\n",
      "1/1 [==============================] - 0s 60ms/step - loss: 0.7782 - accuracy: 0.8699 - val_loss: 3.0053 - val_accuracy: 0.1818\n",
      "Epoch 216/300\n",
      "1/1 [==============================] - 0s 71ms/step - loss: 0.7711 - accuracy: 0.8699 - val_loss: 3.0130 - val_accuracy: 0.1818\n",
      "Epoch 217/300\n",
      "1/1 [==============================] - 0s 76ms/step - loss: 0.7641 - accuracy: 0.8699 - val_loss: 3.0215 - val_accuracy: 0.1818\n",
      "Epoch 218/300\n",
      "1/1 [==============================] - 0s 83ms/step - loss: 0.7572 - accuracy: 0.8699 - val_loss: 3.0301 - val_accuracy: 0.1818\n",
      "Epoch 219/300\n",
      "1/1 [==============================] - 0s 68ms/step - loss: 0.7504 - accuracy: 0.8699 - val_loss: 3.0377 - val_accuracy: 0.1818\n",
      "Epoch 220/300\n",
      "1/1 [==============================] - 0s 64ms/step - loss: 0.7436 - accuracy: 0.8699 - val_loss: 3.0466 - val_accuracy: 0.1818\n",
      "Epoch 221/300\n",
      "1/1 [==============================] - 0s 78ms/step - loss: 0.7369 - accuracy: 0.8699 - val_loss: 3.0544 - val_accuracy: 0.1818\n",
      "Epoch 222/300\n",
      "1/1 [==============================] - 0s 79ms/step - loss: 0.7302 - accuracy: 0.8780 - val_loss: 3.0632 - val_accuracy: 0.1818\n",
      "Epoch 223/300\n",
      "1/1 [==============================] - 0s 71ms/step - loss: 0.7236 - accuracy: 0.8780 - val_loss: 3.0713 - val_accuracy: 0.1818\n",
      "Epoch 224/300\n",
      "1/1 [==============================] - 0s 98ms/step - loss: 0.7171 - accuracy: 0.8780 - val_loss: 3.0798 - val_accuracy: 0.1818\n",
      "Epoch 225/300\n",
      "1/1 [==============================] - 0s 62ms/step - loss: 0.7107 - accuracy: 0.8862 - val_loss: 3.0881 - val_accuracy: 0.1818\n",
      "Epoch 226/300\n",
      "1/1 [==============================] - 0s 68ms/step - loss: 0.7043 - accuracy: 0.8862 - val_loss: 3.0965 - val_accuracy: 0.1818\n",
      "Epoch 227/300\n",
      "1/1 [==============================] - 0s 66ms/step - loss: 0.6980 - accuracy: 0.8862 - val_loss: 3.1049 - val_accuracy: 0.1818\n",
      "Epoch 228/300\n",
      "1/1 [==============================] - 0s 75ms/step - loss: 0.6917 - accuracy: 0.8862 - val_loss: 3.1126 - val_accuracy: 0.1818\n",
      "Epoch 229/300\n",
      "1/1 [==============================] - 0s 73ms/step - loss: 0.6855 - accuracy: 0.8943 - val_loss: 3.1213 - val_accuracy: 0.1818\n",
      "Epoch 230/300\n"
     ]
    },
    {
     "ename": "KeyboardInterrupt",
     "evalue": "",
     "output_type": "error",
     "traceback": [
      "\u001b[1;31m---------------------------------------------------------------------------\u001b[0m",
      "\u001b[1;31mKeyboardInterrupt\u001b[0m                         Traceback (most recent call last)",
      "Cell \u001b[1;32mIn[69], line 3\u001b[0m\n\u001b[0;32m      1\u001b[0m \u001b[39mfrom\u001b[39;00m \u001b[39mtrain\u001b[39;00m\u001b[39m.\u001b[39;00m\u001b[39mtrain\u001b[39;00m \u001b[39mimport\u001b[39;00m train_seq2seq_kfold\n\u001b[1;32m----> 3\u001b[0m histories, y_pred_all, y_test_all \u001b[39m=\u001b[39m train_seq2seq_kfold(new_model, new_enc, new_dec, X2, X2_prior, y2,\n\u001b[0;32m      4\u001b[0m                                                         num_folds\u001b[39m=\u001b[39;49mnum_folds, num_reps\u001b[39m=\u001b[39;49mnum_reps,\n\u001b[0;32m      5\u001b[0m                                                         batch_size\u001b[39m=\u001b[39;49mbatch_size, epochs\u001b[39m=\u001b[39;49mepochs,\n\u001b[0;32m      6\u001b[0m                                                         early_stop\u001b[39m=\u001b[39;49m\u001b[39mFalse\u001b[39;49;00m)\n",
      "File \u001b[1;32md:\\Duke\\Viventi_Cogan_Lab\\RNN_transfer_learning\\RNN_phoneme_decoding_micro\\phoneme_encoder_decoder\\train\\train.py:125\u001b[0m, in \u001b[0;36mtrain_seq2seq_kfold\u001b[1;34m(train_model, inf_enc, inf_dec, X, X_prior, y, num_folds, num_reps, batch_size, epochs, early_stop, **kwargs)\u001b[0m\n\u001b[0;32m    120\u001b[0m \u001b[39mfor\u001b[39;00m _ \u001b[39min\u001b[39;00m \u001b[39mrange\u001b[39m(num_reps):  \u001b[39m# repeat fold for stability\u001b[39;00m\n\u001b[0;32m    121\u001b[0m     \u001b[39m# reset model weights for current fold (also resets associated\u001b[39;00m\n\u001b[0;32m    122\u001b[0m     \u001b[39m# inference weights)\u001b[39;00m\n\u001b[0;32m    123\u001b[0m     shuffle_weights(train_model, weights\u001b[39m=\u001b[39minit_train_w)\n\u001b[1;32m--> 125\u001b[0m     history, y_pred_fold, y_test_fold \u001b[39m=\u001b[39m train_seq2seq_single_fold(\n\u001b[0;32m    126\u001b[0m                                 train_model, inf_enc, inf_dec, X,\n\u001b[0;32m    127\u001b[0m                                 X_prior, y, train_ind, test_ind,\n\u001b[0;32m    128\u001b[0m                                 batch_size\u001b[39m=\u001b[39mbatch_size, epochs\u001b[39m=\u001b[39mepochs,\n\u001b[0;32m    129\u001b[0m                                 callbacks\u001b[39m=\u001b[39mcb, \u001b[39m*\u001b[39m\u001b[39m*\u001b[39mkwargs)\n\u001b[0;32m    131\u001b[0m     y_pred_all\u001b[39m.\u001b[39mextend(y_pred_fold)\n\u001b[0;32m    132\u001b[0m     y_test_all\u001b[39m.\u001b[39mextend(y_test_fold)\n",
      "File \u001b[1;32md:\\Duke\\Viventi_Cogan_Lab\\RNN_transfer_learning\\RNN_phoneme_decoding_micro\\phoneme_encoder_decoder\\train\\train.py:170\u001b[0m, in \u001b[0;36mtrain_seq2seq_single_fold\u001b[1;34m(train_model, inf_enc, inf_dec, X, X_prior, y, train_ind, test_ind, batch_size, epochs, **kwargs)\u001b[0m\n\u001b[0;32m    167\u001b[0m X_prior_train, X_prior_test \u001b[39m=\u001b[39m X_prior[train_ind], X_prior[test_ind]\n\u001b[0;32m    168\u001b[0m y_train, y_test \u001b[39m=\u001b[39m y[train_ind], y[test_ind]\n\u001b[1;32m--> 170\u001b[0m _, history \u001b[39m=\u001b[39m train_seq2seq(train_model, X_train, X_prior_train, y_train,\n\u001b[0;32m    171\u001b[0m                            batch_size\u001b[39m=\u001b[39mbatch_size, epochs\u001b[39m=\u001b[39mepochs,\n\u001b[0;32m    172\u001b[0m                            validation_data\u001b[39m=\u001b[39m([X_test, X_prior_test],\n\u001b[0;32m    173\u001b[0m                                             y_test), \u001b[39m*\u001b[39m\u001b[39m*\u001b[39mkwargs)\n\u001b[0;32m    175\u001b[0m y_test_fold, y_pred_fold \u001b[39m=\u001b[39m decode_seq2seq(inf_enc, inf_dec, X_test,\n\u001b[0;32m    176\u001b[0m                                           y_test)\n\u001b[0;32m    178\u001b[0m \u001b[39mreturn\u001b[39;00m history, y_test_fold, y_pred_fold\n",
      "File \u001b[1;32md:\\Duke\\Viventi_Cogan_Lab\\RNN_transfer_learning\\RNN_phoneme_decoding_micro\\phoneme_encoder_decoder\\train\\train.py:233\u001b[0m, in \u001b[0;36mtrain_seq2seq\u001b[1;34m(model, X, X_prior, y, batch_size, epochs, **kwargs)\u001b[0m\n\u001b[0;32m    210\u001b[0m \u001b[39m\u001b[39m\u001b[39m\"\"\"Trains a seq2seq encoder-decoder model.\u001b[39;00m\n\u001b[0;32m    211\u001b[0m \n\u001b[0;32m    212\u001b[0m \u001b[39mTrains a seq2seq encoder-decoder model. Model is trained with teacher\u001b[39;00m\n\u001b[1;32m   (...)\u001b[0m\n\u001b[0;32m    230\u001b[0m \u001b[39m    (Functional, Callback): Trained model, training performance history.\u001b[39;00m\n\u001b[0;32m    231\u001b[0m \u001b[39m\"\"\"\u001b[39;00m\n\u001b[0;32m    232\u001b[0m \u001b[39m# with tf.device('/device:GPU:0'):\u001b[39;00m\n\u001b[1;32m--> 233\u001b[0m history \u001b[39m=\u001b[39m model\u001b[39m.\u001b[39mfit([X, X_prior], y, batch_size\u001b[39m=\u001b[39mbatch_size,\n\u001b[0;32m    234\u001b[0m                     epochs\u001b[39m=\u001b[39mepochs, \u001b[39m*\u001b[39m\u001b[39m*\u001b[39mkwargs)\n\u001b[0;32m    236\u001b[0m \u001b[39mreturn\u001b[39;00m model, history\n",
      "File \u001b[1;32md:\\Duke\\Viventi_Cogan_Lab\\RNN_transfer_learning\\RNN_phoneme_decoding_micro\\.venv\\lib\\site-packages\\keras\\utils\\traceback_utils.py:65\u001b[0m, in \u001b[0;36mfilter_traceback.<locals>.error_handler\u001b[1;34m(*args, **kwargs)\u001b[0m\n\u001b[0;32m     63\u001b[0m filtered_tb \u001b[39m=\u001b[39m \u001b[39mNone\u001b[39;00m\n\u001b[0;32m     64\u001b[0m \u001b[39mtry\u001b[39;00m:\n\u001b[1;32m---> 65\u001b[0m     \u001b[39mreturn\u001b[39;00m fn(\u001b[39m*\u001b[39margs, \u001b[39m*\u001b[39m\u001b[39m*\u001b[39mkwargs)\n\u001b[0;32m     66\u001b[0m \u001b[39mexcept\u001b[39;00m \u001b[39mException\u001b[39;00m \u001b[39mas\u001b[39;00m e:\n\u001b[0;32m     67\u001b[0m     filtered_tb \u001b[39m=\u001b[39m _process_traceback_frames(e\u001b[39m.\u001b[39m__traceback__)\n",
      "File \u001b[1;32md:\\Duke\\Viventi_Cogan_Lab\\RNN_transfer_learning\\RNN_phoneme_decoding_micro\\.venv\\lib\\site-packages\\keras\\engine\\training.py:1564\u001b[0m, in \u001b[0;36mModel.fit\u001b[1;34m(self, x, y, batch_size, epochs, verbose, callbacks, validation_split, validation_data, shuffle, class_weight, sample_weight, initial_epoch, steps_per_epoch, validation_steps, validation_batch_size, validation_freq, max_queue_size, workers, use_multiprocessing)\u001b[0m\n\u001b[0;32m   1556\u001b[0m \u001b[39mwith\u001b[39;00m tf\u001b[39m.\u001b[39mprofiler\u001b[39m.\u001b[39mexperimental\u001b[39m.\u001b[39mTrace(\n\u001b[0;32m   1557\u001b[0m     \u001b[39m\"\u001b[39m\u001b[39mtrain\u001b[39m\u001b[39m\"\u001b[39m,\n\u001b[0;32m   1558\u001b[0m     epoch_num\u001b[39m=\u001b[39mepoch,\n\u001b[1;32m   (...)\u001b[0m\n\u001b[0;32m   1561\u001b[0m     _r\u001b[39m=\u001b[39m\u001b[39m1\u001b[39m,\n\u001b[0;32m   1562\u001b[0m ):\n\u001b[0;32m   1563\u001b[0m     callbacks\u001b[39m.\u001b[39mon_train_batch_begin(step)\n\u001b[1;32m-> 1564\u001b[0m     tmp_logs \u001b[39m=\u001b[39m \u001b[39mself\u001b[39;49m\u001b[39m.\u001b[39;49mtrain_function(iterator)\n\u001b[0;32m   1565\u001b[0m     \u001b[39mif\u001b[39;00m data_handler\u001b[39m.\u001b[39mshould_sync:\n\u001b[0;32m   1566\u001b[0m         context\u001b[39m.\u001b[39masync_wait()\n",
      "File \u001b[1;32md:\\Duke\\Viventi_Cogan_Lab\\RNN_transfer_learning\\RNN_phoneme_decoding_micro\\.venv\\lib\\site-packages\\tensorflow\\python\\util\\traceback_utils.py:150\u001b[0m, in \u001b[0;36mfilter_traceback.<locals>.error_handler\u001b[1;34m(*args, **kwargs)\u001b[0m\n\u001b[0;32m    148\u001b[0m filtered_tb \u001b[39m=\u001b[39m \u001b[39mNone\u001b[39;00m\n\u001b[0;32m    149\u001b[0m \u001b[39mtry\u001b[39;00m:\n\u001b[1;32m--> 150\u001b[0m   \u001b[39mreturn\u001b[39;00m fn(\u001b[39m*\u001b[39margs, \u001b[39m*\u001b[39m\u001b[39m*\u001b[39mkwargs)\n\u001b[0;32m    151\u001b[0m \u001b[39mexcept\u001b[39;00m \u001b[39mException\u001b[39;00m \u001b[39mas\u001b[39;00m e:\n\u001b[0;32m    152\u001b[0m   filtered_tb \u001b[39m=\u001b[39m _process_traceback_frames(e\u001b[39m.\u001b[39m__traceback__)\n",
      "File \u001b[1;32md:\\Duke\\Viventi_Cogan_Lab\\RNN_transfer_learning\\RNN_phoneme_decoding_micro\\.venv\\lib\\site-packages\\tensorflow\\python\\eager\\def_function.py:915\u001b[0m, in \u001b[0;36mFunction.__call__\u001b[1;34m(self, *args, **kwds)\u001b[0m\n\u001b[0;32m    912\u001b[0m compiler \u001b[39m=\u001b[39m \u001b[39m\"\u001b[39m\u001b[39mxla\u001b[39m\u001b[39m\"\u001b[39m \u001b[39mif\u001b[39;00m \u001b[39mself\u001b[39m\u001b[39m.\u001b[39m_jit_compile \u001b[39melse\u001b[39;00m \u001b[39m\"\u001b[39m\u001b[39mnonXla\u001b[39m\u001b[39m\"\u001b[39m\n\u001b[0;32m    914\u001b[0m \u001b[39mwith\u001b[39;00m OptionalXlaContext(\u001b[39mself\u001b[39m\u001b[39m.\u001b[39m_jit_compile):\n\u001b[1;32m--> 915\u001b[0m   result \u001b[39m=\u001b[39m \u001b[39mself\u001b[39m\u001b[39m.\u001b[39m_call(\u001b[39m*\u001b[39margs, \u001b[39m*\u001b[39m\u001b[39m*\u001b[39mkwds)\n\u001b[0;32m    917\u001b[0m new_tracing_count \u001b[39m=\u001b[39m \u001b[39mself\u001b[39m\u001b[39m.\u001b[39mexperimental_get_tracing_count()\n\u001b[0;32m    918\u001b[0m without_tracing \u001b[39m=\u001b[39m (tracing_count \u001b[39m==\u001b[39m new_tracing_count)\n",
      "File \u001b[1;32md:\\Duke\\Viventi_Cogan_Lab\\RNN_transfer_learning\\RNN_phoneme_decoding_micro\\.venv\\lib\\site-packages\\tensorflow\\python\\eager\\def_function.py:947\u001b[0m, in \u001b[0;36mFunction._call\u001b[1;34m(self, *args, **kwds)\u001b[0m\n\u001b[0;32m    944\u001b[0m   \u001b[39mself\u001b[39m\u001b[39m.\u001b[39m_lock\u001b[39m.\u001b[39mrelease()\n\u001b[0;32m    945\u001b[0m   \u001b[39m# In this case we have created variables on the first call, so we run the\u001b[39;00m\n\u001b[0;32m    946\u001b[0m   \u001b[39m# defunned version which is guaranteed to never create variables.\u001b[39;00m\n\u001b[1;32m--> 947\u001b[0m   \u001b[39mreturn\u001b[39;00m \u001b[39mself\u001b[39m\u001b[39m.\u001b[39m_stateless_fn(\u001b[39m*\u001b[39margs, \u001b[39m*\u001b[39m\u001b[39m*\u001b[39mkwds)  \u001b[39m# pylint: disable=not-callable\u001b[39;00m\n\u001b[0;32m    948\u001b[0m \u001b[39melif\u001b[39;00m \u001b[39mself\u001b[39m\u001b[39m.\u001b[39m_stateful_fn \u001b[39mis\u001b[39;00m \u001b[39mnot\u001b[39;00m \u001b[39mNone\u001b[39;00m:\n\u001b[0;32m    949\u001b[0m   \u001b[39m# Release the lock early so that multiple threads can perform the call\u001b[39;00m\n\u001b[0;32m    950\u001b[0m   \u001b[39m# in parallel.\u001b[39;00m\n\u001b[0;32m    951\u001b[0m   \u001b[39mself\u001b[39m\u001b[39m.\u001b[39m_lock\u001b[39m.\u001b[39mrelease()\n",
      "File \u001b[1;32md:\\Duke\\Viventi_Cogan_Lab\\RNN_transfer_learning\\RNN_phoneme_decoding_micro\\.venv\\lib\\site-packages\\tensorflow\\python\\eager\\function.py:2496\u001b[0m, in \u001b[0;36mFunction.__call__\u001b[1;34m(self, *args, **kwargs)\u001b[0m\n\u001b[0;32m   2493\u001b[0m \u001b[39mwith\u001b[39;00m \u001b[39mself\u001b[39m\u001b[39m.\u001b[39m_lock:\n\u001b[0;32m   2494\u001b[0m   (graph_function,\n\u001b[0;32m   2495\u001b[0m    filtered_flat_args) \u001b[39m=\u001b[39m \u001b[39mself\u001b[39m\u001b[39m.\u001b[39m_maybe_define_function(args, kwargs)\n\u001b[1;32m-> 2496\u001b[0m \u001b[39mreturn\u001b[39;00m graph_function\u001b[39m.\u001b[39;49m_call_flat(\n\u001b[0;32m   2497\u001b[0m     filtered_flat_args, captured_inputs\u001b[39m=\u001b[39;49mgraph_function\u001b[39m.\u001b[39;49mcaptured_inputs)\n",
      "File \u001b[1;32md:\\Duke\\Viventi_Cogan_Lab\\RNN_transfer_learning\\RNN_phoneme_decoding_micro\\.venv\\lib\\site-packages\\tensorflow\\python\\eager\\function.py:1862\u001b[0m, in \u001b[0;36mConcreteFunction._call_flat\u001b[1;34m(self, args, captured_inputs, cancellation_manager)\u001b[0m\n\u001b[0;32m   1858\u001b[0m possible_gradient_type \u001b[39m=\u001b[39m gradients_util\u001b[39m.\u001b[39mPossibleTapeGradientTypes(args)\n\u001b[0;32m   1859\u001b[0m \u001b[39mif\u001b[39;00m (possible_gradient_type \u001b[39m==\u001b[39m gradients_util\u001b[39m.\u001b[39mPOSSIBLE_GRADIENT_TYPES_NONE\n\u001b[0;32m   1860\u001b[0m     \u001b[39mand\u001b[39;00m executing_eagerly):\n\u001b[0;32m   1861\u001b[0m   \u001b[39m# No tape is watching; skip to running the function.\u001b[39;00m\n\u001b[1;32m-> 1862\u001b[0m   \u001b[39mreturn\u001b[39;00m \u001b[39mself\u001b[39m\u001b[39m.\u001b[39m_build_call_outputs(\u001b[39mself\u001b[39;49m\u001b[39m.\u001b[39;49m_inference_function\u001b[39m.\u001b[39;49mcall(\n\u001b[0;32m   1863\u001b[0m       ctx, args, cancellation_manager\u001b[39m=\u001b[39;49mcancellation_manager))\n\u001b[0;32m   1864\u001b[0m forward_backward \u001b[39m=\u001b[39m \u001b[39mself\u001b[39m\u001b[39m.\u001b[39m_select_forward_and_backward_functions(\n\u001b[0;32m   1865\u001b[0m     args,\n\u001b[0;32m   1866\u001b[0m     possible_gradient_type,\n\u001b[0;32m   1867\u001b[0m     executing_eagerly)\n\u001b[0;32m   1868\u001b[0m forward_function, args_with_tangents \u001b[39m=\u001b[39m forward_backward\u001b[39m.\u001b[39mforward()\n",
      "File \u001b[1;32md:\\Duke\\Viventi_Cogan_Lab\\RNN_transfer_learning\\RNN_phoneme_decoding_micro\\.venv\\lib\\site-packages\\tensorflow\\python\\eager\\function.py:499\u001b[0m, in \u001b[0;36m_EagerDefinedFunction.call\u001b[1;34m(self, ctx, args, cancellation_manager)\u001b[0m\n\u001b[0;32m    497\u001b[0m \u001b[39mwith\u001b[39;00m _InterpolateFunctionError(\u001b[39mself\u001b[39m):\n\u001b[0;32m    498\u001b[0m   \u001b[39mif\u001b[39;00m cancellation_manager \u001b[39mis\u001b[39;00m \u001b[39mNone\u001b[39;00m:\n\u001b[1;32m--> 499\u001b[0m     outputs \u001b[39m=\u001b[39m execute\u001b[39m.\u001b[39;49mexecute(\n\u001b[0;32m    500\u001b[0m         \u001b[39mstr\u001b[39;49m(\u001b[39mself\u001b[39;49m\u001b[39m.\u001b[39;49msignature\u001b[39m.\u001b[39;49mname),\n\u001b[0;32m    501\u001b[0m         num_outputs\u001b[39m=\u001b[39;49m\u001b[39mself\u001b[39;49m\u001b[39m.\u001b[39;49m_num_outputs,\n\u001b[0;32m    502\u001b[0m         inputs\u001b[39m=\u001b[39;49margs,\n\u001b[0;32m    503\u001b[0m         attrs\u001b[39m=\u001b[39;49mattrs,\n\u001b[0;32m    504\u001b[0m         ctx\u001b[39m=\u001b[39;49mctx)\n\u001b[0;32m    505\u001b[0m   \u001b[39melse\u001b[39;00m:\n\u001b[0;32m    506\u001b[0m     outputs \u001b[39m=\u001b[39m execute\u001b[39m.\u001b[39mexecute_with_cancellation(\n\u001b[0;32m    507\u001b[0m         \u001b[39mstr\u001b[39m(\u001b[39mself\u001b[39m\u001b[39m.\u001b[39msignature\u001b[39m.\u001b[39mname),\n\u001b[0;32m    508\u001b[0m         num_outputs\u001b[39m=\u001b[39m\u001b[39mself\u001b[39m\u001b[39m.\u001b[39m_num_outputs,\n\u001b[1;32m   (...)\u001b[0m\n\u001b[0;32m    511\u001b[0m         ctx\u001b[39m=\u001b[39mctx,\n\u001b[0;32m    512\u001b[0m         cancellation_manager\u001b[39m=\u001b[39mcancellation_manager)\n",
      "File \u001b[1;32md:\\Duke\\Viventi_Cogan_Lab\\RNN_transfer_learning\\RNN_phoneme_decoding_micro\\.venv\\lib\\site-packages\\tensorflow\\python\\eager\\execute.py:54\u001b[0m, in \u001b[0;36mquick_execute\u001b[1;34m(op_name, num_outputs, inputs, attrs, ctx, name)\u001b[0m\n\u001b[0;32m     52\u001b[0m \u001b[39mtry\u001b[39;00m:\n\u001b[0;32m     53\u001b[0m   ctx\u001b[39m.\u001b[39mensure_initialized()\n\u001b[1;32m---> 54\u001b[0m   tensors \u001b[39m=\u001b[39m pywrap_tfe\u001b[39m.\u001b[39;49mTFE_Py_Execute(ctx\u001b[39m.\u001b[39;49m_handle, device_name, op_name,\n\u001b[0;32m     55\u001b[0m                                       inputs, attrs, num_outputs)\n\u001b[0;32m     56\u001b[0m \u001b[39mexcept\u001b[39;00m core\u001b[39m.\u001b[39m_NotOkStatusException \u001b[39mas\u001b[39;00m e:\n\u001b[0;32m     57\u001b[0m   \u001b[39mif\u001b[39;00m name \u001b[39mis\u001b[39;00m \u001b[39mnot\u001b[39;00m \u001b[39mNone\u001b[39;00m:\n",
      "\u001b[1;31mKeyboardInterrupt\u001b[0m: "
     ]
    }
   ],
   "source": [
    "from train.train import train_seq2seq_kfold\n",
    "\n",
    "histories, y_pred_all, y_test_all = train_seq2seq_kfold(new_model, new_enc, new_dec, X2, X2_prior, y2,\n",
    "                                                        num_folds=num_folds, num_reps=num_reps,\n",
    "                                                        batch_size=batch_size, epochs=epochs,\n",
    "                                                        early_stop=False)"
   ]
  },
  {
   "cell_type": "code",
   "execution_count": 60,
   "metadata": {},
   "outputs": [
    {
     "data": {
      "image/png": "[encoded data removed]",
      "text/plain": [
       "<Figure size 1200x400 with 2 Axes>"
      ]
     },
     "metadata": {},
     "output_type": "display_data"
    }
   ],
   "source": [
    "_, (ax1, ax2) = plt.subplots(1, 2, figsize=(12, 4))\n",
    "ax1.plot(np.array(histories['loss']).T, color='blue', alpha=0.35)\n",
    "ax1.plot(np.mean(histories['loss'], axis=0), color='blue', label='Train')\n",
    "ax1.plot(np.array(histories['val_loss']).T, color='orange', alpha=0.35)\n",
    "ax1.plot(np.mean(histories['val_loss'], axis=0), color='orange', label='Test')\n",
    "ax1.set_xlabel('Epoch')\n",
    "ax1.set_ylabel('Loss')\n",
    "ax1.set_title('RNN Loss')\n",
    "ax1.legend()\n",
    "\n",
    "ax2.plot(np.array(histories['accuracy']).T, color='blue', alpha=0.35)\n",
    "ax2.plot(np.mean(histories['accuracy'], axis=0), color='blue', label='Train')\n",
    "ax2.plot(np.array(histories['val_accuracy']).T, color='orange', alpha=0.35)\n",
    "ax2.plot(np.mean(histories['val_accuracy'], axis=0), color='orange', label='Test')\n",
    "# ax2.axhline(1/(n_output-1), color='gray', linestyle='--', label='Chance')\n",
    "ax2.set_xlabel('Epoch')\n",
    "ax2.set_ylabel('Accuracy')\n",
    "ax2.set_title('RNN Accuracy')\n",
    "ax2.legend()\n",
    "\n",
    "plt.show()"
   ]
  },
  {
   "cell_type": "code",
   "execution_count": 61,
   "metadata": {},
   "outputs": [
    {
     "name": "stdout",
     "output_type": "stream",
     "text": [
      "Balanced Accuracy: 0.1522012845542257\n"
     ]
    }
   ],
   "source": [
    "from sklearn.metrics import balanced_accuracy_score\n",
    "\n",
    "print(f'Balanced Accuracy: {balanced_accuracy_score(y_test_all, y_pred_all)}')"
   ]
  },
  {
   "attachments": {},
   "cell_type": "markdown",
   "metadata": {},
   "source": [
    "### Transfer Training S14 -> S26"
   ]
  },
  {
   "cell_type": "code",
   "execution_count": null,
   "metadata": {},
   "outputs": [],
   "source": [
    "# imports\n",
    "from keras.optimizers import Adam\n",
    "from train.transfer_training import transfer_seq2seq_kfold"
   ]
  },
  {
   "cell_type": "code",
   "execution_count": null,
   "metadata": {},
   "outputs": [],
   "source": [
    "# trans_model, trans_enc, trans_dec = lstm_1Dcnn_model(n_input_time, n_input_channel, n_output, n_filters, filter_size, n_units, reg_lambda, bidir=bidir, dropout=dropout)\n",
    "trans_model, trans_enc, trans_dec = lstm_3Dcnn_model(n_input_time, n_input_channel, n_output, n_filters, filter_size, n_units, reg_lambda, bidir=bidir, dropout=dropout)\n",
    "# trans_model, trans_enc, trans_dec = gru_1Dcnn_model(n_input_time, n_input_channel, n_output, n_filters, filter_size, n_units, reg_lambda, bidir=bidir, dropout=dropout)"
   ]
  },
  {
   "cell_type": "code",
   "execution_count": null,
   "metadata": {},
   "outputs": [],
   "source": [
    "# parameters\n",
    "num_folds = 5\n",
    "batch_size = 200\n",
    "epochs = 540\n",
    "learning_rate = 1e-5\n",
    "\n",
    "trans_model.compile(optimizer=Adam(learning_rate), loss='categorical_crossentropy', metrics=['accuracy'])"
   ]
  },
  {
   "cell_type": "code",
   "execution_count": null,
   "metadata": {},
   "outputs": [],
   "source": [
    "models, histories, y_pred_all, y_test_all = transfer_seq2seq_kfold(trans_model, trans_enc, trans_dec, X1, X1_prior, y1, X2, X2_prior, y2, num_folds=num_folds, fine_tune_epochs=epochs)"
   ]
  },
  {
   "cell_type": "code",
   "execution_count": null,
   "metadata": {},
   "outputs": [],
   "source": [
    "# from visualization.plot_model_performance import extend_history_lists\n",
    "\n",
    "# histories = extend_history_lists(histories, epochs=epochs)\n",
    "\n",
    "_, (ax1, ax2) = plt.subplots(1, 2, figsize=(12, 4))\n",
    "ax1.plot(np.array(histories['loss']).T, color='blue', alpha=0.35)\n",
    "ax1.plot(np.mean(histories['loss'], axis=0), color='blue', label='Train')\n",
    "ax1.plot(np.array(histories['val_loss']).T, color='orange', alpha=0.35)\n",
    "ax1.plot(np.mean(histories['val_loss'], axis=0), color='orange', label='Test')\n",
    "ax1.set_xlabel('Epoch')\n",
    "ax1.set_ylabel('Loss')\n",
    "ax1.set_title('RNN Loss')\n",
    "ax1.legend()\n",
    "\n",
    "ax2.plot(np.array(histories['accuracy']).T, color='blue', alpha=0.35)\n",
    "ax2.plot(np.mean(histories['accuracy'], axis=0), color='blue', label='Train')\n",
    "ax2.plot(np.array(histories['val_accuracy']).T, color='orange', alpha=0.35)\n",
    "ax2.plot(np.mean(histories['val_accuracy'], axis=0), color='orange', label='Test')\n",
    "# ax2.axhline(1/(n_output-1), color='gray', linestyle='--', label='Chance')\n",
    "ax2.set_xlabel('Epoch')\n",
    "ax2.set_ylabel('Accuracy')\n",
    "ax2.set_title('RNN Accuracy')\n",
    "ax2.legend()\n",
    "\n",
    "plt.show()"
   ]
  },
  {
   "cell_type": "code",
   "execution_count": null,
   "metadata": {},
   "outputs": [],
   "source": [
    "from visualization.plot_model_performance import plot_accuracy_loss\n",
    "\n",
    "plot_accuracy_loss(histories, epochs=epochs)"
   ]
  },
  {
   "cell_type": "code",
   "execution_count": null,
   "metadata": {},
   "outputs": [],
   "source": [
    "from sklearn.metrics import balanced_accuracy_score\n",
    "\n",
    "print('Balanced Accuracy: ', balanced_accuracy_score(y_test_all, y_pred_all))"
   ]
  },
  {
   "attachments": {},
   "cell_type": "markdown",
   "metadata": {},
   "source": [
    "### Transfer Training S26 -> S14"
   ]
  },
  {
   "cell_type": "code",
   "execution_count": null,
   "metadata": {},
   "outputs": [],
   "source": [
    "# imports\n",
    "from keras.optimizers import Adam\n",
    "from train.transfer_training import transfer_seq2seq_kfold"
   ]
  },
  {
   "cell_type": "code",
   "execution_count": null,
   "metadata": {},
   "outputs": [],
   "source": [
    "trans_model, trans_enc, trans_dec = lstm_1Dcnn_model(n_input_time, n_input_channel, n_output, n_filters, filter_size, n_units, reg_lambda, bidir=bidir)"
   ]
  },
  {
   "cell_type": "code",
   "execution_count": null,
   "metadata": {},
   "outputs": [],
   "source": [
    "# parameters\n",
    "num_folds = 5\n",
    "batch_size = 200\n",
    "# epochs = 500\n",
    "learning_rate = 5e-6\n",
    "\n",
    "trans_model.compile(optimizer=Adam(learning_rate), loss='categorical_crossentropy', metrics=['accuracy'])"
   ]
  },
  {
   "cell_type": "code",
   "execution_count": null,
   "metadata": {},
   "outputs": [],
   "source": [
    "models2, histories2, y_pred2_all, y_test2_all = transfer_seq2seq_kfold(trans_model, trans_enc, trans_dec, X2, X2_prior, y2, X1, X1_prior, y1, num_folds=num_folds)"
   ]
  },
  {
   "cell_type": "code",
   "execution_count": null,
   "metadata": {},
   "outputs": [],
   "source": [
    "# from visualization.plot_model_performance import extend_history_lists\n",
    "\n",
    "# histories = extend_history_lists(histories, epochs=epochs)\n",
    "\n",
    "_, (ax1, ax2) = plt.subplots(1, 2, figsize=(12, 4))\n",
    "ax1.plot(np.array(histories2['loss']).T, color='blue', alpha=0.35)\n",
    "ax1.plot(np.mean(histories2['loss'], axis=0), color='blue', label='Train')\n",
    "ax1.plot(np.array(histories2['val_loss']).T, color='orange', alpha=0.35)\n",
    "ax1.plot(np.mean(histories2['val_loss'], axis=0), color='orange', label='Test')\n",
    "ax1.set_xlabel('Epoch')\n",
    "ax1.set_ylabel('Loss')\n",
    "ax1.set_title('RNN Loss')\n",
    "ax1.legend()\n",
    "\n",
    "ax2.plot(np.array(histories2['accuracy']).T, color='blue', alpha=0.35)\n",
    "ax2.plot(np.mean(histories2['accuracy'], axis=0), color='blue', label='Train')\n",
    "ax2.plot(np.array(histories2['val_accuracy']).T, color='orange', alpha=0.35)\n",
    "ax2.plot(np.mean(histories2['val_accuracy'], axis=0), color='orange', label='Test')\n",
    "# ax2.axhline(1/(n_output-1), color='gray', linestyle='--', label='Chance')\n",
    "ax2.set_xlabel('Epoch')\n",
    "ax2.set_ylabel('Accuracy')\n",
    "ax2.set_title('RNN Accuracy')\n",
    "ax2.legend()\n",
    "\n",
    "plt.show()"
   ]
  },
  {
   "cell_type": "code",
   "execution_count": null,
   "metadata": {},
   "outputs": [],
   "source": [
    "from visualization.plot_model_performance import plot_accuracy_loss\n",
    "\n",
    "plot_accuracy_loss(histories2, epochs=540)"
   ]
  },
  {
   "attachments": {},
   "cell_type": "markdown",
   "metadata": {},
   "source": [
    "### Transfer Training S14 -> S33 (128 chan -> 256 chan)"
   ]
  },
  {
   "cell_type": "code",
   "execution_count": null,
   "metadata": {},
   "outputs": [],
   "source": [
    "from train.transfer_training import transfer_seq2seq_kfold_diff_chans"
   ]
  },
  {
   "cell_type": "code",
   "execution_count": null,
   "metadata": {},
   "outputs": [],
   "source": [
    "n_input_channel_transfer = X2.shape[2]\n",
    "new_model, new_enc, new_dec = lstm_1Dcnn_model(n_input_time, n_input_channel_transfer,\n",
    "                                               n_output, n_filters, filter_size, n_units,\n",
    "                                               reg_lambda, bidir=bidir)\n",
    "new_model.summary()"
   ]
  },
  {
   "cell_type": "code",
   "execution_count": null,
   "metadata": {},
   "outputs": [],
   "source": [
    "from keras.optimizers import Adam\n",
    "\n",
    "num_folds = 5\n",
    "batch_size = 200\n",
    "epochs = 540\n",
    "learning_rate = 5e-4\n",
    "\n",
    "train_model.compile(optimizer=Adam(learning_rate), loss='categorical_crossentropy', metrics=['accuracy'])\n",
    "new_model.compile(optimizer=Adam(learning_rate), loss='categorical_crossentropy', metrics=['accuracy'])"
   ]
  },
  {
   "cell_type": "code",
   "execution_count": null,
   "metadata": {},
   "outputs": [],
   "source": [
    "models2, histories2, y_pred2_all, y_test2_all = transfer_seq2seq_kfold_diff_chans(train_model, new_model, new_enc, new_dec, X1, X1_prior, y1, X2, X2_prior, y2, num_folds=num_folds)"
   ]
  },
  {
   "cell_type": "code",
   "execution_count": null,
   "metadata": {},
   "outputs": [],
   "source": [
    "_, (ax1, ax2) = plt.subplots(1, 2, figsize=(12, 4))\n",
    "ax1.plot(np.array(histories2['loss']).T, color='blue', alpha=0.35)\n",
    "ax1.plot(np.mean(histories2['loss'], axis=0), color='blue', label='Train')\n",
    "ax1.plot(np.array(histories2['val_loss']).T, color='orange', alpha=0.35)\n",
    "ax1.plot(np.mean(histories2['val_loss'], axis=0), color='orange', label='Test')\n",
    "ax1.set_xlabel('Epoch')\n",
    "ax1.set_ylabel('Loss')\n",
    "ax1.set_title('RNN Loss')\n",
    "ax1.legend()\n",
    "\n",
    "ax2.plot(np.array(histories2['accuracy']).T, color='blue', alpha=0.35)\n",
    "ax2.plot(np.mean(histories2['accuracy'], axis=0), color='blue', label='Train')\n",
    "ax2.plot(np.array(histories2['val_accuracy']).T, color='orange', alpha=0.35)\n",
    "ax2.plot(np.mean(histories2['val_accuracy'], axis=0), color='orange', label='Test')\n",
    "# ax2.axhline(1/(n_output-1), color='gray', linestyle='--', label='Chance')\n",
    "ax2.set_xlabel('Epoch')\n",
    "ax2.set_ylabel('Accuracy')\n",
    "ax2.set_title('RNN Accuracy')\n",
    "ax2.legend()\n",
    "\n",
    "plt.show()"
   ]
  },
  {
   "cell_type": "code",
   "execution_count": 66,
   "metadata": {},
   "outputs": [
    {
     "name": "stdout",
     "output_type": "stream",
     "text": [
      "Balanced Accuracy:  0.2508382140735082\n"
     ]
    }
   ],
   "source": [
    "from sklearn.metrics import balanced_accuracy_score\n",
    "\n",
    "print('Balanced Accuracy: ', balanced_accuracy_score(y_test2_all, y_pred2_all))"
   ]
  }
 ],
 "metadata": {
  "kernelspec": {
   "display_name": ".venv",
   "language": "python",
   "name": "python3"
  },
  "language_info": {
   "codemirror_mode": {
    "name": "ipython",
    "version": 3
   },
   "file_extension": ".py",
   "mimetype": "text/x-python",
   "name": "python",
   "nbconvert_exporter": "python",
   "pygments_lexer": "ipython3",
   "version": "3.10.5"
  },
  "orig_nbformat": 4,
  "vscode": {
   "interpreter": {
    "hash": "70ea75fe4d4912c04c5b3d05361445264347b81ab4a9aec88659d0b476cbe73b"
   }
  }
 },
 "nbformat": 4,
 "nbformat_minor": 2
}
