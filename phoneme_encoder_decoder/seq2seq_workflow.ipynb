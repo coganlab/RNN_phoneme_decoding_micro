{
 "cells": [
  {
   "cell_type": "code",
   "execution_count": 11,
   "metadata": {},
   "outputs": [],
   "source": [
    "from tensorflow import keras\n",
    "from seq2seq_models.rnn_models import lstm_1Dcnn_model, lstm_3Dcnn_model, gru_1Dcnn_model, gru_3Dcnn_model"
   ]
  },
  {
   "cell_type": "code",
   "execution_count": 8,
   "metadata": {},
   "outputs": [],
   "source": [
    "# model parameters\n",
    "n_output = 10\n",
    "n_input_time = 200\n",
    "n_input_channel = 111\n",
    "n_channel_x = 8\n",
    "n_channel_y = 16\n",
    "n_filters = 100\n",
    "filter_size = 2\n",
    "n_units = 500\n",
    "reg_lambda = 1e-5"
   ]
  },
  {
   "cell_type": "code",
   "execution_count": 9,
   "metadata": {},
   "outputs": [],
   "source": [
    "training_model, inf_enc, inf_dec = lstm_1Dcnn_model(n_input_time, n_input_channel, n_output, n_filters, filter_size, n_units, reg_lambda)\n",
    "# training_model, inf_enc, inf_dec = lstm_3Dcnn_model(n_input_time, n_channel_x, n_channel_y, n_output, n_filters, filter_size, n_units, reg_lambda)\n",
    "# training_model, inf_enc, inf_dec = gru_1Dcnn_model(n_input_time, n_input_channel, n_output, n_filters, filter_size, n_units, reg_lambda)"
   ]
  },
  {
   "cell_type": "code",
   "execution_count": 10,
   "metadata": {},
   "outputs": [
    {
     "name": "stdout",
     "output_type": "stream",
     "text": [
      "Model: \"model_8\"\n",
      "__________________________________________________________________________________________________\n",
      " Layer (type)                   Output Shape         Param #     Connected to                     \n",
      "==================================================================================================\n",
      " input_7 (InputLayer)           [(None, 200, 111)]   0           []                               \n",
      "                                                                                                  \n",
      " conv1d (Conv1D)                (None, 100, 100)     22300       ['input_7[0][0]']                \n",
      "                                                                                                  \n",
      " input_8 (InputLayer)           [(None, None, 10)]   0           []                               \n",
      "                                                                                                  \n",
      " model_5 (Functional)           (None, None, 10)     2229010     ['conv1d[0][0]',                 \n",
      "                                                                  'input_8[0][0]']                \n",
      "                                                                                                  \n",
      "==================================================================================================\n",
      "Total params: 2,251,310\n",
      "Trainable params: 2,251,310\n",
      "Non-trainable params: 0\n",
      "__________________________________________________________________________________________________\n",
      "None\n",
      "Model: \"model_5\"\n",
      "__________________________________________________________________________________________________\n",
      " Layer (type)                   Output Shape         Param #     Connected to                     \n",
      "==================================================================================================\n",
      " input_9 (InputLayer)           [(None, 100, 100)]   0           []                               \n",
      "                                                                                                  \n",
      " input_8 (InputLayer)           [(None, None, 10)]   0           []                               \n",
      "                                                                                                  \n",
      " lstm_2 (LSTM)                  [(None, 500),        1202000     ['input_9[0][0]']                \n",
      "                                 (None, 500),                                                     \n",
      "                                 (None, 500)]                                                     \n",
      "                                                                                                  \n",
      " lstm_3 (LSTM)                  [(None, None, 500),  1022000     ['input_8[0][0]',                \n",
      "                                 (None, 500),                     'lstm_2[1][1]',                 \n",
      "                                 (None, 500)]                     'lstm_2[1][2]']                 \n",
      "                                                                                                  \n",
      " dense_1 (Dense)                (None, None, 10)     5010        ['lstm_3[1][0]']                 \n",
      "                                                                                                  \n",
      "==================================================================================================\n",
      "Total params: 2,229,010\n",
      "Trainable params: 2,229,010\n",
      "Non-trainable params: 0\n",
      "__________________________________________________________________________________________________\n",
      "None\n",
      "Model: \"model_9\"\n",
      "_________________________________________________________________\n",
      " Layer (type)                Output Shape              Param #   \n",
      "=================================================================\n",
      " input_7 (InputLayer)        [(None, 200, 111)]        0         \n",
      "                                                                 \n",
      " conv1d (Conv1D)             (None, 100, 100)          22300     \n",
      "                                                                 \n",
      " model_6 (Functional)        [(None, 500),             1202000   \n",
      "                              (None, 500)]                       \n",
      "                                                                 \n",
      "=================================================================\n",
      "Total params: 1,224,300\n",
      "Trainable params: 1,224,300\n",
      "Non-trainable params: 0\n",
      "_________________________________________________________________\n",
      "None\n",
      "Model: \"model_7\"\n",
      "__________________________________________________________________________________________________\n",
      " Layer (type)                   Output Shape         Param #     Connected to                     \n",
      "==================================================================================================\n",
      " input_8 (InputLayer)           [(None, None, 10)]   0           []                               \n",
      "                                                                                                  \n",
      " input_11 (InputLayer)          [(None, 500)]        0           []                               \n",
      "                                                                                                  \n",
      " input_12 (InputLayer)          [(None, 500)]        0           []                               \n",
      "                                                                                                  \n",
      " lstm_3 (LSTM)                  [(None, None, 500),  1022000     ['input_8[0][0]',                \n",
      "                                 (None, 500),                     'input_11[0][0]',               \n",
      "                                 (None, 500)]                     'input_12[0][0]']               \n",
      "                                                                                                  \n",
      " dense_1 (Dense)                (None, None, 10)     5010        ['lstm_3[2][0]']                 \n",
      "                                                                                                  \n",
      "==================================================================================================\n",
      "Total params: 1,027,010\n",
      "Trainable params: 1,027,010\n",
      "Non-trainable params: 0\n",
      "__________________________________________________________________________________________________\n",
      "None\n"
     ]
    }
   ],
   "source": [
    "print(training_model.summary())\n",
    "print(training_model.layers[-1].summary())\n",
    "print(inf_enc.summary())\n",
    "print(inf_dec.summary())"
   ]
  },
  {
   "cell_type": "code",
   "execution_count": 12,
   "metadata": {},
   "outputs": [],
   "source": [
    "training_model.compile(optimizer='rmsprop', loss=keras.losses.SparseCategoricalCrossentropy(), metrics=['accuracy'])"
   ]
  }
 ],
 "metadata": {
  "kernelspec": {
   "display_name": ".venv",
   "language": "python",
   "name": "python3"
  },
  "language_info": {
   "codemirror_mode": {
    "name": "ipython",
    "version": 3
   },
   "file_extension": ".py",
   "mimetype": "text/x-python",
   "name": "python",
   "nbconvert_exporter": "python",
   "pygments_lexer": "ipython3",
   "version": "3.10.5"
  },
  "orig_nbformat": 4,
  "vscode": {
   "interpreter": {
    "hash": "87761490c486e7b75ebbaa309bd4fee3d6c52b807a2e208e3ba9e3442704df3f"
   }
  }
 },
 "nbformat": 4,
 "nbformat_minor": 2
}
