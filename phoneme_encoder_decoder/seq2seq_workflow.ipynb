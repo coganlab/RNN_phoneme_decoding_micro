{
 "cells": [
  {
   "cell_type": "code",
   "execution_count": 1,
   "metadata": {},
   "outputs": [],
   "source": [
    "from seq2seq_models.rnn_models import lstm_1Dcnn_model, lstm_3Dcnn_model, gru_1Dcnn_model, gru_3Dcnn_model"
   ]
  },
  {
   "cell_type": "code",
   "execution_count": 2,
   "metadata": {},
   "outputs": [],
   "source": [
    "# model parameters\n",
    "n_output = 10\n",
    "n_input_time = 200\n",
    "n_input_channel = 111\n",
    "n_channel_x = 8\n",
    "n_channel_y = 16\n",
    "n_filters = 100\n",
    "filter_size = 5\n",
    "n_units = 500\n",
    "reg_lambda = 1e-5"
   ]
  },
  {
   "cell_type": "code",
   "execution_count": 4,
   "metadata": {},
   "outputs": [],
   "source": [
    "# training_model, inf_enc, inf_dec = lstm_1Dcnn_model(n_input_time, n_input_channel, n_output, n_filters, filter_size, n_units, reg_lambda)\n",
    "training_model, inf_enc, inf_dec = lstm_3Dcnn_model(n_input_time, n_channel_x, n_channel_y, n_output, n_filters, filter_size, n_units, reg_lambda)\n",
    "# training_model, inf_enc, inf_dec = gru_1Dcnn_model(n_input_time, n_input_channel, n_output, n_filters, filter_size, n_units, reg_lambda)"
   ]
  },
  {
   "cell_type": "code",
   "execution_count": 8,
   "metadata": {},
   "outputs": [
    {
     "name": "stdout",
     "output_type": "stream",
     "text": [
      "Model: \"model_3\"\n",
      "__________________________________________________________________________________________________\n",
      " Layer (type)                   Output Shape         Param #     Connected to                     \n",
      "==================================================================================================\n",
      " input_1 (InputLayer)           [(None, 200, 111)]   0           []                               \n",
      "                                                                                                  \n",
      " conv1d (Conv1D)                (None, 40, 100)      55600       ['input_1[0][0]']                \n",
      "                                                                                                  \n",
      " input_2 (InputLayer)           [(None, None, 10)]   0           []                               \n",
      "                                                                                                  \n",
      " model (Functional)             (None, None, 10)     1676010     ['conv1d[0][0]',                 \n",
      "                                                                  'input_2[0][0]']                \n",
      "                                                                                                  \n",
      "==================================================================================================\n",
      "Total params: 1,731,610\n",
      "Trainable params: 1,731,610\n",
      "Non-trainable params: 0\n",
      "__________________________________________________________________________________________________\n",
      "None\n",
      "Model: \"model\"\n",
      "__________________________________________________________________________________________________\n",
      " Layer (type)                   Output Shape         Param #     Connected to                     \n",
      "==================================================================================================\n",
      " input_3 (InputLayer)           [(None, 40, 100)]    0           []                               \n",
      "                                                                                                  \n",
      " input_2 (InputLayer)           [(None, None, 10)]   0           []                               \n",
      "                                                                                                  \n",
      " gru (GRU)                      [(None, 500),        903000      ['input_3[0][0]']                \n",
      "                                 (None, 500)]                                                     \n",
      "                                                                                                  \n",
      " gru_1 (GRU)                    [(None, None, 500),  768000      ['input_2[0][0]',                \n",
      "                                 (None, 500)]                     'gru[1][1]']                    \n",
      "                                                                                                  \n",
      " dense (Dense)                  (None, None, 10)     5010        ['gru_1[1][0]']                  \n",
      "                                                                                                  \n",
      "==================================================================================================\n",
      "Total params: 1,676,010\n",
      "Trainable params: 1,676,010\n",
      "Non-trainable params: 0\n",
      "__________________________________________________________________________________________________\n",
      "None\n",
      "Model: \"model_4\"\n",
      "_________________________________________________________________\n",
      " Layer (type)                Output Shape              Param #   \n",
      "=================================================================\n",
      " input_1 (InputLayer)        [(None, 200, 111)]        0         \n",
      "                                                                 \n",
      " conv1d (Conv1D)             (None, 40, 100)           55600     \n",
      "                                                                 \n",
      " model_1 (Functional)        (None, 500)               903000    \n",
      "                                                                 \n",
      "=================================================================\n",
      "Total params: 958,600\n",
      "Trainable params: 958,600\n",
      "Non-trainable params: 0\n",
      "_________________________________________________________________\n",
      "None\n",
      "Model: \"model_2\"\n",
      "__________________________________________________________________________________________________\n",
      " Layer (type)                   Output Shape         Param #     Connected to                     \n",
      "==================================================================================================\n",
      " input_2 (InputLayer)           [(None, None, 10)]   0           []                               \n",
      "                                                                                                  \n",
      " input_5 (InputLayer)           [(None, 500)]        0           []                               \n",
      "                                                                                                  \n",
      " gru_1 (GRU)                    [(None, None, 500),  768000      ['input_2[0][0]',                \n",
      "                                 (None, 500)]                     'input_5[0][0]']                \n",
      "                                                                                                  \n",
      " dense (Dense)                  (None, None, 10)     5010        ['gru_1[2][0]']                  \n",
      "                                                                                                  \n",
      "==================================================================================================\n",
      "Total params: 773,010\n",
      "Trainable params: 773,010\n",
      "Non-trainable params: 0\n",
      "__________________________________________________________________________________________________\n",
      "None\n"
     ]
    }
   ],
   "source": [
    "print(training_model.summary())\n",
    "print(training_model.layers[3].summary())\n",
    "print(inf_enc.summary())\n",
    "print(inf_dec.summary())"
   ]
  },
  {
   "cell_type": "code",
   "execution_count": null,
   "metadata": {},
   "outputs": [],
   "source": []
  }
 ],
 "metadata": {
  "kernelspec": {
   "display_name": ".venv",
   "language": "python",
   "name": "python3"
  },
  "language_info": {
   "codemirror_mode": {
    "name": "ipython",
    "version": 3
   },
   "file_extension": ".py",
   "mimetype": "text/x-python",
   "name": "python",
   "nbconvert_exporter": "python",
   "pygments_lexer": "ipython3",
   "version": "3.10.5"
  },
  "orig_nbformat": 4
 },
 "nbformat": 4,
 "nbformat_minor": 2
}
