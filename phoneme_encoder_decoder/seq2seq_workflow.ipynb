{
 "cells": [
  {
   "cell_type": "code",
   "execution_count": 1,
   "metadata": {},
   "outputs": [],
   "source": [
    "from seq2seq_models.rnn_models import lstm_1Dcnn_model, lstm_3Dcnn_model, gru_1Dcnn_model, gru_3Dcnn_model"
   ]
  },
  {
   "cell_type": "code",
   "execution_count": 2,
   "metadata": {},
   "outputs": [],
   "source": [
    "# model parameters\n",
    "n_output = 10\n",
    "n_input_time = 200\n",
    "n_input_channel = 111\n",
    "n_channel_x = 8\n",
    "n_channel_y = 16\n",
    "n_filters = 100\n",
    "filter_size = 5\n",
    "n_units = 500\n",
    "reg_lambda = 1e-5"
   ]
  },
  {
   "cell_type": "code",
   "execution_count": 3,
   "metadata": {},
   "outputs": [
    {
     "ename": "ValueError",
     "evalue": "Exception encountered when calling layer \"reshape\" (type Reshape).\n\ntotal size of new array must be unchanged, input_shape = [1, 3, 40, 100], output_shape = [3, 40]\n\nCall arguments received by layer \"reshape\" (type Reshape):\n  • inputs=tf.Tensor(shape=(None, 1, 3, 40, 100), dtype=float32)",
     "output_type": "error",
     "traceback": [
      "\u001b[1;31m---------------------------------------------------------------------------\u001b[0m",
      "\u001b[1;31mValueError\u001b[0m                                Traceback (most recent call last)",
      "Cell \u001b[1;32mIn[3], line 2\u001b[0m\n\u001b[0;32m      1\u001b[0m \u001b[39m# training_model, inf_enc, inf_dec = lstm_1Dcnn_model(n_input_time, n_input_channel, n_output, n_filters, filter_size, n_units, reg_lambda)\u001b[39;00m\n\u001b[1;32m----> 2\u001b[0m training_model, inf_enc, inf_dec \u001b[39m=\u001b[39m lstm_3Dcnn_model(n_input_time, n_channel_x, n_channel_y, n_output, n_filters, filter_size, n_units, reg_lambda)\n\u001b[0;32m      3\u001b[0m \u001b[39m# training_model, inf_enc, inf_dec = gru_1Dcnn_model(n_input_time, n_input_channel, n_output, n_filters, filter_size, n_units, reg_lambda)\u001b[39;00m\n",
      "File \u001b[1;32mc:\\Users\\spald\\Documents\\Duke\\Cogan_Lab\\RNN_phoneme_decoding_micro\\phoneme_encoder_decoder\\seq2seq_models\\rnn_models.py:84\u001b[0m, in \u001b[0;36mlstm_3Dcnn_model\u001b[1;34m(n_input_time, n_input_x, n_input_y, n_output, n_filters, filter_size, n_units, reg_lambda)\u001b[0m\n\u001b[0;32m     80\u001b[0m cnn_shape \u001b[39m=\u001b[39m cnn_layer\u001b[39m.\u001b[39moutput_shape\n\u001b[0;32m     81\u001b[0m reshape_layer \u001b[39m=\u001b[39m Reshape((cnn_shape[\u001b[39m2\u001b[39m], cnn_shape[\u001b[39m3\u001b[39m]),\n\u001b[0;32m     82\u001b[0m                         input_shape\u001b[39m=\u001b[39m(cnn_shape[\u001b[39m1\u001b[39m], cnn_shape[\u001b[39m2\u001b[39m],\n\u001b[0;32m     83\u001b[0m                                      cnn_shape[\u001b[39m3\u001b[39m]))\n\u001b[1;32m---> 84\u001b[0m encoder_inputs \u001b[39m=\u001b[39m reshape_layer(cnn_output)\n\u001b[0;32m     85\u001b[0m training_model, inf_enc_model, inf_dec_model \u001b[39m=\u001b[39m lstm_encoder_decoder_module(\n\u001b[0;32m     86\u001b[0m                               encoder_inputs, n_output, n_units,\n\u001b[0;32m     87\u001b[0m                               reg_lambda)\n\u001b[0;32m     89\u001b[0m \u001b[39m# add cnn layer to beginning of encoder-decoder LSTM\u001b[39;00m\n",
      "File \u001b[1;32mc:\\Users\\spald\\Documents\\Duke\\Cogan_Lab\\RNN_phoneme_decoding_micro\\.venv\\lib\\site-packages\\keras\\utils\\traceback_utils.py:70\u001b[0m, in \u001b[0;36mfilter_traceback.<locals>.error_handler\u001b[1;34m(*args, **kwargs)\u001b[0m\n\u001b[0;32m     67\u001b[0m     filtered_tb \u001b[39m=\u001b[39m _process_traceback_frames(e\u001b[39m.\u001b[39m__traceback__)\n\u001b[0;32m     68\u001b[0m     \u001b[39m# To get the full stack trace, call:\u001b[39;00m\n\u001b[0;32m     69\u001b[0m     \u001b[39m# `tf.debugging.disable_traceback_filtering()`\u001b[39;00m\n\u001b[1;32m---> 70\u001b[0m     \u001b[39mraise\u001b[39;00m e\u001b[39m.\u001b[39mwith_traceback(filtered_tb) \u001b[39mfrom\u001b[39;00m \u001b[39mNone\u001b[39m\n\u001b[0;32m     71\u001b[0m \u001b[39mfinally\u001b[39;00m:\n\u001b[0;32m     72\u001b[0m     \u001b[39mdel\u001b[39;00m filtered_tb\n",
      "File \u001b[1;32mc:\\Users\\spald\\Documents\\Duke\\Cogan_Lab\\RNN_phoneme_decoding_micro\\.venv\\lib\\site-packages\\keras\\layers\\reshaping\\reshape.py:118\u001b[0m, in \u001b[0;36mReshape._fix_unknown_dimension\u001b[1;34m(self, input_shape, output_shape)\u001b[0m\n\u001b[0;32m    116\u001b[0m     output_shape[unknown] \u001b[39m=\u001b[39m original \u001b[39m/\u001b[39m\u001b[39m/\u001b[39m known\n\u001b[0;32m    117\u001b[0m \u001b[39melif\u001b[39;00m original \u001b[39m!=\u001b[39m known:\n\u001b[1;32m--> 118\u001b[0m     \u001b[39mraise\u001b[39;00m \u001b[39mValueError\u001b[39;00m(msg)\n\u001b[0;32m    119\u001b[0m \u001b[39mreturn\u001b[39;00m output_shape\n",
      "\u001b[1;31mValueError\u001b[0m: Exception encountered when calling layer \"reshape\" (type Reshape).\n\ntotal size of new array must be unchanged, input_shape = [1, 3, 40, 100], output_shape = [3, 40]\n\nCall arguments received by layer \"reshape\" (type Reshape):\n  • inputs=tf.Tensor(shape=(None, 1, 3, 40, 100), dtype=float32)"
     ]
    }
   ],
   "source": [
    "# training_model, inf_enc, inf_dec = lstm_1Dcnn_model(n_input_time, n_input_channel, n_output, n_filters, filter_size, n_units, reg_lambda)\n",
    "training_model, inf_enc, inf_dec = lstm_3Dcnn_model(n_input_time, n_channel_x, n_channel_y, n_output, n_filters, filter_size, n_units, reg_lambda)\n",
    "# training_model, inf_enc, inf_dec = gru_1Dcnn_model(n_input_time, n_input_channel, n_output, n_filters, filter_size, n_units, reg_lambda)"
   ]
  },
  {
   "cell_type": "code",
   "execution_count": null,
   "metadata": {},
   "outputs": [
    {
     "name": "stdout",
     "output_type": "stream",
     "text": [
      "Model: \"model_3\"\n",
      "__________________________________________________________________________________________________\n",
      " Layer (type)                   Output Shape         Param #     Connected to                     \n",
      "==================================================================================================\n",
      " input_1 (InputLayer)           [(None, 200, 111)]   0           []                               \n",
      "                                                                                                  \n",
      " conv1d (Conv1D)                (None, 40, 100)      55600       ['input_1[0][0]']                \n",
      "                                                                                                  \n",
      " input_2 (InputLayer)           [(None, None, 10)]   0           []                               \n",
      "                                                                                                  \n",
      " model (Functional)             (None, None, 10)     1676010     ['conv1d[0][0]',                 \n",
      "                                                                  'input_2[0][0]']                \n",
      "                                                                                                  \n",
      "==================================================================================================\n",
      "Total params: 1,731,610\n",
      "Trainable params: 1,731,610\n",
      "Non-trainable params: 0\n",
      "__________________________________________________________________________________________________\n",
      "None\n",
      "Model: \"model\"\n",
      "__________________________________________________________________________________________________\n",
      " Layer (type)                   Output Shape         Param #     Connected to                     \n",
      "==================================================================================================\n",
      " input_3 (InputLayer)           [(None, 40, 100)]    0           []                               \n",
      "                                                                                                  \n",
      " input_2 (InputLayer)           [(None, None, 10)]   0           []                               \n",
      "                                                                                                  \n",
      " gru (GRU)                      [(None, 500),        903000      ['input_3[0][0]']                \n",
      "                                 (None, 500)]                                                     \n",
      "                                                                                                  \n",
      " gru_1 (GRU)                    [(None, None, 500),  768000      ['input_2[0][0]',                \n",
      "                                 (None, 500)]                     'gru[1][1]']                    \n",
      "                                                                                                  \n",
      " dense (Dense)                  (None, None, 10)     5010        ['gru_1[1][0]']                  \n",
      "                                                                                                  \n",
      "==================================================================================================\n",
      "Total params: 1,676,010\n",
      "Trainable params: 1,676,010\n",
      "Non-trainable params: 0\n",
      "__________________________________________________________________________________________________\n",
      "None\n",
      "Model: \"model_4\"\n",
      "_________________________________________________________________\n",
      " Layer (type)                Output Shape              Param #   \n",
      "=================================================================\n",
      " input_1 (InputLayer)        [(None, 200, 111)]        0         \n",
      "                                                                 \n",
      " conv1d (Conv1D)             (None, 40, 100)           55600     \n",
      "                                                                 \n",
      " model_1 (Functional)        (None, 500)               903000    \n",
      "                                                                 \n",
      "=================================================================\n",
      "Total params: 958,600\n",
      "Trainable params: 958,600\n",
      "Non-trainable params: 0\n",
      "_________________________________________________________________\n",
      "None\n",
      "Model: \"model_2\"\n",
      "__________________________________________________________________________________________________\n",
      " Layer (type)                   Output Shape         Param #     Connected to                     \n",
      "==================================================================================================\n",
      " input_2 (InputLayer)           [(None, None, 10)]   0           []                               \n",
      "                                                                                                  \n",
      " input_5 (InputLayer)           [(None, 500)]        0           []                               \n",
      "                                                                                                  \n",
      " gru_1 (GRU)                    [(None, None, 500),  768000      ['input_2[0][0]',                \n",
      "                                 (None, 500)]                     'input_5[0][0]']                \n",
      "                                                                                                  \n",
      " dense (Dense)                  (None, None, 10)     5010        ['gru_1[2][0]']                  \n",
      "                                                                                                  \n",
      "==================================================================================================\n",
      "Total params: 773,010\n",
      "Trainable params: 773,010\n",
      "Non-trainable params: 0\n",
      "__________________________________________________________________________________________________\n",
      "None\n"
     ]
    }
   ],
   "source": [
    "print(training_model.summary())\n",
    "print(training_model.layers[3].summary())\n",
    "print(inf_enc.summary())\n",
    "print(inf_dec.summary())"
   ]
  },
  {
   "cell_type": "code",
   "execution_count": null,
   "metadata": {},
   "outputs": [],
   "source": []
  }
 ],
 "metadata": {
  "kernelspec": {
   "display_name": ".venv",
   "language": "python",
   "name": "python3"
  },
  "language_info": {
   "codemirror_mode": {
    "name": "ipython",
    "version": 3
   },
   "file_extension": ".py",
   "mimetype": "text/x-python",
   "name": "python",
   "nbconvert_exporter": "python",
   "pygments_lexer": "ipython3",
   "version": "3.9.1"
  },
  "orig_nbformat": 4,
  "vscode": {
   "interpreter": {
    "hash": "87761490c486e7b75ebbaa309bd4fee3d6c52b807a2e208e3ba9e3442704df3f"
   }
  }
 },
 "nbformat": 4,
 "nbformat_minor": 2
}
