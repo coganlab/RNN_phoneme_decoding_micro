{
 "cells": [
  {
   "cell_type": "code",
   "execution_count": 1,
   "metadata": {},
   "outputs": [],
   "source": [
    "from tensorflow import keras\n",
    "from seq2seq_models.rnn_models import lstm_1Dcnn_model, lstm_3Dcnn_model, gru_1Dcnn_model, gru_3Dcnn_model"
   ]
  },
  {
   "cell_type": "code",
   "execution_count": 2,
   "metadata": {},
   "outputs": [],
   "source": [
    "# model parameters\n",
    "n_output = 10 # 9 phonemes + 1 blank\n",
    "n_input_time = 200 # 1 second length neural data at 200 Hz\n",
    "n_input_channel = 111 # number of significant HG channels (of 128)\n",
    "n_channel_x = 8 # number of electrode columns (8x16 grid = 128 channels)\n",
    "n_channel_y = 16 # number of electrode rows (8x16 grid = 128 channels)\n",
    "n_filters = 100\n",
    "filter_size = 2\n",
    "n_units = 500 # number of units in LSTM/GRU layers\n",
    "reg_lambda = 1e-5"
   ]
  },
  {
   "cell_type": "code",
   "execution_count": 9,
   "metadata": {},
   "outputs": [],
   "source": [
    "# training_model, inf_enc, inf_dec = lstm_1Dcnn_model(n_input_time, n_input_channel, n_output, n_filters, filter_size, n_units, reg_lambda)\n",
    "# training_model, inf_enc, inf_dec = lstm_3Dcnn_model(n_input_time, n_channel_x, n_channel_y, n_output, n_filters, filter_size, n_units, reg_lambda)\n",
    "# training_model, inf_enc, inf_dec = gru_1Dcnn_model(n_input_time, n_input_channel, n_output, n_filters, filter_size, n_units, reg_lambda)\n",
    "training_model, inf_enc, inf_dec = gru_3Dcnn_model(n_input_time, n_channel_x, n_channel_y, n_output, n_filters, filter_size, n_units, reg_lambda)"
   ]
  },
  {
   "cell_type": "code",
   "execution_count": 10,
   "metadata": {},
   "outputs": [
    {
     "name": "stdout",
     "output_type": "stream",
     "text": [
      "Model: \"training_model_final\"\n",
      "__________________________________________________________________________________________________\n",
      " Layer (type)                   Output Shape         Param #     Connected to                     \n",
      "==================================================================================================\n",
      " input_12 (InputLayer)          [(None, 8, 16, 200,  0           []                               \n",
      "                                 1)]                                                              \n",
      "                                                                                                  \n",
      " conv3d_1 (Conv3D)              (None, 4, 8, 100, 1  900         ['input_12[0][0]']               \n",
      "                                00)                                                               \n",
      "                                                                                                  \n",
      " permute_1 (Permute)            (None, 100, 4, 8, 1  0           ['conv3d_1[0][0]']               \n",
      "                                00)                                                               \n",
      "                                                                                                  \n",
      " reshape_1 (Reshape)            (None, 100, 3200)    0           ['permute_1[0][0]']              \n",
      "                                                                                                  \n",
      " input_13 (InputLayer)          [(None, None, 10)]   0           []                               \n",
      "                                                                                                  \n",
      " training_initial (Functional)  (None, None, 10)     6326010     ['reshape_1[0][0]',              \n",
      "                                                                  'input_13[0][0]']               \n",
      "                                                                                                  \n",
      "==================================================================================================\n",
      "Total params: 6,326,910\n",
      "Trainable params: 6,326,910\n",
      "Non-trainable params: 0\n",
      "__________________________________________________________________________________________________\n",
      "None\n",
      "Model: \"training_initial\"\n",
      "__________________________________________________________________________________________________\n",
      " Layer (type)                   Output Shape         Param #     Connected to                     \n",
      "==================================================================================================\n",
      " input_14 (InputLayer)          [(None, 100, 3200)]  0           []                               \n",
      "                                                                                                  \n",
      " input_13 (InputLayer)          [(None, None, 10)]   0           []                               \n",
      "                                                                                                  \n",
      " gru_2 (GRU)                    [(None, 500),        5553000     ['input_14[0][0]']               \n",
      "                                 (None, 500)]                                                     \n",
      "                                                                                                  \n",
      " gru_3 (GRU)                    [(None, None, 500),  768000      ['input_13[0][0]',               \n",
      "                                 (None, 500)]                     'gru_2[1][1]']                  \n",
      "                                                                                                  \n",
      " dense_2 (Dense)                (None, None, 10)     5010        ['gru_3[1][0]']                  \n",
      "                                                                                                  \n",
      "==================================================================================================\n",
      "Total params: 6,326,010\n",
      "Trainable params: 6,326,010\n",
      "Non-trainable params: 0\n",
      "__________________________________________________________________________________________________\n",
      "None\n",
      "Model: \"inf_enc_model_final\"\n",
      "_________________________________________________________________\n",
      " Layer (type)                Output Shape              Param #   \n",
      "=================================================================\n",
      " input_12 (InputLayer)       [(None, 8, 16, 200, 1)]   0         \n",
      "                                                                 \n",
      " conv3d_1 (Conv3D)           (None, 4, 8, 100, 100)    900       \n",
      "                                                                 \n",
      " permute_1 (Permute)         (None, 100, 4, 8, 100)    0         \n",
      "                                                                 \n",
      " reshape_1 (Reshape)         (None, 100, 3200)         0         \n",
      "                                                                 \n",
      " inf_enc_initial (Functional  (None, 500)              5553000   \n",
      " )                                                               \n",
      "                                                                 \n",
      "=================================================================\n",
      "Total params: 5,553,900\n",
      "Trainable params: 5,553,900\n",
      "Non-trainable params: 0\n",
      "_________________________________________________________________\n",
      "None\n",
      "Model: \"inf_dec\"\n",
      "__________________________________________________________________________________________________\n",
      " Layer (type)                   Output Shape         Param #     Connected to                     \n",
      "==================================================================================================\n",
      " input_13 (InputLayer)          [(None, None, 10)]   0           []                               \n",
      "                                                                                                  \n",
      " input_16 (InputLayer)          [(None, 500)]        0           []                               \n",
      "                                                                                                  \n",
      " gru_3 (GRU)                    [(None, None, 500),  768000      ['input_13[0][0]',               \n",
      "                                 (None, 500)]                     'input_16[0][0]']               \n",
      "                                                                                                  \n",
      " dense_2 (Dense)                (None, None, 10)     5010        ['gru_3[2][0]']                  \n",
      "                                                                                                  \n",
      "==================================================================================================\n",
      "Total params: 773,010\n",
      "Trainable params: 773,010\n",
      "Non-trainable params: 0\n",
      "__________________________________________________________________________________________________\n",
      "None\n"
     ]
    }
   ],
   "source": [
    "print(training_model.summary())\n",
    "print(training_model.layers[-1].summary())\n",
    "print(inf_enc.summary())\n",
    "print(inf_dec.summary())"
   ]
  },
  {
   "cell_type": "code",
   "execution_count": 11,
   "metadata": {},
   "outputs": [],
   "source": [
    "training_model.compile(optimizer='rmsprop', loss=keras.losses.SparseCategoricalCrossentropy(), metrics=['accuracy'])"
   ]
  }
 ],
 "metadata": {
  "kernelspec": {
   "display_name": ".venv",
   "language": "python",
   "name": "python3"
  },
  "language_info": {
   "codemirror_mode": {
    "name": "ipython",
    "version": 3
   },
   "file_extension": ".py",
   "mimetype": "text/x-python",
   "name": "python",
   "nbconvert_exporter": "python",
   "pygments_lexer": "ipython3",
   "version": "3.10.5"
  },
  "orig_nbformat": 4,
  "vscode": {
   "interpreter": {
    "hash": "87761490c486e7b75ebbaa309bd4fee3d6c52b807a2e208e3ba9e3442704df3f"
   }
  }
 },
 "nbformat": 4,
 "nbformat_minor": 2
}
